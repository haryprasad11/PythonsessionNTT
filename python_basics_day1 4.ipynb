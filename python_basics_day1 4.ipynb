{
  "nbformat": 4,
  "nbformat_minor": 0,
  "metadata": {
    "colab": {
      "provenance": [],
      "include_colab_link": true
    },
    "kernelspec": {
      "name": "python3",
      "display_name": "Python 3"
    },
    "language_info": {
      "name": "python"
    }
  },
  "cells": [
    {
      "cell_type": "markdown",
      "metadata": {
        "id": "view-in-github",
        "colab_type": "text"
      },
      "source": [
        "<a href=\"https://colab.research.google.com/github/haryprasad11/PythonsessionNTT/blob/main/python_basics_day1%204.ipynb\" target=\"_parent\"><img src=\"https://colab.research.google.com/assets/colab-badge.svg\" alt=\"Open In Colab\"/></a>"
      ]
    },
    {
      "cell_type": "code",
      "execution_count": null,
      "metadata": {
        "colab": {
          "base_uri": "https://localhost:8080/",
          "height": 141
        },
        "id": "fooBKl8FmcO4",
        "outputId": "2c2d67e8-e943-4afd-d46b-1b04919f4960"
      },
      "outputs": [
        {
          "output_type": "error",
          "ename": "NameError",
          "evalue": "name 'prit' is not defined",
          "traceback": [
            "\u001b[0;31m---------------------------------------------------------------------------\u001b[0m",
            "\u001b[0;31mNameError\u001b[0m                                 Traceback (most recent call last)",
            "\u001b[0;32m<ipython-input-3-db6dda56cc4d>\u001b[0m in \u001b[0;36m<cell line: 0>\u001b[0;34m()\u001b[0m\n\u001b[0;32m----> 1\u001b[0;31m \u001b[0mprit\u001b[0m\u001b[0;34m(\u001b[0m\u001b[0;34m\"welcome to Python world\"\u001b[0m\u001b[0;34m)\u001b[0m\u001b[0;34m\u001b[0m\u001b[0;34m\u001b[0m\u001b[0m\n\u001b[0m",
            "\u001b[0;31mNameError\u001b[0m: name 'prit' is not defined"
          ]
        }
      ],
      "source": [
        "prit(\"welcome to Python world\")"
      ]
    },
    {
      "cell_type": "code",
      "source": [
        "print(\"Hello Hari !!!\")"
      ],
      "metadata": {
        "colab": {
          "base_uri": "https://localhost:8080/"
        },
        "id": "nfPTVWPCy8MV",
        "outputId": "f1142ce2-d6a3-49dd-d938-3806e383d296"
      },
      "execution_count": 1,
      "outputs": [
        {
          "output_type": "stream",
          "name": "stdout",
          "text": [
            "Hello Hari !!!\n"
          ]
        }
      ]
    },
    {
      "cell_type": "code",
      "source": [],
      "metadata": {
        "id": "G5AKXP2t8THg"
      },
      "execution_count": null,
      "outputs": []
    },
    {
      "cell_type": "code",
      "source": [
        "2+3"
      ],
      "metadata": {
        "colab": {
          "base_uri": "https://localhost:8080/"
        },
        "id": "456iibnZml4b",
        "outputId": "98005d39-dad6-427f-90f5-a6fad527d64b"
      },
      "execution_count": null,
      "outputs": [
        {
          "output_type": "execute_result",
          "data": {
            "text/plain": [
              "5"
            ]
          },
          "metadata": {},
          "execution_count": 2
        }
      ]
    },
    {
      "cell_type": "markdown",
      "source": [
        "Day 2 session  12/03/2025"
      ],
      "metadata": {
        "id": "pkzdXYgqx2oI"
      }
    },
    {
      "cell_type": "code",
      "source": [
        "#dynamic programming\n",
        "a = 10\n",
        "print(a)\n",
        "print(id(a))\n",
        "\n",
        "a =3.14\n",
        "print(a)\n",
        "print(id(a))\n",
        "\n",
        "\n"
      ],
      "metadata": {
        "colab": {
          "base_uri": "https://localhost:8080/"
        },
        "id": "qtH3_4l1xmZV",
        "outputId": "fb476fb4-6038-430e-848e-26c90cfdba8b"
      },
      "execution_count": 1,
      "outputs": [
        {
          "output_type": "stream",
          "name": "stdout",
          "text": [
            "10\n",
            "10751144\n",
            "3.14\n",
            "135692426203216\n"
          ]
        }
      ]
    },
    {
      "cell_type": "code",
      "source": [
        "#deleting variable\n",
        "a =20\n",
        "print(a)\n",
        "\n",
        "del a\n",
        "\n",
        "print(a)"
      ],
      "metadata": {
        "colab": {
          "base_uri": "https://localhost:8080/",
          "height": 193
        },
        "id": "_EZVJ39NyF9Y",
        "outputId": "fcd21641-9488-4a63-b15f-4010d86d9852"
      },
      "execution_count": 3,
      "outputs": [
        {
          "output_type": "stream",
          "name": "stdout",
          "text": [
            "20\n"
          ]
        },
        {
          "output_type": "error",
          "ename": "NameError",
          "evalue": "name 'a' is not defined",
          "traceback": [
            "\u001b[0;31m---------------------------------------------------------------------------\u001b[0m",
            "\u001b[0;31mNameError\u001b[0m                                 Traceback (most recent call last)",
            "\u001b[0;32m<ipython-input-3-1481cb8647d3>\u001b[0m in \u001b[0;36m<cell line: 0>\u001b[0;34m()\u001b[0m\n\u001b[1;32m      5\u001b[0m \u001b[0;32mdel\u001b[0m \u001b[0ma\u001b[0m\u001b[0;34m\u001b[0m\u001b[0;34m\u001b[0m\u001b[0m\n\u001b[1;32m      6\u001b[0m \u001b[0;34m\u001b[0m\u001b[0m\n\u001b[0;32m----> 7\u001b[0;31m \u001b[0mprint\u001b[0m\u001b[0;34m(\u001b[0m\u001b[0ma\u001b[0m\u001b[0;34m)\u001b[0m\u001b[0;34m\u001b[0m\u001b[0;34m\u001b[0m\u001b[0m\n\u001b[0m",
            "\u001b[0;31mNameError\u001b[0m: name 'a' is not defined"
          ]
        }
      ]
    },
    {
      "cell_type": "code",
      "source": [
        "#creating multiple variables in one go\n",
        "\n",
        "a,b,c = 10, 3.14, \"NTT\"\n",
        "\n",
        "print(a)\n",
        "print(b)\n",
        "print(c)\n"
      ],
      "metadata": {
        "colab": {
          "base_uri": "https://localhost:8080/"
        },
        "id": "-iitly2F0hwa",
        "outputId": "4f6bf73c-7152-453c-b046-ac254a4738e3"
      },
      "execution_count": 4,
      "outputs": [
        {
          "output_type": "stream",
          "name": "stdout",
          "text": [
            "10\n",
            "3.14\n",
            "NTT\n"
          ]
        }
      ]
    },
    {
      "cell_type": "code",
      "source": [
        "#assign single value to multiple variable\n",
        "a=b=c= 100\n",
        "\n",
        "print(a)\n",
        "print(b)\n",
        "print(c)"
      ],
      "metadata": {
        "colab": {
          "base_uri": "https://localhost:8080/"
        },
        "id": "ybVhf4G81GaG",
        "outputId": "7614acf7-0491-4511-84ea-4a2d488948ba"
      },
      "execution_count": 5,
      "outputs": [
        {
          "output_type": "stream",
          "name": "stdout",
          "text": [
            "100\n",
            "100\n",
            "100\n"
          ]
        }
      ]
    },
    {
      "cell_type": "code",
      "source": [
        "#annotation\n",
        "\n",
        "a:int = 10\n",
        "b:float = 3.14\n",
        "c:str = \"NTT\"\n",
        "\n",
        "print(a, b, c)\n",
        "print (__annotations__['a'])\n",
        "print(__annotations__['b'])\n",
        "print(__annotations__['c'])\n"
      ],
      "metadata": {
        "colab": {
          "base_uri": "https://localhost:8080/"
        },
        "id": "0MfRXher1vjy",
        "outputId": "a762b835-3593-430b-fe1f-31837b86d696"
      },
      "execution_count": 6,
      "outputs": [
        {
          "output_type": "stream",
          "name": "stdout",
          "text": [
            "10 3.14 NTT\n",
            "<class 'int'>\n"
          ]
        }
      ]
    },
    {
      "cell_type": "code",
      "source": [
        "import keyword\n",
        "print(keyword.kwlist)\n",
        "print(len(keyword.kwlist))\n"
      ],
      "metadata": {
        "colab": {
          "base_uri": "https://localhost:8080/"
        },
        "id": "m_1DKLa73O5s",
        "outputId": "0216ec72-f437-46b4-ca49-25f247f29483"
      },
      "execution_count": 7,
      "outputs": [
        {
          "output_type": "stream",
          "name": "stdout",
          "text": [
            "['False', 'None', 'True', 'and', 'as', 'assert', 'async', 'await', 'break', 'class', 'continue', 'def', 'del', 'elif', 'else', 'except', 'finally', 'for', 'from', 'global', 'if', 'import', 'in', 'is', 'lambda', 'nonlocal', 'not', 'or', 'pass', 'raise', 'return', 'try', 'while', 'with', 'yield']\n",
            "35\n"
          ]
        }
      ]
    },
    {
      "cell_type": "code",
      "source": [
        "#multiple line comments\n",
        "\"\"\" this is used for multiple line comments\n",
        "as used same as\n",
        "for 10 lines \"\"\"\n",
        "\n",
        "\n",
        "\n",
        "#strings using slice\n",
        "\n",
        "name = \"Code yug\"\n",
        "\n",
        "print(name[0:3:1])\n",
        "#cod will be printed (0 is start position , 3 is the stop position , 1 is set)\n",
        "\n",
        "\n",
        "\n",
        "\n"
      ],
      "metadata": {
        "colab": {
          "base_uri": "https://localhost:8080/"
        },
        "id": "esYqGgCu3er3",
        "outputId": "8ee1dae6-636a-44a9-f98c-02d004ad236a"
      },
      "execution_count": 8,
      "outputs": [
        {
          "output_type": "stream",
          "name": "stdout",
          "text": [
            "Cod\n"
          ]
        }
      ]
    },
    {
      "cell_type": "code",
      "source": [
        "name = \"code yug\"\n",
        "\n",
        "print(name[2:4])\n"
      ],
      "metadata": {
        "colab": {
          "base_uri": "https://localhost:8080/"
        },
        "id": "0i8y6DzkDe63",
        "outputId": "cb0d60ee-6463-4269-e21a-fdc0b3d427b4"
      },
      "execution_count": 9,
      "outputs": [
        {
          "output_type": "stream",
          "name": "stdout",
          "text": [
            "de\n"
          ]
        }
      ]
    },
    {
      "cell_type": "code",
      "source": [
        "#slicing   Positive indexing\n",
        "\n",
        "#this will start from left tp right\n",
        "\n",
        "#[small: big : +]\n",
        "\n",
        "s ='bangalore'\n",
        "print(s[0:7:1])\n",
        "\n",
        "print(s[0:8:3])\n",
        "\n",
        "print(s[0::1])\n",
        "\n",
        "print(s[:5:1]) #1-1 0 skipping nothing\n",
        "\n",
        "print(s[0:5:])\n",
        "\n",
        "print(s[::])\n",
        "\n",
        "print(s[0:5:2]) #2-1 skipping 1 box\n",
        "\n",
        "print(s[:4])\n",
        "\n",
        "print(s[::])\n",
        "\n",
        "print(s[0::3])  #3-1 skipping 2 boxes in indexing\n",
        "\n",
        "print(s[0:0:1])  #2nd value shold be always greater than 1\n",
        "\n"
      ],
      "metadata": {
        "colab": {
          "base_uri": "https://localhost:8080/"
        },
        "id": "KT8MSm6rD1K_",
        "outputId": "11a7f2d8-8b1a-4015-ee61-7da0933d766e"
      },
      "execution_count": 18,
      "outputs": [
        {
          "output_type": "stream",
          "name": "stdout",
          "text": [
            "bangalo\n",
            "bgo\n",
            "bangalore\n",
            "banga\n",
            "banga\n",
            "bangalore\n",
            "bna\n",
            "bang\n",
            "bangalore\n",
            "bgo\n",
            "\n"
          ]
        }
      ]
    },
    {
      "cell_type": "code",
      "source": [
        "print(s[0:0:1])  #no out put for this cause 2nd value cannot be zero\n",
        "\n"
      ],
      "metadata": {
        "colab": {
          "base_uri": "https://localhost:8080/"
        },
        "id": "LXxNNUEpHi11",
        "outputId": "319b0ac2-5223-41bd-81ef-d427d06f05d2"
      },
      "execution_count": 19,
      "outputs": [
        {
          "output_type": "stream",
          "name": "stdout",
          "text": [
            "\n"
          ]
        }
      ]
    },
    {
      "cell_type": "code",
      "source": [
        "#negative slicing\n",
        "# indexing will start from right to left\n",
        "\n",
        "name = 'bangalore'\n",
        "\n",
        "print(name[-1:-4:-1])  #here when we trying to indexing for negative we will be adding 1\n",
        "#-1+1 = 0, for the ending, -4+1 = -3 is the value for second value\n",
        "print(name[-1:-8:-2])  #[big : smaller no: -]\n",
        "\n",
        "print(name[-1:-5:-2])\n",
        "\n"
      ],
      "metadata": {
        "colab": {
          "base_uri": "https://localhost:8080/"
        },
        "id": "pktHo02AIT9U",
        "outputId": "4d8f57d7-1fb6-46f3-fbb4-0be5a4cbcb48"
      },
      "execution_count": 23,
      "outputs": [
        {
          "output_type": "stream",
          "name": "stdout",
          "text": [
            "ero\n",
            "eoan\n",
            "eo\n"
          ]
        }
      ]
    },
    {
      "cell_type": "code",
      "source": [
        "#handle positive and negative indexing\n",
        "name = 'code yug'\n",
        "print(name[-2:-6:2])  #when you specify the positive index value the index will start from left to right\n",
        "#here -2 value is u from to right hand side to it\n",
        "\n",
        "# third parameter is the decision maker in whether the indexing should go postive or negative\n",
        "\n",
        "print(name[-1::-1]) # second parameter is missing which means complete strng\n",
        "\n",
        "string = \"Hello, World!\"\n",
        "print(string[7:12])\n",
        "\n",
        "print(string[:5])\n",
        "\n",
        "print(string[-6:-1]) #third parameter is mssing which means postive indexing\n",
        "#for positive [small:bigger : -] so indexing from left side from -6 to -2\n",
        "\n",
        "\n",
        "\n",
        "\n",
        "\n",
        "\n",
        "\n",
        "\n"
      ],
      "metadata": {
        "colab": {
          "base_uri": "https://localhost:8080/"
        },
        "id": "hRXWCbL0KQ1r",
        "outputId": "e2904ae8-919a-4ecc-b267-43bd7ae2d827"
      },
      "execution_count": 31,
      "outputs": [
        {
          "output_type": "stream",
          "name": "stdout",
          "text": [
            "\n",
            "guy edoc\n",
            "World\n",
            "Hello\n",
            "World\n"
          ]
        }
      ]
    }
  ]
}