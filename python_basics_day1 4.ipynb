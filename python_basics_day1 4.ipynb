{
  "nbformat": 4,
  "nbformat_minor": 0,
  "metadata": {
    "colab": {
      "provenance": []
    },
    "kernelspec": {
      "name": "python3",
      "display_name": "Python 3"
    },
    "language_info": {
      "name": "python"
    }
  },
  "cells": [
    {
      "cell_type": "code",
      "execution_count": null,
      "metadata": {
        "colab": {
          "base_uri": "https://localhost:8080/",
          "height": 141
        },
        "id": "fooBKl8FmcO4",
        "outputId": "2c2d67e8-e943-4afd-d46b-1b04919f4960"
      },
      "outputs": [
        {
          "output_type": "error",
          "ename": "NameError",
          "evalue": "name 'prit' is not defined",
          "traceback": [
            "\u001b[0;31m---------------------------------------------------------------------------\u001b[0m",
            "\u001b[0;31mNameError\u001b[0m                                 Traceback (most recent call last)",
            "\u001b[0;32m<ipython-input-3-db6dda56cc4d>\u001b[0m in \u001b[0;36m<cell line: 0>\u001b[0;34m()\u001b[0m\n\u001b[0;32m----> 1\u001b[0;31m \u001b[0mprit\u001b[0m\u001b[0;34m(\u001b[0m\u001b[0;34m\"welcome to Python world\"\u001b[0m\u001b[0;34m)\u001b[0m\u001b[0;34m\u001b[0m\u001b[0;34m\u001b[0m\u001b[0m\n\u001b[0m",
            "\u001b[0;31mNameError\u001b[0m: name 'prit' is not defined"
          ]
        }
      ],
      "source": [
        "prit(\"welcome to Python world\")"
      ]
    },
    {
      "cell_type": "code",
      "source": [
        "print(\"Hello Hari !!!\")"
      ],
      "metadata": {
        "colab": {
          "base_uri": "https://localhost:8080/"
        },
        "id": "nfPTVWPCy8MV",
        "outputId": "f1142ce2-d6a3-49dd-d938-3806e383d296"
      },
      "execution_count": 1,
      "outputs": [
        {
          "output_type": "stream",
          "name": "stdout",
          "text": [
            "Hello Hari !!!\n"
          ]
        }
      ]
    },
    {
      "cell_type": "code",
      "source": [],
      "metadata": {
        "id": "G5AKXP2t8THg"
      },
      "execution_count": null,
      "outputs": []
    },
    {
      "cell_type": "code",
      "source": [
        "2+3"
      ],
      "metadata": {
        "colab": {
          "base_uri": "https://localhost:8080/"
        },
        "id": "456iibnZml4b",
        "outputId": "98005d39-dad6-427f-90f5-a6fad527d64b"
      },
      "execution_count": null,
      "outputs": [
        {
          "output_type": "execute_result",
          "data": {
            "text/plain": [
              "5"
            ]
          },
          "metadata": {},
          "execution_count": 2
        }
      ]
    },
    {
      "cell_type": "markdown",
      "source": [
        "Day 2 session  12/03/2025"
      ],
      "metadata": {
        "id": "pkzdXYgqx2oI"
      }
    },
    {
      "cell_type": "code",
      "source": [
        "#dynamic programming\n",
        "a = 10\n",
        "print(a)\n",
        "print(id(a))\n",
        "\n",
        "a =3.14\n",
        "print(a)\n",
        "print(id(a))\n",
        "\n",
        "\n"
      ],
      "metadata": {
        "colab": {
          "base_uri": "https://localhost:8080/"
        },
        "id": "qtH3_4l1xmZV",
        "outputId": "fb476fb4-6038-430e-848e-26c90cfdba8b"
      },
      "execution_count": 1,
      "outputs": [
        {
          "output_type": "stream",
          "name": "stdout",
          "text": [
            "10\n",
            "10751144\n",
            "3.14\n",
            "135692426203216\n"
          ]
        }
      ]
    },
    {
      "cell_type": "code",
      "source": [
        "#deleting variable\n",
        "a =20\n",
        "print(a)\n",
        "\n",
        "del a\n",
        "\n",
        "print(a)"
      ],
      "metadata": {
        "colab": {
          "base_uri": "https://localhost:8080/",
          "height": 193
        },
        "id": "_EZVJ39NyF9Y",
        "outputId": "fcd21641-9488-4a63-b15f-4010d86d9852"
      },
      "execution_count": 3,
      "outputs": [
        {
          "output_type": "stream",
          "name": "stdout",
          "text": [
            "20\n"
          ]
        },
        {
          "output_type": "error",
          "ename": "NameError",
          "evalue": "name 'a' is not defined",
          "traceback": [
            "\u001b[0;31m---------------------------------------------------------------------------\u001b[0m",
            "\u001b[0;31mNameError\u001b[0m                                 Traceback (most recent call last)",
            "\u001b[0;32m<ipython-input-3-1481cb8647d3>\u001b[0m in \u001b[0;36m<cell line: 0>\u001b[0;34m()\u001b[0m\n\u001b[1;32m      5\u001b[0m \u001b[0;32mdel\u001b[0m \u001b[0ma\u001b[0m\u001b[0;34m\u001b[0m\u001b[0;34m\u001b[0m\u001b[0m\n\u001b[1;32m      6\u001b[0m \u001b[0;34m\u001b[0m\u001b[0m\n\u001b[0;32m----> 7\u001b[0;31m \u001b[0mprint\u001b[0m\u001b[0;34m(\u001b[0m\u001b[0ma\u001b[0m\u001b[0;34m)\u001b[0m\u001b[0;34m\u001b[0m\u001b[0;34m\u001b[0m\u001b[0m\n\u001b[0m",
            "\u001b[0;31mNameError\u001b[0m: name 'a' is not defined"
          ]
        }
      ]
    },
    {
      "cell_type": "code",
      "source": [
        "#creating multiple variables in one go\n",
        "\n",
        "a,b,c = 10, 3.14, \"NTT\"\n",
        "\n",
        "print(a)\n",
        "print(b)\n",
        "print(c)\n"
      ],
      "metadata": {
        "colab": {
          "base_uri": "https://localhost:8080/"
        },
        "id": "-iitly2F0hwa",
        "outputId": "4f6bf73c-7152-453c-b046-ac254a4738e3"
      },
      "execution_count": 4,
      "outputs": [
        {
          "output_type": "stream",
          "name": "stdout",
          "text": [
            "10\n",
            "3.14\n",
            "NTT\n"
          ]
        }
      ]
    },
    {
      "cell_type": "code",
      "source": [
        "#assign single value to multiple variable\n",
        "a=b=c= 100\n",
        "\n",
        "print(a)\n",
        "print(b)\n",
        "print(c)"
      ],
      "metadata": {
        "colab": {
          "base_uri": "https://localhost:8080/"
        },
        "id": "ybVhf4G81GaG",
        "outputId": "7614acf7-0491-4511-84ea-4a2d488948ba"
      },
      "execution_count": 5,
      "outputs": [
        {
          "output_type": "stream",
          "name": "stdout",
          "text": [
            "100\n",
            "100\n",
            "100\n"
          ]
        }
      ]
    },
    {
      "cell_type": "code",
      "source": [
        "#annotation\n",
        "\n",
        "a:int = 10\n",
        "b:float = 3.14\n",
        "c:str = \"NTT\"\n",
        "\n",
        "print(a, b, c)\n",
        "print (__annotations__['a'])\n",
        "print(__annotations__['b'])\n",
        "print(__annotations__['c'])\n"
      ],
      "metadata": {
        "colab": {
          "base_uri": "https://localhost:8080/"
        },
        "id": "0MfRXher1vjy",
        "outputId": "a762b835-3593-430b-fe1f-31837b86d696"
      },
      "execution_count": 6,
      "outputs": [
        {
          "output_type": "stream",
          "name": "stdout",
          "text": [
            "10 3.14 NTT\n",
            "<class 'int'>\n"
          ]
        }
      ]
    },
    {
      "cell_type": "code",
      "source": [
        "import keyword\n",
        "print(keyword.kwlist)\n",
        "print(len(keyword.kwlist))\n"
      ],
      "metadata": {
        "colab": {
          "base_uri": "https://localhost:8080/"
        },
        "id": "m_1DKLa73O5s",
        "outputId": "0216ec72-f437-46b4-ca49-25f247f29483"
      },
      "execution_count": 7,
      "outputs": [
        {
          "output_type": "stream",
          "name": "stdout",
          "text": [
            "['False', 'None', 'True', 'and', 'as', 'assert', 'async', 'await', 'break', 'class', 'continue', 'def', 'del', 'elif', 'else', 'except', 'finally', 'for', 'from', 'global', 'if', 'import', 'in', 'is', 'lambda', 'nonlocal', 'not', 'or', 'pass', 'raise', 'return', 'try', 'while', 'with', 'yield']\n",
            "35\n"
          ]
        }
      ]
    },
    {
      "cell_type": "code",
      "source": [
        "#multiple line comments\n",
        "\"\"\" this is used for multiple line comments\n",
        "as used same as\n",
        "for 10 lines \"\"\"\n",
        "\n",
        "\n",
        "\n",
        "#strings using slice\n",
        "\n",
        "name = \"Code yug\"\n",
        "\n",
        "print(name[0:3:1])\n",
        "#cod will be printed (0 is start position , 3 is the stop position , 1 is set)\n",
        "\n",
        "\n",
        "\n",
        "\n"
      ],
      "metadata": {
        "colab": {
          "base_uri": "https://localhost:8080/"
        },
        "id": "esYqGgCu3er3",
        "outputId": "8ee1dae6-636a-44a9-f98c-02d004ad236a"
      },
      "execution_count": 8,
      "outputs": [
        {
          "output_type": "stream",
          "name": "stdout",
          "text": [
            "Cod\n"
          ]
        }
      ]
    },
    {
      "cell_type": "code",
      "source": [
        "name = \"code yug\"\n",
        "\n",
        "print(name[2:4])\n"
      ],
      "metadata": {
        "colab": {
          "base_uri": "https://localhost:8080/"
        },
        "id": "0i8y6DzkDe63",
        "outputId": "cb0d60ee-6463-4269-e21a-fdc0b3d427b4"
      },
      "execution_count": 9,
      "outputs": [
        {
          "output_type": "stream",
          "name": "stdout",
          "text": [
            "de\n"
          ]
        }
      ]
    },
    {
      "cell_type": "code",
      "source": [
        "#slicing   Positive indexing\n",
        "\n",
        "#this will start from left tp right\n",
        "\n",
        "#[small: big : +]\n",
        "\n",
        "s ='bangalore'\n",
        "print(s[0:7:1])\n",
        "\n",
        "print(s[0:8:3])\n",
        "\n",
        "print(s[0::1])\n",
        "\n",
        "print(s[:5:1]) #1-1 0 skipping nothing\n",
        "\n",
        "print(s[0:5:])\n",
        "\n",
        "print(s[::])\n",
        "\n",
        "print(s[0:5:2]) #2-1 skipping 1 box\n",
        "\n",
        "print(s[:4])\n",
        "\n",
        "print(s[::])\n",
        "\n",
        "print(s[0::3])  #3-1 skipping 2 boxes in indexing\n",
        "\n",
        "print(s[0:0:1])  #2nd value shold be always greater than 1\n",
        "\n"
      ],
      "metadata": {
        "colab": {
          "base_uri": "https://localhost:8080/"
        },
        "id": "KT8MSm6rD1K_",
        "outputId": "11a7f2d8-8b1a-4015-ee61-7da0933d766e"
      },
      "execution_count": 18,
      "outputs": [
        {
          "output_type": "stream",
          "name": "stdout",
          "text": [
            "bangalo\n",
            "bgo\n",
            "bangalore\n",
            "banga\n",
            "banga\n",
            "bangalore\n",
            "bna\n",
            "bang\n",
            "bangalore\n",
            "bgo\n",
            "\n"
          ]
        }
      ]
    },
    {
      "cell_type": "code",
      "source": [
        "print(s[0:0:1])  #no out put for this cause 2nd value cannot be zero\n",
        "\n"
      ],
      "metadata": {
        "colab": {
          "base_uri": "https://localhost:8080/"
        },
        "id": "LXxNNUEpHi11",
        "outputId": "319b0ac2-5223-41bd-81ef-d427d06f05d2"
      },
      "execution_count": 19,
      "outputs": [
        {
          "output_type": "stream",
          "name": "stdout",
          "text": [
            "\n"
          ]
        }
      ]
    },
    {
      "cell_type": "code",
      "source": [
        "#negative slicing\n",
        "# indexing will start from right to left\n",
        "\n",
        "name = 'bangalore'\n",
        "\n",
        "print(name[-1:-4:-1])  #here when we trying to indexing for negative we will be adding 1\n",
        "#-1+1 = 0, for the ending, -4+1 = -3 is the value for second value\n",
        "print(name[-1:-8:-2])  #[big : smaller no: -]\n",
        "\n",
        "print(name[-1:-5:-2])\n",
        "\n"
      ],
      "metadata": {
        "colab": {
          "base_uri": "https://localhost:8080/"
        },
        "id": "pktHo02AIT9U",
        "outputId": "4d8f57d7-1fb6-46f3-fbb4-0be5a4cbcb48"
      },
      "execution_count": 23,
      "outputs": [
        {
          "output_type": "stream",
          "name": "stdout",
          "text": [
            "ero\n",
            "eoan\n",
            "eo\n"
          ]
        }
      ]
    },
    {
      "cell_type": "code",
      "source": [
        "#handle positive and negative indexing\n",
        "name = 'code yug'\n",
        "print(name[-2:-6:2])  #when you specify the positive index value the index will start from left to right\n",
        "#here -2 value is u from to right hand side to it\n",
        "\n",
        "# third parameter is the decision maker in whether the indexing should go postive or negative\n",
        "\n",
        "print(name[-1::-1]) # second parameter is missing which means complete strng\n",
        "\n",
        "string = \"Hello, World!\"\n",
        "print(string[7:12])\n",
        "\n",
        "print(string[:5])\n",
        "\n",
        "print(string[-6:-1]) #third parameter is mssing which means postive indexing\n",
        "#for positive [small:bigger : -] so indexing from left side from -6 to -2\n",
        "\n"
      ],
      "metadata": {
        "colab": {
          "base_uri": "https://localhost:8080/"
        },
        "id": "hRXWCbL0KQ1r",
        "outputId": "e2904ae8-919a-4ecc-b267-43bd7ae2d827"
      },
      "execution_count": 31,
      "outputs": [
        {
          "output_type": "stream",
          "name": "stdout",
          "text": [
            "\n",
            "guy edoc\n",
            "World\n",
            "Hello\n",
            "World\n"
          ]
        }
      ]
    },
    {
      "cell_type": "code",
      "source": [
        "\n",
        "#Day 3 Session 17-03-2025\n",
        "\n",
        "my_string = \"Python is fun!\"\n",
        "\n",
        "print(my_string[-1:-7:-2])"
      ],
      "metadata": {
        "id": "OCiK9vYjgILQ",
        "outputId": "fe2469e9-7b79-46f7-9a49-aff92e5594f7",
        "colab": {
          "base_uri": "https://localhost:8080/"
        }
      },
      "execution_count": 1,
      "outputs": [
        {
          "output_type": "stream",
          "name": "stdout",
          "text": [
            "!u \n"
          ]
        }
      ]
    },
    {
      "cell_type": "code",
      "source": [
        "#decision making\n",
        "\n",
        "if 10 > 5:\n",
        "  print(\"10 is greated than 5\")\n",
        "  print(\"i am inside if block\")\n",
        "print(\"i ama outside if block\")\n",
        "\n",
        "if 1 > 5:\n",
        "  print(\"1 is greated than 5\")\n",
        "  print(\"i am inside if block\")\n",
        "print(\"i am outside if block\")\n"
      ],
      "metadata": {
        "id": "LgpFBdZInCP4",
        "outputId": "0c752413-1a54-4a68-cdb4-dd23fe9788fc",
        "colab": {
          "base_uri": "https://localhost:8080/"
        }
      },
      "execution_count": 5,
      "outputs": [
        {
          "output_type": "stream",
          "name": "stdout",
          "text": [
            "10 is greated than 5\n",
            "i am inside if block\n",
            "i ama ouside if block\n",
            "i am ouside if block\n"
          ]
        }
      ]
    },
    {
      "cell_type": "code",
      "source": [
        "#how to get the value from user in run time\n",
        "\n",
        "#use the input state ment\n",
        "\n",
        "a = input(\"enter number\")\n",
        "print(a)\n",
        "\n",
        "if a>10:\n",
        "  print(\"yes it is!\")\n",
        "\n"
      ],
      "metadata": {
        "id": "UVye2h-QoZDT",
        "outputId": "e61641e0-81f8-4c55-d60b-49e1e9acdd82",
        "colab": {
          "base_uri": "https://localhost:8080/"
        }
      },
      "execution_count": 6,
      "outputs": [
        {
          "output_type": "stream",
          "name": "stdout",
          "text": [
            "enter nameHari\n",
            "Hari\n"
          ]
        }
      ]
    },
    {
      "cell_type": "code",
      "source": [
        "#input statement\n",
        "\n",
        "name = input(\"enter your name\")\n",
        "print(\"your name is: \",name)\n"
      ],
      "metadata": {
        "id": "5v2db0MRpTEW",
        "outputId": "b610f8bf-2292-4583-cb72-80d07de2a872",
        "colab": {
          "base_uri": "https://localhost:8080/"
        }
      },
      "execution_count": 8,
      "outputs": [
        {
          "output_type": "stream",
          "name": "stdout",
          "text": [
            "enter your nameHari\n",
            "your name is:  Hari\n"
          ]
        }
      ]
    },
    {
      "cell_type": "code",
      "source": [
        "no1 = input(\"Enter the first Number: \")\n",
        "no2 = input(\"Enter the 2nd Number: \")  #this will return in string format\n",
        "\n",
        "print(no1+no2)\n",
        "\n",
        "\n",
        "\n",
        "#how to convert the string to integer,\n",
        "#basically converting one type to another type.\n",
        "no1 = int(input(\"Enter the first Number: \"))\n",
        "no2 = int(input(\"Enter the 2nd Number: \"))  #this will return in string format\n",
        "\n",
        "print(no1+no2)\n"
      ],
      "metadata": {
        "id": "LbXrfSsypn9g",
        "outputId": "779d2106-2119-43fb-d8c4-810bed6c01d9",
        "colab": {
          "base_uri": "https://localhost:8080/"
        }
      },
      "execution_count": 10,
      "outputs": [
        {
          "output_type": "stream",
          "name": "stdout",
          "text": [
            "Enter the first Number: 10\n",
            "Enter the 2nd Number: 23\n",
            "1023\n",
            "Enter the first Number: 10\n",
            "Enter the 2nd Number: 23\n",
            "33\n"
          ]
        }
      ]
    },
    {
      "cell_type": "code",
      "source": [
        "no1 = float(input(\"enter first no\"))  #type casting for float\n",
        "no2 = float(input(\"enter 2nd no\"))\n",
        "\n",
        "print(no1)\n",
        "print(no2)\n"
      ],
      "metadata": {
        "id": "HXHUgWXNqfRT",
        "outputId": "f1a71793-5992-4e64-d3f5-53a1cac0ba30",
        "colab": {
          "base_uri": "https://localhost:8080/"
        }
      },
      "execution_count": 11,
      "outputs": [
        {
          "output_type": "stream",
          "name": "stdout",
          "text": [
            "enter first no10\n",
            "enter 2nd no23\n",
            "10.0\n",
            "23.0\n"
          ]
        }
      ]
    },
    {
      "cell_type": "code",
      "source": [
        "age = int(input(\"Enter your Age: \"))\n",
        "if age >= 18:\n",
        "  print(\"Welcome to Vote\")\n",
        "  print(\"your eligible to cast your vote\")\n",
        "else:\n",
        "  print(\"since your less than 18, hence you are not eligible for vote \")\n",
        "\n",
        "print(\"Thank you!!\")"
      ],
      "metadata": {
        "id": "ZGALFOOOrsIK",
        "outputId": "e55562ca-c3ba-4bb9-87ab-7ed080a242fc",
        "colab": {
          "base_uri": "https://localhost:8080/"
        }
      },
      "execution_count": 12,
      "outputs": [
        {
          "output_type": "stream",
          "name": "stdout",
          "text": [
            "Enter your Age: 23\n",
            "Welcome to Vote\n",
            "your eligible to cast your vote\n",
            "Thank you!!\n"
          ]
        }
      ]
    },
    {
      "cell_type": "code",
      "source": [
        "age = int(input(\"Enter your Age: \"))\n",
        "if age >= 18:\n",
        "  print(\"Welcome to Vote\")\n",
        "  print(\"your eligible to cast your vote\")\n",
        "else:\n",
        "  print(\"since your less than 18, hence you are not eligible for vote \")\n",
        "\n",
        "print(\"Thank you!!\")"
      ],
      "metadata": {
        "id": "o3GCNOXzsXkl",
        "outputId": "d3d6adc2-5d5e-45ea-9091-1b2d086c5f84",
        "colab": {
          "base_uri": "https://localhost:8080/"
        }
      },
      "execution_count": 13,
      "outputs": [
        {
          "output_type": "stream",
          "name": "stdout",
          "text": [
            "Enter your Age: 17\n",
            "since your less than 18, hence you are not eligible for vote \n",
            "Thank you!!\n"
          ]
        }
      ]
    },
    {
      "cell_type": "code",
      "source": [
        "age = int(input(\"Enter your Age: \"))\n",
        "if age >= 18:\n",
        "  print(\"Welcome to Vote\")\n",
        "  print(\"your eligible to cast your vote\")\n",
        "else:\n",
        "  print(\"since your less than 18, hence you are not eligible for vote \")\n",
        "\n",
        "print(\"Thank you!!\")"
      ],
      "metadata": {
        "id": "3C5vwrjOsdBO",
        "outputId": "509dbb5d-04e1-46c7-8f7e-ce19ed2626b5",
        "colab": {
          "base_uri": "https://localhost:8080/"
        }
      },
      "execution_count": 14,
      "outputs": [
        {
          "output_type": "stream",
          "name": "stdout",
          "text": [
            "Enter your Age: 18\n",
            "Welcome to Vote\n",
            "your eligible to cast your vote\n",
            "Thank you!!\n"
          ]
        }
      ]
    },
    {
      "cell_type": "code",
      "source": [
        "Maths = int(input(\"Please enter your maths marks: \"))\n",
        "\n",
        "if Maths >= 35:\n",
        "  print(\"your are passed and your maths marks are:\", Maths)\n",
        "else:\n",
        "  print(\"failed\")\n"
      ],
      "metadata": {
        "id": "CeJTTLqEtH0E",
        "outputId": "3704d1af-5ed2-49fb-a87c-ba55ccb53328",
        "colab": {
          "base_uri": "https://localhost:8080/"
        }
      },
      "execution_count": 18,
      "outputs": [
        {
          "output_type": "stream",
          "name": "stdout",
          "text": [
            "Please enter your maths marks: 60\n",
            "your are passed and your maths marks are: 60\n"
          ]
        }
      ]
    },
    {
      "cell_type": "code",
      "source": [
        "a = int(input(\"enter no: \"))\n",
        "\n",
        "if a%2 == 0:\n",
        "  print(\"even\")\n",
        "else:\n",
        "  print(\"odd\")\n",
        ""
      ],
      "metadata": {
        "id": "O28PTj72uDyq",
        "outputId": "f1984695-55e7-4160-95c7-e0308ffa271c",
        "colab": {
          "base_uri": "https://localhost:8080/"
        }
      },
      "execution_count": 19,
      "outputs": [
        {
          "output_type": "stream",
          "name": "stdout",
          "text": [
            "enter no: 3\n",
            "odd\n"
          ]
        }
      ]
    },
    {
      "cell_type": "code",
      "source": [
        "a = (input(\"Enter city name: \"))\n",
        "\n",
        "if a == 'Bangalore':\n",
        "  print(\"i Know Bangalore\")\n",
        "elif a == \"Chennai\":\n",
        "  print(\"i know Chennai\")\n",
        "elif a == \"Hyderabad\":\n",
        "  print(\"I know Hyderabd\")\n",
        "else:\n",
        "  print(\"i'm not awrare of this city\")"
      ],
      "metadata": {
        "id": "6AYTC72ouZbM",
        "outputId": "23cb6aed-4c85-4d88-e004-e45cacb1ff5a",
        "colab": {
          "base_uri": "https://localhost:8080/"
        }
      },
      "execution_count": 22,
      "outputs": [
        {
          "output_type": "stream",
          "name": "stdout",
          "text": [
            "Enter city name: Mumbai\n",
            "i'm not awrare of this city\n"
          ]
        }
      ]
    },
    {
      "cell_type": "code",
      "source": [
        "a = int(input(\"Enter your percentage: \"))\n",
        "\n",
        "if a >= 90:\n",
        "  print(\"Grade A\")\n",
        "elif a >= 80:\n",
        "  print(\"B Grade\")\n",
        "elif a >= 70:\n",
        "  print(\"C grade\")\n",
        "else:\n",
        "  print(\"Below C grade, or failed\")"
      ],
      "metadata": {
        "id": "zIj2P8JKvZDW",
        "outputId": "05fc3bf6-e6b3-4227-e488-20c8b363ac9d",
        "colab": {
          "base_uri": "https://localhost:8080/"
        }
      },
      "execution_count": 23,
      "outputs": [
        {
          "output_type": "stream",
          "name": "stdout",
          "text": [
            "Enter your percentage: 95\n",
            "Grade A\n"
          ]
        }
      ]
    },
    {
      "cell_type": "code",
      "source": [
        "#nested if condition\n",
        "\n",
        "num = int(input(\"Enter number: \"))\n",
        "\n",
        "if num > 0:\n",
        "  print(\"num is positive number\")\n",
        "  if num %2 == 0:\n",
        "    print(\"number is even\")\n",
        "  else:\n",
        "    print(\"number is Odd\")\n",
        "else:\n",
        "  print(\"Number is negative number\")"
      ],
      "metadata": {
        "id": "3YX9lIUaza_B",
        "outputId": "b5ea3748-85ea-40da-cf7c-34bfe98746ea",
        "colab": {
          "base_uri": "https://localhost:8080/"
        }
      },
      "execution_count": 25,
      "outputs": [
        {
          "output_type": "stream",
          "name": "stdout",
          "text": [
            "Enter number: -23\n",
            "Number is negative number\n"
          ]
        }
      ]
    },
    {
      "cell_type": "code",
      "source": [
        "#loops(iterative statements)\n",
        "#while\n",
        "\n",
        "i = 2\n",
        "while i <= 5:\n",
        "  print(i)\n",
        "  i = i +1"
      ],
      "metadata": {
        "id": "YAqk6u4w1_gk",
        "outputId": "3f9a27f0-e90a-4004-a965-f34cb20b40d2",
        "colab": {
          "base_uri": "https://localhost:8080/"
        }
      },
      "execution_count": 30,
      "outputs": [
        {
          "output_type": "stream",
          "name": "stdout",
          "text": [
            "2\n",
            "3\n",
            "4\n",
            "5\n"
          ]
        }
      ]
    },
    {
      "cell_type": "code",
      "source": [
        "#print 5 tables\n",
        "i = 0\n",
        "while i <= 50:\n",
        "  print(i)\n",
        "  i=i + 5"
      ],
      "metadata": {
        "id": "mAMuJu2g2s4j",
        "outputId": "b3d9ecc9-28d3-48db-dec7-56cabe824bae",
        "colab": {
          "base_uri": "https://localhost:8080/"
        }
      },
      "execution_count": 32,
      "outputs": [
        {
          "output_type": "stream",
          "name": "stdout",
          "text": [
            "0\n",
            "5\n",
            "10\n",
            "15\n",
            "20\n",
            "25\n",
            "30\n",
            "35\n",
            "40\n",
            "45\n",
            "50\n"
          ]
        }
      ]
    },
    {
      "cell_type": "code",
      "source": [
        "#multiplecation table\n",
        "\n",
        "num = int(input(\"enter the table no\"))\n",
        "i = 1\n",
        "while i<= 10:\n",
        "  print(i*num)\n",
        "  i= i+1\n",
        "\n",
        "\n"
      ],
      "metadata": {
        "id": "Nx38aYf93KNb",
        "outputId": "cd2d86fe-0f2d-4424-b12b-f63620da01c0",
        "colab": {
          "base_uri": "https://localhost:8080/"
        }
      },
      "execution_count": 33,
      "outputs": [
        {
          "output_type": "stream",
          "name": "stdout",
          "text": [
            "enter the table no5\n",
            "5\n",
            "10\n",
            "15\n",
            "20\n",
            "25\n",
            "30\n",
            "35\n",
            "40\n",
            "45\n",
            "50\n"
          ]
        }
      ]
    },
    {
      "cell_type": "code",
      "source": [
        "#print all odd no from 1 to 100\n",
        "\n",
        "i = 1\n",
        "while i <= 100:\n",
        "  print(i)\n",
        "  i+=2"
      ],
      "metadata": {
        "id": "iaMWUExx33a4",
        "outputId": "7b1dbbd8-7048-4983-d380-f927c1481c99",
        "colab": {
          "base_uri": "https://localhost:8080/"
        }
      },
      "execution_count": 34,
      "outputs": [
        {
          "output_type": "stream",
          "name": "stdout",
          "text": [
            "1\n",
            "3\n",
            "5\n",
            "7\n",
            "9\n",
            "11\n",
            "13\n",
            "15\n",
            "17\n",
            "19\n",
            "21\n",
            "23\n",
            "25\n",
            "27\n",
            "29\n",
            "31\n",
            "33\n",
            "35\n",
            "37\n",
            "39\n",
            "41\n",
            "43\n",
            "45\n",
            "47\n",
            "49\n",
            "51\n",
            "53\n",
            "55\n",
            "57\n",
            "59\n",
            "61\n",
            "63\n",
            "65\n",
            "67\n",
            "69\n",
            "71\n",
            "73\n",
            "75\n",
            "77\n",
            "79\n",
            "81\n",
            "83\n",
            "85\n",
            "87\n",
            "89\n",
            "91\n",
            "93\n",
            "95\n",
            "97\n",
            "99\n"
          ]
        }
      ]
    },
    {
      "cell_type": "code",
      "source": [
        "#for loop\n",
        "\n",
        "for i in \"NTT DATA\":\n",
        "  print(i)\n",
        ""
      ],
      "metadata": {
        "id": "qUV3AxHm4pG1",
        "outputId": "8c086507-ead3-4be2-b354-8e4b278d4012",
        "colab": {
          "base_uri": "https://localhost:8080/"
        }
      },
      "execution_count": 35,
      "outputs": [
        {
          "output_type": "stream",
          "name": "stdout",
          "text": [
            "N\n",
            "T\n",
            "T\n",
            " \n",
            "D\n",
            "A\n",
            "T\n",
            "A\n"
          ]
        }
      ]
    },
    {
      "cell_type": "code",
      "source": [
        "for i in [10, 20, 30, 40, 50]:\n",
        "  print(i*2)"
      ],
      "metadata": {
        "id": "fL-xYUgL512q",
        "outputId": "30f1eaec-14cd-405f-ad96-37be8ed98815",
        "colab": {
          "base_uri": "https://localhost:8080/"
        }
      },
      "execution_count": 37,
      "outputs": [
        {
          "output_type": "stream",
          "name": "stdout",
          "text": [
            "20\n",
            "40\n",
            "60\n",
            "80\n",
            "100\n"
          ]
        }
      ]
    },
    {
      "cell_type": "code",
      "source": [
        "#print vowels\n",
        "\n",
        "v = [\"a\",\"e\",\"i\",\"o\",\"u\"]\n",
        "name = input(\"enter name\")\n",
        "counter = 0\n",
        "for i in name:\n",
        "  if i in v:\n",
        "    counter = counter + 1\n",
        "print(counter)\n"
      ],
      "metadata": {
        "id": "VZRK2jvP6iwe",
        "outputId": "d38104d8-897a-4136-bce2-ab6214ee0fe0",
        "colab": {
          "base_uri": "https://localhost:8080/"
        }
      },
      "execution_count": 39,
      "outputs": [
        {
          "output_type": "stream",
          "name": "stdout",
          "text": [
            "enter nameBengaluru\n",
            "4\n"
          ]
        }
      ]
    },
    {
      "cell_type": "code",
      "source": [
        "#assignment , how to reverse a string\n",
        "\n",
        "name = \"NTT DATA\"\n",
        "\n",
        "for i in name:\n",
        "\n",
        "\n",
        "# check given string is palindrome\n",
        "\n",
        "\n"
      ],
      "metadata": {
        "id": "t2WOYZ-a76EF"
      },
      "execution_count": null,
      "outputs": []
    }
  ]
}