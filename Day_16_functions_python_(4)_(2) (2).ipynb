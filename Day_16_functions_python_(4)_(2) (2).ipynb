{
  "nbformat": 4,
  "nbformat_minor": 0,
  "metadata": {
    "colab": {
      "provenance": []
    },
    "kernelspec": {
      "name": "python3",
      "display_name": "Python 3"
    },
    "language_info": {
      "name": "python"
    }
  },
  "cells": [
    {
      "cell_type": "code",
      "execution_count": null,
      "metadata": {
        "id": "LynczderHEfx"
      },
      "outputs": [],
      "source": [
        "print(\"Hello World\")"
      ]
    },
    {
      "cell_type": "code",
      "source": [],
      "metadata": {
        "id": "BiWBFSkcZeq6"
      },
      "execution_count": null,
      "outputs": []
    },
    {
      "cell_type": "code",
      "source": [
        "# simple function\n",
        "\n",
        "def fun():\n",
        "  print(\"Hello world\")\n",
        "  print(\"welcome\")\n",
        "\n",
        "\n",
        "print(\"before function call\")\n",
        "fun()\n",
        "print(\"after function call\")\n"
      ],
      "metadata": {
        "id": "MBh5kn9LVoyV"
      },
      "execution_count": null,
      "outputs": []
    },
    {
      "cell_type": "code",
      "source": [
        "# program to print the square of no\n",
        "# without arguments , without return values\n",
        "def square():\n",
        "  x = int(input(\"enetr a no\"))\n",
        "  y = x**2\n",
        "  print(\"square of\",x,\"is\",y)\n",
        "\n",
        "square()"
      ],
      "metadata": {
        "id": "FAsNwlxOZCHV"
      },
      "execution_count": null,
      "outputs": []
    },
    {
      "cell_type": "code",
      "source": [
        " #with arguments , with return values\n",
        "\n",
        "def square(x):\n",
        "    #y = x**2\n",
        "    return x**2\n",
        "\n",
        "\n",
        "x = int(input(\"enetr a no\"))\n",
        "res = square(x)\n",
        "print(res)"
      ],
      "metadata": {
        "id": "oUubBp9vdJIB"
      },
      "execution_count": null,
      "outputs": []
    },
    {
      "cell_type": "code",
      "source": [
        "#with arguments , without return values\n",
        "def square(x):\n",
        "  y = x**2\n",
        "  print(\"square of\",x,\"is\",y)\n",
        "\n",
        "\n",
        "x = int(input(\"enetr a no\"))\n",
        "square(x)\n"
      ],
      "metadata": {
        "id": "_ukEx8_3d04P"
      },
      "execution_count": null,
      "outputs": []
    },
    {
      "cell_type": "code",
      "source": [
        "#without args , with return values\n",
        "\n",
        "def square():\n",
        "  x = int(input(\"enetr a no\"))\n",
        "  y = x**2\n",
        "  return y\n",
        "\n",
        "res = square()\n",
        "print(res)"
      ],
      "metadata": {
        "id": "yeQplsX5d58J"
      },
      "execution_count": null,
      "outputs": []
    },
    {
      "cell_type": "code",
      "source": [
        "# return statement\n",
        "\n",
        "\n",
        "def test(a,b,c,d):\n",
        "\n",
        "  return a,b,c,d\n",
        "\n",
        "x,y = test(10,20,30,40)[1:3]\n",
        "\n",
        "print(x,y)\n",
        "print(type(x))"
      ],
      "metadata": {
        "id": "lMgOlMr3fJNG"
      },
      "execution_count": null,
      "outputs": []
    },
    {
      "cell_type": "code",
      "source": [
        "# return\n",
        "\n",
        "def test1():\n",
        "  l1 = [10,20,30,40]\n",
        "  t1 = (60,70,80)\n",
        "  return l1,t1\n",
        "\n",
        "x = test1()\n",
        "print(x)\n",
        "print(type(x))\n",
        "\n"
      ],
      "metadata": {
        "id": "zF54_Kotg7g8"
      },
      "execution_count": null,
      "outputs": []
    },
    {
      "cell_type": "code",
      "source": [
        "def func1(a,b,c,d):\n",
        "  return a,b,c,d\n",
        "\n",
        " = func1(10,20,30,40)\n",
        "print(a,a)\n"
      ],
      "metadata": {
        "id": "RczUuvbMkRci"
      },
      "execution_count": null,
      "outputs": []
    },
    {
      "cell_type": "code",
      "source": [
        "_ = 10\n",
        "print(_)"
      ],
      "metadata": {
        "id": "0IKhUOXFmomZ"
      },
      "execution_count": null,
      "outputs": []
    },
    {
      "cell_type": "code",
      "source": [
        "#day 13\n",
        "\n",
        "# function calling another fn\n",
        "\n",
        "def test1():\n",
        "  print(\"i am insude test1\")\n",
        "  test2() # fn call\n",
        "  print(\"i am back to test1\")\n",
        "\n",
        "def test2():\n",
        "  print(\" I am in test2\")\n",
        "  print(\"going back\")\n",
        "\n",
        "test1()  # fn call\n",
        "print(\"end of program\")"
      ],
      "metadata": {
        "id": "jxiHTB7EAlg1"
      },
      "execution_count": null,
      "outputs": []
    },
    {
      "cell_type": "code",
      "source": [
        "# LOcal Variable- lifetime\n",
        "\n",
        "def test():\n",
        "  x=10\n",
        "  x=x+1\n",
        "  print(x)\n",
        "\n",
        "test()\n",
        "test()\n",
        "test()"
      ],
      "metadata": {
        "id": "5bTQdgB6BmSf"
      },
      "execution_count": null,
      "outputs": []
    },
    {
      "cell_type": "code",
      "source": [
        "# LOcal Variable- scope\n",
        "\n",
        "def test():\n",
        "  x=10\n",
        "  x=x+1\n",
        "  print(x)\n",
        "\n",
        "test()\n",
        "#print(x) error\n",
        "test()\n",
        "test()"
      ],
      "metadata": {
        "id": "60sasPL7Dt3y"
      },
      "execution_count": null,
      "outputs": []
    },
    {
      "cell_type": "code",
      "source": [
        "# global variable\n",
        "\n",
        "n =10\n",
        "\n",
        "def fun():\n",
        "  print(n)\n",
        "\n",
        "fun()\n",
        "print(n)"
      ],
      "metadata": {
        "id": "b-8LZCR9EKrZ"
      },
      "execution_count": null,
      "outputs": []
    },
    {
      "cell_type": "code",
      "source": [
        "# global variable\n",
        "\n",
        "n =10\n",
        "\n",
        "def fun():\n",
        "  n=5   # local varibale\n",
        "  print(n)\n",
        "\n",
        "fun()\n",
        "print(n)"
      ],
      "metadata": {
        "id": "PG3hS9hpEm13"
      },
      "execution_count": null,
      "outputs": []
    },
    {
      "cell_type": "code",
      "source": [
        "# global variable\n",
        "\n",
        "n =10\n",
        "\n",
        "def fun():\n",
        "  global n # global keyword\n",
        "  n=n+1\n",
        "  print(n)\n",
        "\n",
        "def test():\n",
        "  global n\n",
        "  n= n+1\n",
        "  print(n)\n",
        "\n",
        "\n",
        "fun()\n",
        "test()\n",
        "print(n)"
      ],
      "metadata": {
        "id": "RrppPndcFEFs"
      },
      "execution_count": null,
      "outputs": []
    },
    {
      "cell_type": "code",
      "source": [
        "# Function is also an object\n",
        "\n",
        "def test():\n",
        "  print(\"hello wrold\")\n",
        "\n",
        "i =10\n",
        "print(type(i))\n",
        "\n",
        "print(type(test))\n",
        "print(test)"
      ],
      "metadata": {
        "id": "Qa3z_godHgWh"
      },
      "execution_count": null,
      "outputs": []
    },
    {
      "cell_type": "code",
      "source": [
        "def multiplier_factory(factor):\n",
        "\n",
        "  def multiplier(number):\n",
        "\n",
        "    return number * factor\n",
        "\n",
        "  # Return the nested function\n",
        "  return multiplier  # returning the inner function\n",
        "\n",
        "# Create a function that multiplies by 5\n",
        "multiply_by_5 = multiplier_factory(5)\n",
        "\n",
        "# Create a function that multiplies by 10\n",
        "multiply_by_10 = multiplier_factory(10)\n",
        "\n",
        "# Use the created functions\n",
        "result1 = multiply_by_5(8)\n",
        "result2 = multiply_by_10(4)\n",
        "\n",
        "print(f\"8 multiplied by 5 is: {result1}\")  # Output: 8 multiplied by 5 is: 40\n",
        "print(f\"4 multiplied by 10 is: {result2}\") # Output: 4 multiplied by 10 is: 40"
      ],
      "metadata": {
        "id": "kbb-1cV2IZE4"
      },
      "execution_count": null,
      "outputs": []
    },
    {
      "cell_type": "code",
      "source": [
        "# alias name for a function\n",
        "\n",
        "def test1():\n",
        "  print(\"hello\")\n",
        "\n",
        "a = test1\n",
        "\n",
        "a()"
      ],
      "metadata": {
        "id": "tmnko_WPKYtp"
      },
      "execution_count": null,
      "outputs": []
    },
    {
      "cell_type": "code",
      "source": [
        "# positional args or required ars\n",
        "\n",
        "def test(name, age, city):\n",
        "  print(\"my name is \", name , \" and my age is \", age,\" and basically from\",city)\n",
        "\n",
        "\n",
        "test(\"Ram\",25,\"Delhi\",)"
      ],
      "metadata": {
        "id": "u0VyjloJLomW"
      },
      "execution_count": null,
      "outputs": []
    },
    {
      "cell_type": "code",
      "source": [
        "# keyword args\n",
        "\n",
        "def test(name, age, city):\n",
        "  print(\"my name is \", name , \" and my age is \", age,\" and basically from\",city)\n",
        "\n",
        "\n",
        "test(age =25 , name =\"Ram\",city =\"Delhi\",)"
      ],
      "metadata": {
        "id": "uDxAGxA3Mlal"
      },
      "execution_count": null,
      "outputs": []
    },
    {
      "cell_type": "code",
      "source": [
        "# keyword args and positional args\n",
        "\n",
        "def test(name, current_city,city,age):\n",
        "  print(\"my name is \", name , \" and my age is \", age,\" and basically from\",city,\"but currently i live in\",current_city)\n",
        "\n",
        "\n",
        "test(\"ram\",\"delhi\",age = 25, city=\"Blr\")\n",
        "\n",
        "# positional args ----> keyword args\n",
        "# keyword args should follow positional ars ,"
      ],
      "metadata": {
        "id": "19tyfsdxNBGM"
      },
      "execution_count": null,
      "outputs": []
    },
    {
      "cell_type": "code",
      "source": [
        "# default arguments\n",
        "\n",
        "def student(name , age , m1,m2,m3 ,college=\"UVCE\"):\n",
        "\n",
        "  print(name,age, m1,m2,m3,college)\n",
        "\n",
        "\n",
        "student(\"John\",25,90,80,70)\n",
        "student(\"Rose\",21,91,86,75,\"SSEC\")"
      ],
      "metadata": {
        "colab": {
          "base_uri": "https://localhost:8080/"
        },
        "id": "tm_31THXP_0r",
        "outputId": "acdc32c2-adc2-4ca2-ce99-1fd7afd803a8"
      },
      "execution_count": null,
      "outputs": [
        {
          "output_type": "stream",
          "name": "stdout",
          "text": [
            "John 25 90 80 70 UVCE\n",
            "Rose 21 91 86 75 SSEC\n"
          ]
        }
      ]
    },
    {
      "cell_type": "code",
      "source": [
        "# positional agrs ----> keyword args -----> Default args\n",
        "\n",
        "def student(name , age , m1,m2,m3,college=\"UVCE\"):\n",
        "\n",
        "  print(name,age, m1,m2,m3,college)\n",
        "\n",
        "\n",
        "student(\"John\",age=21,m1=25,m2=90,m3=80, college= \"SS\")\n",
        "student(\"Rose\",21,91,86,75)"
      ],
      "metadata": {
        "id": "OgsZqe7jRETj"
      },
      "execution_count": null,
      "outputs": []
    },
    {
      "cell_type": "code",
      "source": [
        "# variable length args\n",
        "def fun(*a):\n",
        "  print(a)\n",
        "  print(type(a))\n",
        "\n",
        "fun(1,2)\n",
        "fun(1,2,3)\n",
        "fun(1,2,3,4)"
      ],
      "metadata": {
        "colab": {
          "base_uri": "https://localhost:8080/"
        },
        "id": "0vlZRYWPS68V",
        "outputId": "b58ab8ee-2c7c-40e4-e2d0-8274c6891a77"
      },
      "execution_count": null,
      "outputs": [
        {
          "output_type": "stream",
          "name": "stdout",
          "text": [
            "(1, 2)\n",
            "<class 'tuple'>\n",
            "(1, 2, 3)\n",
            "<class 'tuple'>\n",
            "(1, 2, 3, 4)\n",
            "<class 'tuple'>\n"
          ]
        }
      ]
    },
    {
      "cell_type": "code",
      "source": [
        "# variable length positional args\n",
        "def sum(*a):\n",
        "\n",
        "  s = 0\n",
        "  for i in a:\n",
        "    s = s+i\n",
        "  print(s)\n",
        "\n",
        "sum(1,2)\n",
        "sum(1,2,3)\n",
        "sum(1,2,3,4)\n",
        "\n"
      ],
      "metadata": {
        "id": "Ki0px8p4TsFj"
      },
      "execution_count": null,
      "outputs": []
    },
    {
      "cell_type": "code",
      "source": [
        "# variable length keyword args\n",
        "\n",
        "def addition(**a):\n",
        "\n",
        "  s=0\n",
        "  for n in a.values():\n",
        "    s= s+n\n",
        "  print(s)\n",
        "\n",
        "addition(a=10,b=20)  # values are packed as a dict\n",
        "addition(a=22,b=33,c=44)"
      ],
      "metadata": {
        "id": "m4wk1VucUY6R"
      },
      "execution_count": null,
      "outputs": []
    },
    {
      "cell_type": "code",
      "source": [
        "# variable length positional args and variable length keyword  args\n",
        "\n",
        "def add(*num,**nums ):\n",
        "  print(sum(num))\n",
        "  print(sum(nums.values()))\n",
        "\n",
        "add(10,20,30,40, n1=100,n2=200,n3=300)"
      ],
      "metadata": {
        "colab": {
          "base_uri": "https://localhost:8080/"
        },
        "id": "QdNRp6gmTSnr",
        "outputId": "0c596f94-cfac-4fd8-8887-d21bd80ceb13"
      },
      "execution_count": null,
      "outputs": [
        {
          "output_type": "stream",
          "name": "stdout",
          "text": [
            "100\n",
            "600\n"
          ]
        }
      ]
    },
    {
      "cell_type": "code",
      "source": [
        "#variable length positional args , keyword ars, default agrs\n",
        "\n",
        "def student(name,clas,*parents_name,age,school= \"UVCE\",**marks):\n",
        "  print('Name: ',name)\n",
        "  print('class: ',clas)\n",
        "  print('Parents: ', parents_name)\n",
        "  print('Age: ',age)\n",
        "  print('Marks: ',marks)\n",
        "  print('School: ',school)\n",
        "\n",
        "student('Ravi',5,'A','B',age=12,eng=90,maths=87,science=91)\n",
        "\n"
      ],
      "metadata": {
        "colab": {
          "base_uri": "https://localhost:8080/"
        },
        "id": "LzwuTf2UXJHt",
        "outputId": "426a5e8e-0046-4b68-e904-366d4fcba30d"
      },
      "execution_count": null,
      "outputs": [
        {
          "output_type": "stream",
          "name": "stdout",
          "text": [
            "Name:  Ravi\n",
            "class:  5\n",
            "Parents:  ('A', 'B')\n",
            "Age:  12\n",
            "Marks:  {'eng': 90, 'maths': 87, 'science': 91}\n",
            "School:  UVCE\n"
          ]
        }
      ]
    },
    {
      "cell_type": "code",
      "source": [
        "#lambda function return single value\n",
        "\n",
        "var = lambda x,y,z : x+y+z\n",
        "print(var(10,20,30))"
      ],
      "metadata": {
        "colab": {
          "base_uri": "https://localhost:8080/"
        },
        "id": "3YrLWf20cDpp",
        "outputId": "d4a75c1b-91b4-42c0-fa97-ec884f7e7ed2"
      },
      "execution_count": null,
      "outputs": [
        {
          "output_type": "stream",
          "name": "stdout",
          "text": [
            "60\n"
          ]
        }
      ]
    },
    {
      "cell_type": "code",
      "source": [
        "add =lambda x,y : [x+y , x-y]\n",
        "print( type(add(2,3)))\n",
        "print( add(2,3))"
      ],
      "metadata": {
        "colab": {
          "base_uri": "https://localhost:8080/"
        },
        "id": "DunOwRPLckCd",
        "outputId": "a53213d1-2cbd-4f60-8215-eb42839c2e8a"
      },
      "execution_count": null,
      "outputs": [
        {
          "output_type": "stream",
          "name": "stdout",
          "text": [
            "<class 'list'>\n",
            "[5, -1]\n"
          ]
        }
      ]
    },
    {
      "cell_type": "code",
      "source": [
        "a= lambda: print(\"hello\")\n",
        "print(a())"
      ],
      "metadata": {
        "colab": {
          "base_uri": "https://localhost:8080/"
        },
        "id": "veynkrGIdX20",
        "outputId": "c7456845-8f91-45d3-b8ca-3f0e30b2b12b"
      },
      "execution_count": null,
      "outputs": [
        {
          "output_type": "stream",
          "name": "stdout",
          "text": [
            "hello\n",
            "None\n"
          ]
        }
      ]
    },
    {
      "cell_type": "code",
      "source": [
        "# using default agrs\n",
        "add = lambda x, y=1 : x+y\n",
        "\n",
        "print(add(4))"
      ],
      "metadata": {
        "colab": {
          "base_uri": "https://localhost:8080/"
        },
        "id": "0vX0NVo0dv_l",
        "outputId": "205fa762-1585-4cf5-cd0a-862be17eb18a"
      },
      "execution_count": null,
      "outputs": [
        {
          "output_type": "stream",
          "name": "stdout",
          "text": [
            "5\n"
          ]
        }
      ]
    },
    {
      "cell_type": "code",
      "source": [
        "# using key word args\n",
        "add = lambda x, y : x+y\n",
        "print(add(x=5,y=6))"
      ],
      "metadata": {
        "colab": {
          "base_uri": "https://localhost:8080/"
        },
        "id": "4p5DYCQPd-iZ",
        "outputId": "12ccfe2d-b6ec-44c2-b53f-6f35d87fa809"
      },
      "execution_count": null,
      "outputs": [
        {
          "output_type": "stream",
          "name": "stdout",
          "text": [
            "11\n"
          ]
        }
      ]
    },
    {
      "cell_type": "code",
      "source": [
        "# using var lenghth args\n",
        "add = lambda *x: sum(x)\n",
        "print(add(1,2,3,4,5))"
      ],
      "metadata": {
        "colab": {
          "base_uri": "https://localhost:8080/"
        },
        "id": "oqzaV6YbeL-S",
        "outputId": "db143947-f4fc-42e0-8043-474ba0503272"
      },
      "execution_count": null,
      "outputs": [
        {
          "output_type": "stream",
          "name": "stdout",
          "text": [
            "15\n"
          ]
        }
      ]
    },
    {
      "cell_type": "code",
      "source": [
        "area = lambda r: 3.14*r*r\n",
        "print(area(5))\n"
      ],
      "metadata": {
        "colab": {
          "base_uri": "https://localhost:8080/"
        },
        "id": "TGfdGyy_esfA",
        "outputId": "8443d7b1-effa-4258-faf4-d334f2a2dd2e"
      },
      "execution_count": null,
      "outputs": [
        {
          "output_type": "stream",
          "name": "stdout",
          "text": [
            "78.5\n"
          ]
        }
      ]
    },
    {
      "cell_type": "code",
      "source": [
        "# class and Objects\n",
        "\n",
        "class Calculator:\n",
        "  n1=0    # attributes\n",
        "  n2=0\n",
        "  res = 0\n",
        "\n",
        "  def __init__(self,n1,n2):  # methods\n",
        "    self.n1=0\n",
        "    self.n2=0\n",
        "    self.res=0\n",
        "\n",
        "  def add(self , n1,n2):\n",
        "    pass\n",
        "\n",
        "  def sub(self , n1,n2):\n",
        "    pass\n",
        "\n",
        "  def mul(self , n1,n2):\n",
        "    pass\n",
        "\n",
        "  def div(self , n1,n2):\n",
        "    pass\n",
        "\n",
        "\n",
        "\n",
        "ob1 = Calculator(10,20) # obj1 creation\n",
        "ob2 = Calculator(100,200) # obj2 creation"
      ],
      "metadata": {
        "id": "12ag4DICkyha"
      },
      "execution_count": null,
      "outputs": []
    },
    {
      "cell_type": "code",
      "source": [
        "# Class example\n",
        "\n",
        "class Sample:\n",
        "\n",
        "  def __init__(self):\n",
        "    self.data = 10\n",
        "\n",
        "  def input_data(self):\n",
        "    self.data = input(\"enter some text\")\n",
        "\n",
        "  def process_data(self):\n",
        "    self.data = self.data.upper()\n",
        "\n",
        "  def output_data(self):\n",
        "    print(self.data)\n",
        "\n",
        "Obj1 = Sample()   #obj creation\n",
        "Obj2= Sample()\n",
        "Obj3 = Sample()\n",
        "\n",
        "Obj1.input_data()\n",
        "Obj1.process_data()\n",
        "Obj1.output_data()\n",
        "\n",
        "Obj2.input_data()\n",
        "Obj2.process_data()\n",
        "Obj2.output_data()\n",
        "\n",
        "Obj3.input_data()\n",
        "Obj3.process_data()\n",
        "Obj3.output_data()\n",
        "\n"
      ],
      "metadata": {
        "id": "HEzf854Blc8y"
      },
      "execution_count": null,
      "outputs": []
    },
    {
      "cell_type": "code",
      "source": [
        "# simple calculator\n",
        "\n",
        "class Calculator:\n",
        "\n",
        "  def __init__(self):\n",
        "    self.n1=0             #attributes\n",
        "    self.n2=0\n",
        "    self.res=0\n",
        "\n",
        "  def input_data(self):\n",
        "    self.n1 = 100\n",
        "    self.n2 = 200\n",
        "\n",
        "\n",
        "  def add(self):\n",
        "    self.res = self.n1 + self.n2\n",
        "    print(self.res)\n",
        "\n",
        "  def sub(self):\n",
        "    self.res = self.n1 - self.n2\n",
        "    print(self.res)\n",
        "\n",
        "  def compare(self, other, other1):\n",
        "    if self.res == other.res:\n",
        "      return True\n",
        "    else:\n",
        "      return False\n",
        "\n",
        "\n",
        "\n",
        "c1 = Calculator()  # obj creation\n",
        "c1.input_data()\n",
        "c1.add()\n",
        "c1.sub()\n",
        "\n",
        "\n",
        "c2 = Calculator()\n",
        "c2.input_data()\n",
        "c2.add()\n",
        "c2.sub()\n",
        "\n",
        "c1.compare(c2,10)\n",
        "\n",
        "\n"
      ],
      "metadata": {
        "colab": {
          "base_uri": "https://localhost:8080/",
          "height": 220
        },
        "id": "V3B7bgf3qqUL",
        "outputId": "412369c7-39f1-44b7-a778-c54e09e717e9"
      },
      "execution_count": null,
      "outputs": [
        {
          "output_type": "error",
          "ename": "TypeError",
          "evalue": "Calculator.add() takes 0 positional arguments but 1 was given",
          "traceback": [
            "\u001b[0;31m---------------------------------------------------------------------------\u001b[0m",
            "\u001b[0;31mTypeError\u001b[0m                                 Traceback (most recent call last)",
            "\u001b[0;32m<ipython-input-4-46576b852875>\u001b[0m in \u001b[0;36m<cell line: 0>\u001b[0;34m()\u001b[0m\n\u001b[1;32m     30\u001b[0m \u001b[0mc1\u001b[0m \u001b[0;34m=\u001b[0m \u001b[0mCalculator\u001b[0m\u001b[0;34m(\u001b[0m\u001b[0;34m)\u001b[0m  \u001b[0;31m# obj creation\u001b[0m\u001b[0;34m\u001b[0m\u001b[0;34m\u001b[0m\u001b[0m\n\u001b[1;32m     31\u001b[0m \u001b[0mc1\u001b[0m\u001b[0;34m.\u001b[0m\u001b[0minput_data\u001b[0m\u001b[0;34m(\u001b[0m\u001b[0;34m)\u001b[0m\u001b[0;34m\u001b[0m\u001b[0;34m\u001b[0m\u001b[0m\n\u001b[0;32m---> 32\u001b[0;31m \u001b[0mc1\u001b[0m\u001b[0;34m.\u001b[0m\u001b[0madd\u001b[0m\u001b[0;34m(\u001b[0m\u001b[0;34m)\u001b[0m\u001b[0;34m\u001b[0m\u001b[0;34m\u001b[0m\u001b[0m\n\u001b[0m\u001b[1;32m     33\u001b[0m \u001b[0mc1\u001b[0m\u001b[0;34m.\u001b[0m\u001b[0msub\u001b[0m\u001b[0;34m(\u001b[0m\u001b[0;34m)\u001b[0m\u001b[0;34m\u001b[0m\u001b[0;34m\u001b[0m\u001b[0m\n\u001b[1;32m     34\u001b[0m \u001b[0;34m\u001b[0m\u001b[0m\n",
            "\u001b[0;31mTypeError\u001b[0m: Calculator.add() takes 0 positional arguments but 1 was given"
          ]
        }
      ]
    },
    {
      "cell_type": "code",
      "source": [
        "# student details\n",
        "class Student:\n",
        "\n",
        "  def __init__(self):\n",
        "    self.name = \"\"\n",
        "    self.age = 0\n",
        "    self.m1=0\n",
        "    self.m2=0\n",
        "    self.m3=0\n",
        "    self.avg=0\n",
        "\n",
        "  def input_data(self):\n",
        "    self.name = input(\"enter name\")\n",
        "    self.age = int(input(\"enter age\"))\n",
        "    self.m1 = int(input(\"enter m1\"))\n",
        "    self.m2 = int(input(\"enter m2\"))\n",
        "    self.m3 = int(input(\"enter m3\"))\n",
        "\n",
        "  def calculate_avg(self):\n",
        "    self.avg = (self.m1+self.m2+self.m3)/3\n",
        "\n",
        "  def student_data(self):\n",
        "    print(\"Name: \",self.name)\n",
        "    print(\"Age: \",self.age)\n",
        "    print(\"Marks: \",self.m1,self.m2,self.m3)\n",
        "    print(\"Average: \",self.avg)\n",
        "\n",
        "\n",
        "s1= Student()\n",
        "s2 = Student()\n",
        "s3 = Student()\n",
        "\n",
        "s1.input_data()\n",
        "s1.calculate_avg()\n",
        "s1.student_data()\n",
        "\n",
        "s2.input_data()\n",
        "s2.calculate_avg()\n",
        "s2.student_data()\n",
        "\n",
        "s3.input_data()\n",
        "s3.calculate_avg()\n",
        "s3.student_data()\n",
        "\n"
      ],
      "metadata": {
        "colab": {
          "base_uri": "https://localhost:8080/"
        },
        "id": "Jk_FyAO-xrSD",
        "outputId": "a1166e8c-2d33-4f6b-bcda-d6b93d3c9797"
      },
      "execution_count": null,
      "outputs": [
        {
          "output_type": "stream",
          "name": "stdout",
          "text": [
            "enter nameVijay\n",
            "enter age20\n",
            "enter m190\n",
            "enter m290\n",
            "enter m380\n",
            "Name:  Vijay\n",
            "Age:  20\n",
            "Marks:  90 90 80\n",
            "Average:  86.66666666666667\n",
            "enter nameJohn\n",
            "enter age21\n",
            "enter m178\n",
            "enter m290\n",
            "enter m399\n",
            "Name:  John\n",
            "Age:  21\n",
            "Marks:  78 90 99\n",
            "Average:  89.0\n",
            "enter nameGeetha\n",
            "enter age21\n",
            "enter m189\n",
            "enter m279\n",
            "enter m359\n",
            "Name:  Geetha\n",
            "Age:  21\n",
            "Marks:  89 79 59\n",
            "Average:  75.66666666666667\n"
          ]
        }
      ]
    },
    {
      "cell_type": "code",
      "source": [
        "class Test:\n",
        "\n",
        "  def __init__(self , aa,bb):\n",
        "    self.res=0\n",
        "    self.total=100\n",
        "    self.a= aa\n",
        "    self.b= bb\n",
        "\n",
        "  def outputdata(self):\n",
        "    print(self.a,self.b)\n",
        "\n",
        "t1 = Test(10,20)\n",
        "t2 = Test (1.1,2.2)\n",
        "\n",
        "t1.outputdata()\n",
        "t2.outputdata()"
      ],
      "metadata": {
        "colab": {
          "base_uri": "https://localhost:8080/"
        },
        "id": "t66d1QjS1ig1",
        "outputId": "78fee84a-9b7c-461d-ca94-2a958ae955f4"
      },
      "execution_count": null,
      "outputs": [
        {
          "output_type": "stream",
          "name": "stdout",
          "text": [
            "10 20\n",
            "1.1 2.2\n"
          ]
        }
      ]
    },
    {
      "cell_type": "code",
      "source": [
        "class Employee:\n",
        "\n",
        "  def __init__(self,name,id,dept,bsal):\n",
        "    self.emp_name = name\n",
        "    self.emp_id = id\n",
        "    self.emp_dept = dept\n",
        "    self.bsal = bsal\n",
        "    self.bonus = 20\n",
        "    self.fsal = 0\n",
        "\n",
        "  def cal_sal(self):\n",
        "    self.fsal = self.bsal + (self.bsal*self.bonus/100)\n",
        "\n",
        "  def output_data(self):\n",
        "    print('Name: ',self.emp_name)\n",
        "    print('Id: ',self.emp_id)\n",
        "    print('Dept: ',self.emp_dept)\n",
        "    print('Total Salary: ',self.fsal)\n",
        "a= input(\"enter a name\")\n",
        "b= input(\"enter the emp id\")\n",
        "e1 = Employee(a,b,'Tech',10000)\n",
        "e1.cal_sal()\n",
        "e1.output_data()"
      ],
      "metadata": {
        "colab": {
          "base_uri": "https://localhost:8080/"
        },
        "id": "5KbtwMlQ4eDE",
        "outputId": "96c60f8a-a121-480d-810f-da7d35b8ff72"
      },
      "execution_count": null,
      "outputs": [
        {
          "output_type": "stream",
          "name": "stdout",
          "text": [
            "enter a namealex\n",
            "Name:  alex\n",
            "Id:  101\n",
            "Dept:  Tech\n",
            "Total Salary:  12000.0\n"
          ]
        }
      ]
    },
    {
      "cell_type": "code",
      "source": [
        "def __init__(self):\n",
        "  pass\n",
        "\n",
        "\n",
        "def fun1():\n",
        "\n",
        "\n",
        "def fun2():\n",
        "  pass\n",
        "\n",
        "def fun3():\n",
        "  pass\n",
        "\n",
        "\n",
        "\n"
      ],
      "metadata": {
        "id": "2lDyClmn6bJX"
      },
      "execution_count": null,
      "outputs": []
    },
    {
      "cell_type": "code",
      "source": [
        "def funnn():\n",
        "  pass\n",
        "\n",
        "\n",
        "funnn()"
      ],
      "metadata": {
        "id": "ROi2ixm77Ba6"
      },
      "execution_count": null,
      "outputs": []
    },
    {
      "cell_type": "code",
      "source": [
        "# Day 16\n",
        "# class varaible\n",
        "\n",
        "class Student:\n",
        "  student_count=0  # class variable\n",
        "  collegename= \"JJCET\"\n",
        "\n",
        "  def __init__(self,name , age):\n",
        "    self.name = name\n",
        "    self.age= age\n",
        "    Student.student_count = Student.student_count+1\n",
        "    print(Student.student_count)\n",
        "    self.collegename= \"UVCE\"   # local instance variable\n",
        "\n",
        "  def display(self):\n",
        "    print(self.name , self.age ,self.collegename, Student.collegename)\n",
        "\n",
        "s1 = Student(\"Ram\",20)\n",
        "s2 = Student(\"Tejas\",21)\n",
        "s3= Student(\"Rose\",22)\n",
        "\n",
        "s1.display()\n",
        "s2.display()\n",
        "s3.display()\n",
        "\n",
        "print(Student.collegename)\n",
        "print(s1.collegename)\n",
        "print(s2.student_count)\n"
      ],
      "metadata": {
        "colab": {
          "base_uri": "https://localhost:8080/"
        },
        "id": "J8dXd70VB03g",
        "outputId": "dd6b89fd-6235-46a7-d928-7581aa80bb1d"
      },
      "execution_count": null,
      "outputs": [
        {
          "output_type": "stream",
          "name": "stdout",
          "text": [
            "1\n",
            "2\n",
            "3\n",
            "Ram 20 UVCE JJCET\n",
            "Tejas 21 UVCE JJCET\n",
            "Rose 22 UVCE JJCET\n",
            "JJCET\n",
            "UVCE\n",
            "3\n"
          ]
        }
      ]
    },
    {
      "cell_type": "code",
      "source": [
        "#class methods\n",
        "\n",
        "\n",
        "class Student:\n",
        "  student_count=0  # class variable\n",
        "  collegename= \"JJCET\"\n",
        "\n",
        "  def __init__(self,name , age):\n",
        "    self.name = name\n",
        "    self.age= age\n",
        "    Student.student_count = Student.student_count+1\n",
        "    print(Student.student_count)\n",
        "    self.collegename= \"UVCE\"   # local instance variable\n",
        "\n",
        "\n",
        "  @classmethod                 #class method\n",
        "  def get_college(cls):\n",
        "    print(cls.collegename)\n",
        "\n",
        "  def display(self):\n",
        "    print(self.name , self.age ,self.collegename, Student.collegename)\n",
        "\n",
        "s1 = Student(\"Ram\",20)\n",
        "s2 = Student(\"Tejas\",21)\n",
        "s3= Student(\"Rose\",22)\n",
        "\n",
        "Student.get_college()         # class method called\n",
        "\n",
        "s1.display()\n",
        "s2.display()\n",
        "s3.display()\n",
        "\"\"\"\n",
        "print(Student.collegename)\n",
        "print(s1.collegename)\n",
        "print(s2.student_count) \"\"\"\n"
      ],
      "metadata": {
        "colab": {
          "base_uri": "https://localhost:8080/",
          "height": 163
        },
        "id": "Ytx67bD2GgaO",
        "outputId": "3921308c-f359-426c-efa8-1d37376b0a6a"
      },
      "execution_count": null,
      "outputs": [
        {
          "output_type": "stream",
          "name": "stdout",
          "text": [
            "1\n",
            "2\n",
            "3\n",
            "JJCET\n",
            "Ram 20 UVCE JJCET\n",
            "Tejas 21 UVCE JJCET\n",
            "Rose 22 UVCE JJCET\n"
          ]
        },
        {
          "output_type": "execute_result",
          "data": {
            "text/plain": [
              "'\\nprint(Student.collegename)\\nprint(s1.collegename)\\nprint(s2.student_count) '"
            ],
            "application/vnd.google.colaboratory.intrinsic+json": {
              "type": "string"
            }
          },
          "metadata": {},
          "execution_count": 7
        }
      ]
    },
    {
      "cell_type": "code",
      "source": [
        "# inheritance\n",
        "\n",
        "\n",
        "class Employee:  #withoutr inheritance\n",
        "  bonus=2000\n",
        "  def display(self):\n",
        "    print(\"this is a employee class method\")\n",
        "\n",
        "\n",
        "class Manager:\n",
        "  bonus1 =5000\n",
        "  def show(self):\n",
        "    print(\"This is a manager class method\")\n",
        "\n",
        "e1= Employee()\n",
        "e1.display()\n",
        "\n",
        "\n",
        "m1= Manager()\n",
        "m1.show()\n",
        "\n",
        "m1.bonus  # error\n",
        "\n"
      ],
      "metadata": {
        "colab": {
          "base_uri": "https://localhost:8080/",
          "height": 238
        },
        "id": "t6Awkbc4JXFb",
        "outputId": "be814529-324b-4cdd-8819-21c2c19720ac"
      },
      "execution_count": null,
      "outputs": [
        {
          "output_type": "stream",
          "name": "stdout",
          "text": [
            "this is a employee class method\n",
            "This is a manager class method\n"
          ]
        },
        {
          "output_type": "error",
          "ename": "AttributeError",
          "evalue": "'Manager' object has no attribute 'bonus'",
          "traceback": [
            "\u001b[0;31m---------------------------------------------------------------------------\u001b[0m",
            "\u001b[0;31mAttributeError\u001b[0m                            Traceback (most recent call last)",
            "\u001b[0;32m<ipython-input-9-2c8590132d65>\u001b[0m in \u001b[0;36m<cell line: 0>\u001b[0;34m()\u001b[0m\n\u001b[1;32m     20\u001b[0m \u001b[0mm1\u001b[0m\u001b[0;34m.\u001b[0m\u001b[0mshow\u001b[0m\u001b[0;34m(\u001b[0m\u001b[0;34m)\u001b[0m\u001b[0;34m\u001b[0m\u001b[0;34m\u001b[0m\u001b[0m\n\u001b[1;32m     21\u001b[0m \u001b[0;34m\u001b[0m\u001b[0m\n\u001b[0;32m---> 22\u001b[0;31m \u001b[0mm1\u001b[0m\u001b[0;34m.\u001b[0m\u001b[0mbonus\u001b[0m\u001b[0;34m\u001b[0m\u001b[0;34m\u001b[0m\u001b[0m\n\u001b[0m\u001b[1;32m     23\u001b[0m \u001b[0;34m\u001b[0m\u001b[0m\n",
            "\u001b[0;31mAttributeError\u001b[0m: 'Manager' object has no attribute 'bonus'"
          ]
        }
      ]
    },
    {
      "cell_type": "code",
      "source": [
        "# inheritance\n",
        "\n",
        "\n",
        "class Employee:  #withoutr inheritance\n",
        "  bonus=2000\n",
        "  def display(self):\n",
        "    print(\"this is a employee class method\")\n",
        "\n",
        "\n",
        "class Manager(Employee):\n",
        "  bonus1 =5000\n",
        "  def show(self):\n",
        "    print(\"This is a manager class method\")\n",
        "\n",
        "e1= Employee()\n",
        "e1.display()\n",
        "\n",
        "\n",
        "m1= Manager()\n",
        "m1.show()\n",
        "\n",
        "m1.bonus  # error\n",
        "\n"
      ],
      "metadata": {
        "colab": {
          "base_uri": "https://localhost:8080/",
          "height": 238
        },
        "id": "8wzrXFyWKiyc",
        "outputId": "43179973-cf82-456c-926f-1d7c5b6e0eda"
      },
      "execution_count": null,
      "outputs": [
        {
          "output_type": "stream",
          "name": "stdout",
          "text": [
            "this is a employee class method\n",
            "This is a manager class method\n"
          ]
        },
        {
          "output_type": "error",
          "ename": "AttributeError",
          "evalue": "'Employee' object has no attribute 'bonus1'",
          "traceback": [
            "\u001b[0;31m---------------------------------------------------------------------------\u001b[0m",
            "\u001b[0;31mAttributeError\u001b[0m                            Traceback (most recent call last)",
            "\u001b[0;32m<ipython-input-11-bbd99cc9403b>\u001b[0m in \u001b[0;36m<cell line: 0>\u001b[0;34m()\u001b[0m\n\u001b[1;32m     21\u001b[0m \u001b[0;34m\u001b[0m\u001b[0m\n\u001b[1;32m     22\u001b[0m \u001b[0mm1\u001b[0m\u001b[0;34m.\u001b[0m\u001b[0mbonus\u001b[0m  \u001b[0;31m# error\u001b[0m\u001b[0;34m\u001b[0m\u001b[0;34m\u001b[0m\u001b[0m\n\u001b[0;32m---> 23\u001b[0;31m \u001b[0me1\u001b[0m\u001b[0;34m.\u001b[0m\u001b[0mbonus1\u001b[0m\u001b[0;34m\u001b[0m\u001b[0;34m\u001b[0m\u001b[0m\n\u001b[0m\u001b[1;32m     24\u001b[0m \u001b[0;34m\u001b[0m\u001b[0m\n",
            "\u001b[0;31mAttributeError\u001b[0m: 'Employee' object has no attribute 'bonus1'"
          ]
        }
      ]
    },
    {
      "cell_type": "code",
      "source": [
        "# constructors in inheritance\n",
        "\n",
        "class Father:\n",
        "  def __init__(self):\n",
        "    print(\"Father class constructor\")\n",
        "    self.vehicle = \"Scooter\"\n",
        "\n",
        "class Son(Father):\n",
        "  pass\n",
        "\n",
        "s= Son()\n",
        "print(s.__dict__)\n",
        "\n",
        "\n"
      ],
      "metadata": {
        "colab": {
          "base_uri": "https://localhost:8080/"
        },
        "id": "Tzycu4kSLLB4",
        "outputId": "a669bcae-3506-4331-b004-9482ad77bbe1"
      },
      "execution_count": null,
      "outputs": [
        {
          "output_type": "stream",
          "name": "stdout",
          "text": [
            "Father class constructor\n",
            "{'vehicle': 'Scooter'}\n"
          ]
        }
      ]
    },
    {
      "cell_type": "code",
      "source": [
        "# constructors in inheritance\n",
        "\n",
        "class Father:\n",
        "  def __init__(self):\n",
        "    print(\"Father class constructor\")\n",
        "    self.vehicle = \"Scooter\"\n",
        "\n",
        "class Son(Father):\n",
        "\n",
        "  def __init__(self):\n",
        "    print(\"son class constructor\")\n",
        "    self.vehicle= \"BMW\"\n",
        "\n",
        "s= Son()\n",
        "print(s.__dict__)"
      ],
      "metadata": {
        "colab": {
          "base_uri": "https://localhost:8080/"
        },
        "id": "tRB6WUjmMIw1",
        "outputId": "d35a61b4-5605-48bc-add6-772359622aa1"
      },
      "execution_count": null,
      "outputs": [
        {
          "output_type": "stream",
          "name": "stdout",
          "text": [
            "son class constructor\n",
            "{'vehicle': 'BMW'}\n"
          ]
        }
      ]
    },
    {
      "cell_type": "code",
      "source": [
        "## super method\n",
        "\n",
        "class Computer:\n",
        "  def __init__(self):\n",
        "    print(\"Computer class constructor\")\n",
        "    self.ram= \"8GB\"\n",
        "    self.processor = \"i5\"\n",
        "\n",
        "\n",
        "class Mobile(Computer):\n",
        "  def __init__(self):\n",
        "    super().__init__()\n",
        "    self.model= \"iphone\"\n",
        "    print(\"mob constructor calld\")\n",
        "\n",
        "\n",
        "\n",
        "m = Mobile()\n",
        "\n",
        "print(m.__dict__)"
      ],
      "metadata": {
        "colab": {
          "base_uri": "https://localhost:8080/"
        },
        "id": "7rdKkAmbNEo3",
        "outputId": "115290db-135b-4ae5-c90c-708b0621abb3"
      },
      "execution_count": null,
      "outputs": [
        {
          "output_type": "stream",
          "name": "stdout",
          "text": [
            "Computer class constructor\n",
            "mob constructor calld\n",
            "{'ram': '8GB', 'processor': 'i5', 'model': 'iphone'}\n"
          ]
        }
      ]
    },
    {
      "cell_type": "code",
      "source": [
        "# Parameterized Super method    # parent class is paramaterized , child class is non paramaterized\n",
        "\n",
        "class Computer:\n",
        "  def __init__(self,ram,pro):\n",
        "    print(\"Computer class constructor\")\n",
        "    self.ram= ram\n",
        "    self.processor = pro\n",
        "\n",
        "\n",
        "class Mobile(Computer):\n",
        "  def __init__(self,ram, processor):\n",
        "    super().__init__(ram,processor)\n",
        "    self.model= \"iphone\"\n",
        "    print(\"mob constructor calld\")\n",
        "\n",
        "\n",
        "\n",
        "m = Mobile('8GB','i7')\n",
        "\n",
        "print(m.__dict__)\n",
        "\n"
      ],
      "metadata": {
        "colab": {
          "base_uri": "https://localhost:8080/"
        },
        "id": "3H0Oho6NPjlP",
        "outputId": "8c590e88-540c-46c9-d8bb-850c81877fb7"
      },
      "execution_count": null,
      "outputs": [
        {
          "output_type": "stream",
          "name": "stdout",
          "text": [
            "Computer class constructor\n",
            "mob constructor calld\n",
            "{'ram': '8GB', 'processor': 'i7', 'model': 'iphone'}\n"
          ]
        }
      ]
    },
    {
      "cell_type": "code",
      "source": [
        "# Parameterized Super method    # parent class is paramaterized , child class is also paramaterized\n",
        "\n",
        "class Computer:\n",
        "  def __init__(self,ram,pro):\n",
        "    print(\"Computer class constructor\")\n",
        "    self.ram= ram\n",
        "    self.processor = pro\n",
        "\n",
        "\n",
        "class Mobile(Computer):\n",
        "  def __init__(self,ram, processor, model, dummy):\n",
        "    super().__init__(ram,processor)\n",
        "    self.model= model\n",
        "    self.dummy = dummy\n",
        "    print(\"mob constructor calld\")\n",
        "\n",
        "\n",
        "\n",
        "m = Mobile('8GB','i7',\"iphone\",\"dummy\")\n",
        "\n",
        "print(m.__dict__)"
      ],
      "metadata": {
        "colab": {
          "base_uri": "https://localhost:8080/"
        },
        "id": "WyUMjnHAqX4w",
        "outputId": "76594175-72c3-43d8-d048-566b91971dcd"
      },
      "execution_count": null,
      "outputs": [
        {
          "output_type": "stream",
          "name": "stdout",
          "text": [
            "Computer class constructor\n",
            "mob constructor calld\n",
            "{'ram': '8GB', 'processor': 'i7', 'model': 'iphone', 'dummy': 'dummy'}\n"
          ]
        }
      ]
    },
    {
      "cell_type": "code",
      "source": [
        "# class varibale inheritance\n",
        "\n",
        "# Parent class with a class variable\n",
        "class Parent:\n",
        "  parent_class_variable = \"I am a parent class variable\"\n",
        "\n",
        "  def __init__(self, name):\n",
        "    self.name = name\n",
        "\n",
        "  def display_parent_variable(self):\n",
        "    print(f\"From Parent instance {self.name}: {Parent.parent_class_variable}\")\n",
        "\n",
        "# Child class inheriting from Parent\n",
        "class Child(Parent):\n",
        "  child_class_variable = \"I am a child class variable\"\n",
        "\n",
        "  def __init__(self, name, age):\n",
        "    super().__init__(name) # Initialize the parent class\n",
        "    self.age = age\n",
        "\n",
        "  def display_variables(self):\n",
        "    print(f\"From Child instance {self.name}:\")\n",
        "    print(f\"  Parent class variable: {self.parent_class_variable}\") # Accessing inherited class variable\n",
        "    print(f\"  Child class variable: {self.child_class_variable}\") # Accessing child class variable\n",
        "\n",
        "# Create an instance of the Child class\n",
        "child_instance = Child(\"Alice\", 10)\n",
        "\n",
        "# Access and display the inherited class variable\n",
        "print(\"Accessing class variables:\")\n",
        "print(f\"From Parent class: {Parent.parent_class_variable}\")\n",
        "print(f\"From Child class (accessing inherited): {Child.parent_class_variable}\")\n",
        "print(f\"From Child instance (accessing inherited): {child_instance.parent_class_variable}\")\n",
        "print(f\"From Child class: {Child.child_class_variable}\")\n",
        "\n",
        "# Use the method to display the variables\n",
        "child_instance.display_variables()\n",
        "\n",
        "# Create a Parent instance to show the difference\n",
        "parent_instance = Parent(\"Bob\")\n",
        "parent_instance.display_parent_variable()\n",
        "# print(parent_instance.child_class_variable) # This would cause an error"
      ],
      "metadata": {
        "colab": {
          "base_uri": "https://localhost:8080/"
        },
        "id": "L_5ywWuys_qS",
        "outputId": "e3f558ae-d179-4acd-ec9f-22914a5b4405"
      },
      "execution_count": null,
      "outputs": [
        {
          "output_type": "stream",
          "name": "stdout",
          "text": [
            "Accessing class variables:\n",
            "From Parent class: I am a parent class variable\n",
            "From Child class (accessing inherited): I am a parent class variable\n",
            "From Child instance (accessing inherited): I am a parent class variable\n",
            "From Child class: I am a child class variable\n",
            "From Child instance Alice:\n",
            "  Parent class variable: I am a parent class variable\n",
            "  Child class variable: I am a child class variable\n",
            "From Parent instance Bob: I am a parent class variable\n"
          ]
        }
      ]
    },
    {
      "cell_type": "code",
      "source": [
        "# Multilevel inheritance\n",
        "\n",
        "class Grandfather:\n",
        "  gf_attribute = \" GFs trait\"\n",
        "\n",
        "  def display_gf(self):\n",
        "    print(self.gf_attribute)\n",
        "\n",
        "\n",
        "class Father(Grandfather):\n",
        "    father_attribute = \"Father trait\"\n",
        "\n",
        "    def display_father(self):\n",
        "      print(self.father_attribute)\n",
        "\n",
        "\n",
        "class Child(Father):\n",
        "    child_attribute = \"Child trait\"\n",
        "\n",
        "    def display_child(self):\n",
        "      print(self.child_attribute)\n",
        "\n",
        "child1= Child()\n",
        "child1.display_gf()\n",
        "child1.display_father()\n",
        "child1.display_child()\n",
        "\n",
        "print(child1.child_attribute)\n",
        "print(child1.father_attribute)\n",
        "print(child1.gf_attribute)\n"
      ],
      "metadata": {
        "colab": {
          "base_uri": "https://localhost:8080/"
        },
        "id": "J_NSGFpWt7_R",
        "outputId": "027ea437-4970-44d7-ecd3-164a70ec077b"
      },
      "execution_count": null,
      "outputs": [
        {
          "output_type": "stream",
          "name": "stdout",
          "text": [
            " GFs trait\n",
            "Father trait\n",
            "Child trait\n",
            "Child trait\n",
            "Father trait\n",
            " GFs trait\n"
          ]
        }
      ]
    },
    {
      "cell_type": "code",
      "source": [
        "# constructors in mulitlevel inheritance\n",
        "\n",
        "class Human():\n",
        "\n",
        "  def __init__(self):\n",
        "    print(\"Human class constructor\")\n",
        "    self.name=\"Radha\"\n",
        "\n",
        "class Emp(Human):\n",
        "\n",
        "  def __init__(self):\n",
        "    super().__init__()\n",
        "    print(\"Emp class constructor\")\n",
        "    self.name =\"Ram\"\n",
        "\n",
        "\n",
        "class Manager(Emp):\n",
        "\n",
        "  def __init__(self):\n",
        "    super().__init__()\n",
        "    print(\"Mnager class constructor\")\n",
        "    self.name= \"John\"\n",
        "\n",
        "\n",
        "m1 = Manager()\n",
        "\n",
        "print(m1.__dict__)"
      ],
      "metadata": {
        "colab": {
          "base_uri": "https://localhost:8080/"
        },
        "id": "pzOhvwjvvjPy",
        "outputId": "475bfb48-9b0f-4307-c0fd-d81793b3e51e"
      },
      "execution_count": null,
      "outputs": [
        {
          "output_type": "stream",
          "name": "stdout",
          "text": [
            "Mnager class constructor\n",
            "Human class constructor\n",
            "Emp class constructor\n",
            "{'name': 'Ram'}\n"
          ]
        }
      ]
    },
    {
      "cell_type": "code",
      "source": [
        "# constructors in mulitlevel inheritance with paramaterized constructot\n",
        "\n",
        "class Human():\n",
        "\n",
        "  def __init__(self, para1 , para2):\n",
        "    print(\"Human class constructor\")\n",
        "    self.name=\"Radha\"\n",
        "    self.para1 = para1\n",
        "    self.para2 = para2\n",
        "\n",
        "class Emp(Human):\n",
        "\n",
        "  def __init__(self,para1, para2 , para3, para4):\n",
        "    super().__init__(para1, para2)\n",
        "    print(\"Emp class constructor\")\n",
        "    self.name =\"Ram\"\n",
        "    self.para3 = para3\n",
        "    self.para4 = para4\n",
        "\n",
        "\n",
        "class Manager(Emp):\n",
        "\n",
        "  def __init__(self,para1, para2, para3,para4,para5,para6):\n",
        "    super().__init__(para1, para2, para3,para4)\n",
        "    print(\"Mnager class constructor\")\n",
        "    self.name= \"John\"\n",
        "    self.para5 = para5\n",
        "    self.para6 = para6\n",
        "\n",
        "\n",
        "m1 = Manager(10,20,30,40,50,60)\n",
        "\n",
        "print(m1.__dict__)"
      ],
      "metadata": {
        "colab": {
          "base_uri": "https://localhost:8080/"
        },
        "id": "mX6WS53C0AIS",
        "outputId": "d833c874-6df1-4937-a3f7-b0738d8c0aa9"
      },
      "execution_count": null,
      "outputs": [
        {
          "output_type": "stream",
          "name": "stdout",
          "text": [
            "Human class constructor\n",
            "Emp class constructor\n",
            "Mnager class constructor\n",
            "{'name': 'John', 'para1': 10, 'para2': 20, 'para3': 30, 'para4': 40, 'para5': 50, 'para6': 60}\n"
          ]
        }
      ]
    },
    {
      "cell_type": "code",
      "source": [
        "# Hierarchial inheritance\n",
        "\n",
        "class Person:\n",
        "  def __init__(self, name, age):\n",
        "    self.name = name\n",
        "    self.age = age\n",
        "\n",
        "\n",
        "class Student(Person):\n",
        "\n",
        "  def __init__(self, name, age, student_id):\n",
        "    super().__init__(name, age)\n",
        "    self.student_id = student_id\n",
        "\n",
        "  def display(self):\n",
        "    print(\"student display method\")\n",
        "\n",
        "\n",
        "class Emp(Person):\n",
        "  def __init__(self, name, age, emp_id):\n",
        "    super().__init__(name, age)\n",
        "    self.emp_id = emp_id\n",
        "\n",
        "  def display(self):\n",
        "    print(\"Emp display method\")\n",
        "\n",
        "\n",
        "s1 = Student(\"Ram\",22,\"CSE001\")\n",
        "print(s1.__dict__)\n",
        "\n",
        "e1 = Emp(\"Radha\",21,\"EMP001\")\n",
        "print(e1.__dict__)\n",
        "\n",
        "s1.display()\n",
        "e1.display()\n"
      ],
      "metadata": {
        "colab": {
          "base_uri": "https://localhost:8080/"
        },
        "id": "EsQGTry41dEA",
        "outputId": "aa0627db-9b3d-4b35-96a7-53a98e3fc036"
      },
      "execution_count": null,
      "outputs": [
        {
          "output_type": "stream",
          "name": "stdout",
          "text": [
            "{'name': 'Ram', 'age': 22, 'student_id': 'CSE001'}\n",
            "{'name': 'Radha', 'age': 21, 'emp_id': 'EMP001'}\n",
            "student display method\n",
            "Emp display method\n"
          ]
        }
      ]
    },
    {
      "cell_type": "code",
      "source": [
        "# Multiple inheritance\n",
        "\n",
        "class Country:\n",
        "  office = \"Delhi\"\n",
        "\n",
        "class State:\n",
        "  office = \"Chennai\"\n",
        "\n",
        "class District(State , Country):\n",
        "  pass\n",
        "\n",
        "d1 = District()\n",
        "print(d1.office)"
      ],
      "metadata": {
        "colab": {
          "base_uri": "https://localhost:8080/"
        },
        "id": "hOyEEB8w44nK",
        "outputId": "fb81a22f-8cf7-451c-9143-bdab30ccda3e"
      },
      "execution_count": null,
      "outputs": [
        {
          "output_type": "stream",
          "name": "stdout",
          "text": [
            "Chennai\n"
          ]
        }
      ]
    },
    {
      "cell_type": "code",
      "source": [
        "# Multiple inheritance with constructor\n",
        "\n",
        "class Country:\n",
        "  def __init__(self):\n",
        "    self.office = \"Delhi\"\n",
        "\n",
        "class State:\n",
        "  def __init__(self):\n",
        "    self.office = \"Chennai\"\n",
        "\n",
        "class District(Country ,State  ):\n",
        "  pass\n",
        "\n",
        "d1 = District()\n",
        "print(d1.office)"
      ],
      "metadata": {
        "colab": {
          "base_uri": "https://localhost:8080/"
        },
        "id": "FC1BccPL5u6v",
        "outputId": "34d00597-616f-4999-b011-7cfdc577e94e"
      },
      "execution_count": null,
      "outputs": [
        {
          "output_type": "stream",
          "name": "stdout",
          "text": [
            "Delhi\n"
          ]
        }
      ]
    },
    {
      "cell_type": "code",
      "source": [
        "class Country:\n",
        "  def __init__(self):\n",
        "    self.office = \"Delhi\"\n",
        "\n",
        "class State:\n",
        "  pass\n",
        "\n",
        "class District( State, Country ):\n",
        "  pass\n",
        "\n",
        "d1 = District()\n",
        "print(d1.office)"
      ],
      "metadata": {
        "colab": {
          "base_uri": "https://localhost:8080/"
        },
        "id": "EAKgAsa96KR_",
        "outputId": "d754600b-1672-464a-be94-531ad1be6755"
      },
      "execution_count": null,
      "outputs": [
        {
          "output_type": "stream",
          "name": "stdout",
          "text": [
            "Delhi\n"
          ]
        }
      ]
    },
    {
      "cell_type": "code",
      "source": [
        "# multiple inheritance with Super method\n",
        "\n",
        "class Human():\n",
        "  def __init__(self):\n",
        "    print(  \"Human class constructor\")\n",
        "    self.name = \"Radha\"\n",
        "\n",
        "  def display(self):\n",
        "    print(\"human class diaply\")\n",
        "\n",
        "class Emp():\n",
        "  def __init__(self):\n",
        "    print(\"Emp cons called\")\n",
        "    self.sal = 20000\n",
        "\n",
        "  def output(self):\n",
        "    print(\"emp class output method\")\n",
        "\n",
        "class Manager(Human , Emp  ):\n",
        "  def __init__(self):\n",
        "    super().__init__()\n",
        "    print(\"Manager cons called\")\n",
        "    self.bonus= 20\n",
        "\n",
        "m1 = Manager()\n",
        "print(m1.__dict__)\n",
        "\n",
        "m1.display()\n",
        "m1.output()"
      ],
      "metadata": {
        "colab": {
          "base_uri": "https://localhost:8080/"
        },
        "id": "RSqzuF0N6dbX",
        "outputId": "c758acce-5323-42de-9804-9bc03236ed2f"
      },
      "execution_count": null,
      "outputs": [
        {
          "output_type": "stream",
          "name": "stdout",
          "text": [
            "Human class constructor\n",
            "Manager cons called\n",
            "{'name': 'Radha', 'bonus': 20}\n",
            "human class diaply\n",
            "emp class output method\n"
          ]
        }
      ]
    },
    {
      "cell_type": "code",
      "source": [
        "class Dummy():\n",
        "  def __init__(self):\n",
        "    print(  \"dummy class constructor\")\n",
        "    self.money = 40000\n",
        "  def display(self):\n",
        "    print(\"dummy dispay\")\n",
        "\n",
        "class Human():\n",
        "  def __init__(self):\n",
        "    super().__init__()\n",
        "    print(  \"Human class constructor\")\n",
        "    self.name = \"Radha\"\n",
        "\n",
        "  def display(self):\n",
        "    print(\"Human dispay\")\n",
        "\n",
        "\n",
        "\n",
        "class Emp():\n",
        "  def __init__(self):\n",
        "    super().__init__()\n",
        "    print(\"Emp cons called\")\n",
        "    self.sal = 20000\n",
        "\n",
        "\n",
        "class Manager(Emp , Human, Dummy  ):\n",
        "  def __init__(self):\n",
        "    super().__init__()\n",
        "    print(\"Manager cons called\")\n",
        "    self.bonus= 20\n",
        "    Dummy.display(self)\n",
        "\n",
        "\"\"\" m1 = Manager()\n",
        "m1.display()\n",
        "\n",
        "print(m1.__dict__)\"\"\"\n",
        "\n",
        "e = Emp()\n",
        "print(e.__dict__)\n"
      ],
      "metadata": {
        "colab": {
          "base_uri": "https://localhost:8080/"
        },
        "id": "AjNx_hEd8kBS",
        "outputId": "53869db8-5ab1-41d8-e47e-3271084dea83"
      },
      "execution_count": 2,
      "outputs": [
        {
          "output_type": "stream",
          "name": "stdout",
          "text": [
            "Emp cons called\n",
            "{'sal': 20000}\n"
          ]
        }
      ]
    },
    {
      "cell_type": "code",
      "source": [
        "# MRO\n",
        "class A:\n",
        "  pass\n",
        "\n",
        "class B:\n",
        "  pass\n",
        "\n",
        "class C:\n",
        "  pass\n",
        "\n",
        "class X(A,B,C):\n",
        "  pass\n",
        "\n",
        "class Y(B,C):\n",
        "  pass\n",
        "\n",
        "class P(X,Y):\n",
        "  pass\n",
        "\n",
        "print(P.mro())"
      ],
      "metadata": {
        "colab": {
          "base_uri": "https://localhost:8080/"
        },
        "id": "TXF_my8jIc5F",
        "outputId": "381a7eef-dc1b-4f34-9c22-e0c237284269"
      },
      "execution_count": 4,
      "outputs": [
        {
          "output_type": "stream",
          "name": "stdout",
          "text": [
            "[<class '__main__.P'>, <class '__main__.X'>, <class '__main__.A'>, <class '__main__.Y'>, <class '__main__.B'>, <class '__main__.C'>, <class 'object'>]\n"
          ]
        }
      ]
    },
    {
      "cell_type": "code",
      "source": [
        "# Encapsulation\n",
        "\n",
        "class Finance:\n",
        "  def __init__(self):\n",
        "    self.rev = 100000\n",
        "    self.sales= 100\n",
        "\n",
        "\n",
        "f1= Finance()\n",
        "print(f1.__dict__)\n",
        "\n",
        "class HR:\n",
        "  def __init__(self):\n",
        "    self.emp = 200\n",
        "    f1.rev= 200000\n",
        "\n",
        "\n",
        "h1 = HR()\n",
        "print(h1.__dict__)\n",
        "print(f1.__dict__)\n"
      ],
      "metadata": {
        "colab": {
          "base_uri": "https://localhost:8080/"
        },
        "id": "bMJUHMjNLOU9",
        "outputId": "44841542-8bd4-4341-c2c8-1b1e6cc53c8e"
      },
      "execution_count": 7,
      "outputs": [
        {
          "output_type": "stream",
          "name": "stdout",
          "text": [
            "{'rev': 100000, 'sales': 100}\n",
            "{'emp': 200}\n",
            "{'rev': 200000, 'sales': 100}\n"
          ]
        }
      ]
    },
    {
      "cell_type": "code",
      "source": [
        "class Finance:\n",
        "  def __init__(self):\n",
        "    self.__rev = 100000 # private data\n",
        "    self.sales= 100\n",
        "\n",
        "  def get_data(self):\n",
        "    print(self.__rev)\n",
        "\n",
        "f1= Finance()\n",
        "print(f1.__dict__)\n",
        "print(f1._Finance__rev)\n",
        "\n",
        "\n",
        "\n",
        "\n",
        "\n",
        "class HR:\n",
        "  def __init__(self):\n",
        "    self.emp = 200\n",
        "    print(f1._Finance__rev)\n",
        "\n",
        "\n",
        "h1 = HR()\n",
        "print(h1.__dict__)\n",
        "#print(f1.__dict__) \"\"\"\n"
      ],
      "metadata": {
        "colab": {
          "base_uri": "https://localhost:8080/"
        },
        "id": "vxvFSeoiNpTQ",
        "outputId": "979e6ea1-49e7-4933-8c94-985ac32ec747"
      },
      "execution_count": 12,
      "outputs": [
        {
          "output_type": "stream",
          "name": "stdout",
          "text": [
            "{'_Finance__rev': 100000, 'sales': 100}\n",
            "100000\n",
            "100000\n",
            "{'emp': 200}\n"
          ]
        }
      ]
    },
    {
      "cell_type": "code",
      "source": [
        "class Finance:\n",
        "  def __init__(self):\n",
        "    self.__rev = 100000 # private data\n",
        "    self.sales= 100\n",
        "\n",
        "  def __get_data(self):  # private method\n",
        "    print(self.__rev)\n",
        "\n",
        "f1= Finance()\n",
        "f1.__get_data()\n"
      ],
      "metadata": {
        "colab": {
          "base_uri": "https://localhost:8080/",
          "height": 183
        },
        "id": "ZtmQNZBXRww-",
        "outputId": "1d80036e-8c7d-464f-8c20-f337b404e998"
      },
      "execution_count": 13,
      "outputs": [
        {
          "output_type": "error",
          "ename": "AttributeError",
          "evalue": "'Finance' object has no attribute '__get_data'",
          "traceback": [
            "\u001b[0;31m---------------------------------------------------------------------------\u001b[0m",
            "\u001b[0;31mAttributeError\u001b[0m                            Traceback (most recent call last)",
            "\u001b[0;32m<ipython-input-13-0c5cbc2232d3>\u001b[0m in \u001b[0;36m<cell line: 0>\u001b[0;34m()\u001b[0m\n\u001b[1;32m      8\u001b[0m \u001b[0;34m\u001b[0m\u001b[0m\n\u001b[1;32m      9\u001b[0m \u001b[0mf1\u001b[0m\u001b[0;34m=\u001b[0m \u001b[0mFinance\u001b[0m\u001b[0;34m(\u001b[0m\u001b[0;34m)\u001b[0m\u001b[0;34m\u001b[0m\u001b[0;34m\u001b[0m\u001b[0m\n\u001b[0;32m---> 10\u001b[0;31m \u001b[0mf1\u001b[0m\u001b[0;34m.\u001b[0m\u001b[0m__get_data\u001b[0m\u001b[0;34m(\u001b[0m\u001b[0;34m)\u001b[0m\u001b[0;34m\u001b[0m\u001b[0;34m\u001b[0m\u001b[0m\n\u001b[0m",
            "\u001b[0;31mAttributeError\u001b[0m: 'Finance' object has no attribute '__get_data'"
          ]
        }
      ]
    },
    {
      "cell_type": "code",
      "source": [
        "class Vehicle:\n",
        "  def __init__(self ,name , color,price):\n",
        "    self.name = name\n",
        "    self.color= color\n",
        "    self.price = price\n",
        "\n",
        "  def get_details(self):\n",
        "    print(self.name)\n",
        "    print(self.color)\n",
        "    print(self.price)\n",
        "\n",
        "  def max_speed(self):\n",
        "    print(\"max speed is 100\")\n",
        "\n",
        "  def gear(self):\n",
        "    print(\"6 gears\")\n",
        "\n",
        "\n",
        "class Car(Vehicle):\n",
        "  def max_speed(self):\n",
        "    print(\"max speed is 150\")\n",
        "\n",
        "  def gear(self):\n",
        "    print(\"7 gears\")\n",
        "\n",
        "v1 = Vehicle(\"Truck\",\"red\",200000)\n",
        "c1 = Car(\"car\",\"white\",3333333)\n",
        "v1.get_details()\n",
        "c1.get_details()\n",
        "\n",
        "v1.max_speed()\n",
        "c1.max_speed()\n",
        "\n"
      ],
      "metadata": {
        "colab": {
          "base_uri": "https://localhost:8080/"
        },
        "id": "FJSggGDWStLV",
        "outputId": "7ca6feca-f1d4-4f87-c523-8d96d332d9f8"
      },
      "execution_count": 15,
      "outputs": [
        {
          "output_type": "stream",
          "name": "stdout",
          "text": [
            "Truck\n",
            "red\n",
            "200000\n",
            "car\n",
            "white\n",
            "3333333\n",
            "max speed is 100\n",
            "max speed is 150\n"
          ]
        }
      ]
    },
    {
      "cell_type": "code",
      "source": [
        "# polymorphism with functions\n",
        "\n",
        "class BMW:\n",
        "  def fuel_type(self):\n",
        "    print(\"BMWs fuel type\")\n",
        "\n",
        "  def max_speed(self):\n",
        "    print(\"BMW;s max speed\")\n",
        "\n",
        "\n",
        "class Ferrari:\n",
        "  def fuel_type(self):\n",
        "    print(\"Ferrari's fuel type\")\n",
        "\n",
        "  def max_speed(self):\n",
        "    print(\"Ferrari's max speed\")\n",
        "\n",
        "\n",
        "def car_details(obj):\n",
        "  obj.fuel_type()\n",
        "  obj.max_speed()\n",
        "\n",
        "\n",
        "b= BMW()\n",
        "f= Ferrari()\n",
        "\n",
        "car_details(f)\n",
        "\n",
        "\n"
      ],
      "metadata": {
        "colab": {
          "base_uri": "https://localhost:8080/"
        },
        "id": "gEYMCp1fbCl9",
        "outputId": "b1a73bd9-0f6f-4edc-fd36-7f145feee06a"
      },
      "execution_count": 4,
      "outputs": [
        {
          "output_type": "stream",
          "name": "stdout",
          "text": [
            "Ferrari's fuel type\n",
            "Ferrari's max speed\n"
          ]
        }
      ]
    },
    {
      "cell_type": "code",
      "source": [
        "# operator overloading\n",
        "\n",
        "n1 = 10\n",
        "n2= 20\n",
        "print(n1+n2)\n",
        "\n",
        "print(n1.__add__(n2))\n",
        "print(int.__add__(n1,n2))\n",
        "\n",
        "print(dir(int))"
      ],
      "metadata": {
        "colab": {
          "base_uri": "https://localhost:8080/"
        },
        "id": "CbnObq4rdcMy",
        "outputId": "d3b689bc-f461-4ab3-f16d-c71762454724"
      },
      "execution_count": 8,
      "outputs": [
        {
          "output_type": "stream",
          "name": "stdout",
          "text": [
            "30\n",
            "30\n",
            "30\n",
            "['__abs__', '__add__', '__and__', '__bool__', '__ceil__', '__class__', '__delattr__', '__dir__', '__divmod__', '__doc__', '__eq__', '__float__', '__floor__', '__floordiv__', '__format__', '__ge__', '__getattribute__', '__getnewargs__', '__getstate__', '__gt__', '__hash__', '__index__', '__init__', '__init_subclass__', '__int__', '__invert__', '__le__', '__lshift__', '__lt__', '__mod__', '__mul__', '__ne__', '__neg__', '__new__', '__or__', '__pos__', '__pow__', '__radd__', '__rand__', '__rdivmod__', '__reduce__', '__reduce_ex__', '__repr__', '__rfloordiv__', '__rlshift__', '__rmod__', '__rmul__', '__ror__', '__round__', '__rpow__', '__rrshift__', '__rshift__', '__rsub__', '__rtruediv__', '__rxor__', '__setattr__', '__sizeof__', '__str__', '__sub__', '__subclasshook__', '__truediv__', '__trunc__', '__xor__', 'as_integer_ratio', 'bit_count', 'bit_length', 'conjugate', 'denominator', 'from_bytes', 'imag', 'numerator', 'real', 'to_bytes']\n"
          ]
        }
      ]
    },
    {
      "cell_type": "code",
      "source": [
        "n1 = \"NTT\"\n",
        "n2= \"DATA\"\n",
        "print(n1+n2)\n",
        "\n",
        "print(n1.__add__(n2))\n",
        "print(str.__add__(n1,n2))\n",
        "\n",
        "#print(dir(int))"
      ],
      "metadata": {
        "colab": {
          "base_uri": "https://localhost:8080/"
        },
        "id": "FKnmjt03eZLY",
        "outputId": "a95d4a82-2572-491b-985e-4e370d619700"
      },
      "execution_count": 9,
      "outputs": [
        {
          "output_type": "stream",
          "name": "stdout",
          "text": [
            "NTTDATA\n",
            "NTTDATA\n",
            "NTTDATA\n"
          ]
        }
      ]
    },
    {
      "cell_type": "code",
      "source": [
        "n1 = 10\n",
        "n2= \"DATA\"\n",
        "print(n1+n2)\n",
        "\n",
        "print(n1.__add__(n2))\n",
        "print(int.__add__(n1,n2))"
      ],
      "metadata": {
        "colab": {
          "base_uri": "https://localhost:8080/",
          "height": 220
        },
        "id": "8VGJxluMfmf-",
        "outputId": "b573dbb0-6484-46ca-b8f3-a764ba19db7d"
      },
      "execution_count": 10,
      "outputs": [
        {
          "output_type": "error",
          "ename": "TypeError",
          "evalue": "unsupported operand type(s) for +: 'int' and 'str'",
          "traceback": [
            "\u001b[0;31m---------------------------------------------------------------------------\u001b[0m",
            "\u001b[0;31mTypeError\u001b[0m                                 Traceback (most recent call last)",
            "\u001b[0;32m<ipython-input-10-a6908e039f2c>\u001b[0m in \u001b[0;36m<cell line: 0>\u001b[0;34m()\u001b[0m\n\u001b[1;32m      1\u001b[0m \u001b[0mn1\u001b[0m \u001b[0;34m=\u001b[0m \u001b[0;36m10\u001b[0m\u001b[0;34m\u001b[0m\u001b[0;34m\u001b[0m\u001b[0m\n\u001b[1;32m      2\u001b[0m \u001b[0mn2\u001b[0m\u001b[0;34m=\u001b[0m \u001b[0;34m\"DATA\"\u001b[0m\u001b[0;34m\u001b[0m\u001b[0;34m\u001b[0m\u001b[0m\n\u001b[0;32m----> 3\u001b[0;31m \u001b[0mprint\u001b[0m\u001b[0;34m(\u001b[0m\u001b[0mn1\u001b[0m\u001b[0;34m+\u001b[0m\u001b[0mn2\u001b[0m\u001b[0;34m)\u001b[0m\u001b[0;34m\u001b[0m\u001b[0;34m\u001b[0m\u001b[0m\n\u001b[0m\u001b[1;32m      4\u001b[0m \u001b[0;34m\u001b[0m\u001b[0m\n\u001b[1;32m      5\u001b[0m \u001b[0mprint\u001b[0m\u001b[0;34m(\u001b[0m\u001b[0mn1\u001b[0m\u001b[0;34m.\u001b[0m\u001b[0m__add__\u001b[0m\u001b[0;34m(\u001b[0m\u001b[0mn2\u001b[0m\u001b[0;34m)\u001b[0m\u001b[0;34m)\u001b[0m\u001b[0;34m\u001b[0m\u001b[0;34m\u001b[0m\u001b[0m\n",
            "\u001b[0;31mTypeError\u001b[0m: unsupported operand type(s) for +: 'int' and 'str'"
          ]
        }
      ]
    },
    {
      "cell_type": "code",
      "source": [
        "class Book:\n",
        "  def __init__(self, title,pages):\n",
        "    self.title = title\n",
        "    self.pages= pages\n",
        "\n",
        "b1 = Book(\"Python\",300)\n",
        "b2= Book (\"Let us C\", 200)\n",
        "\n",
        "#print(\"total pages\",b1.pages+b2.pages)\n",
        "\n",
        "print(b1+b2)"
      ],
      "metadata": {
        "colab": {
          "base_uri": "https://localhost:8080/",
          "height": 183
        },
        "id": "T33flZtvhyzA",
        "outputId": "8d3ce1f8-5c9d-41f3-96a4-5ccc29122d67"
      },
      "execution_count": 12,
      "outputs": [
        {
          "output_type": "error",
          "ename": "TypeError",
          "evalue": "unsupported operand type(s) for +: 'Book' and 'Book'",
          "traceback": [
            "\u001b[0;31m---------------------------------------------------------------------------\u001b[0m",
            "\u001b[0;31mTypeError\u001b[0m                                 Traceback (most recent call last)",
            "\u001b[0;32m<ipython-input-12-2c6098734cd7>\u001b[0m in \u001b[0;36m<cell line: 0>\u001b[0;34m()\u001b[0m\n\u001b[1;32m      9\u001b[0m \u001b[0;31m#print(\"total pages\",b1.pages+b2.pages)\u001b[0m\u001b[0;34m\u001b[0m\u001b[0;34m\u001b[0m\u001b[0m\n\u001b[1;32m     10\u001b[0m \u001b[0;34m\u001b[0m\u001b[0m\n\u001b[0;32m---> 11\u001b[0;31m \u001b[0mprint\u001b[0m\u001b[0;34m(\u001b[0m\u001b[0mb1\u001b[0m\u001b[0;34m+\u001b[0m\u001b[0mb2\u001b[0m\u001b[0;34m)\u001b[0m\u001b[0;34m\u001b[0m\u001b[0;34m\u001b[0m\u001b[0m\n\u001b[0m",
            "\u001b[0;31mTypeError\u001b[0m: unsupported operand type(s) for +: 'Book' and 'Book'"
          ]
        }
      ]
    },
    {
      "cell_type": "code",
      "source": [
        "class Book:\n",
        "  def __init__(self, title,pages):\n",
        "    self.title = title\n",
        "    self.pages= pages\n",
        "\n",
        "  def __add__(self,other):\n",
        "    self.pages = self.pages + other.pages\n",
        "    return self.pages\n",
        "\n",
        "b1 = Book(\"Python\",300,)\n",
        "b2= Book (\"Let us C\", 200)\n",
        "\n",
        "#print(\"total pages\",b1.pages+b2.pages)\n",
        "\n",
        "\n",
        "print(b1+b2)"
      ],
      "metadata": {
        "colab": {
          "base_uri": "https://localhost:8080/"
        },
        "id": "ZIgeHyqSiqBC",
        "outputId": "2f51a8fa-769e-422d-b03c-2f14e3010ed2"
      },
      "execution_count": 13,
      "outputs": [
        {
          "output_type": "stream",
          "name": "stdout",
          "text": [
            "500\n"
          ]
        }
      ]
    },
    {
      "cell_type": "code",
      "source": [
        "class Hotel:\n",
        "  def __init__(self, name, fare):\n",
        "    self.name = name\n",
        "    self.fare= fare\n",
        "\n",
        "  def __gt__(self, other):\n",
        "    return self.fare > other.fare\n",
        "\n",
        "h1 = Hotel(\"Taj\",12000)\n",
        "h2 = Hotel (\"Leela\",10000)\n",
        "\n",
        "print(h1>h2)\n",
        "\n",
        "print(dir(int))"
      ],
      "metadata": {
        "colab": {
          "base_uri": "https://localhost:8080/"
        },
        "id": "xqeCfAGUk96X",
        "outputId": "09f10db7-64ed-4423-e5e0-de9cac2738ca"
      },
      "execution_count": 16,
      "outputs": [
        {
          "output_type": "stream",
          "name": "stdout",
          "text": [
            "True\n",
            "['__abs__', '__add__', '__and__', '__bool__', '__ceil__', '__class__', '__delattr__', '__dir__', '__divmod__', '__doc__', '__eq__', '__float__', '__floor__', '__floordiv__', '__format__', '__ge__', '__getattribute__', '__getnewargs__', '__getstate__', '__gt__', '__hash__', '__index__', '__init__', '__init_subclass__', '__int__', '__invert__', '__le__', '__lshift__', '__lt__', '__mod__', '__mul__', '__ne__', '__neg__', '__new__', '__or__', '__pos__', '__pow__', '__radd__', '__rand__', '__rdivmod__', '__reduce__', '__reduce_ex__', '__repr__', '__rfloordiv__', '__rlshift__', '__rmod__', '__rmul__', '__ror__', '__round__', '__rpow__', '__rrshift__', '__rshift__', '__rsub__', '__rtruediv__', '__rxor__', '__setattr__', '__sizeof__', '__str__', '__sub__', '__subclasshook__', '__truediv__', '__trunc__', '__xor__', 'as_integer_ratio', 'bit_count', 'bit_length', 'conjugate', 'denominator', 'from_bytes', 'imag', 'numerator', 'real', 'to_bytes']\n"
          ]
        }
      ]
    },
    {
      "cell_type": "code",
      "source": [
        "# Method overloading\n",
        "\n",
        "class Addition:\n",
        "  def add(self,a=None,b=None,c=None):\n",
        "    if a!=None and b!= None  and c!= None:\n",
        "      print(a+b+c)\n",
        "    elif a!=None and b!=None:\n",
        "      print(a+b)\n",
        "\n",
        "    else:\n",
        "      print(\"invalid\")\n",
        "\n",
        "\n",
        "a1 = Addition()\n",
        "a1.add(10,20)\n",
        "a1.add(10,20,30)\n"
      ],
      "metadata": {
        "colab": {
          "base_uri": "https://localhost:8080/"
        },
        "id": "QH6Fu79-lg8A",
        "outputId": "87017b29-38f5-433d-ef6c-c42088e2de8d"
      },
      "execution_count": 19,
      "outputs": [
        {
          "output_type": "stream",
          "name": "stdout",
          "text": [
            "30\n",
            "60\n"
          ]
        }
      ]
    },
    {
      "cell_type": "code",
      "source": [
        "#destructor\n",
        "\n",
        "class Emp:\n",
        "  def __init__(self,name,sal):\n",
        "    self.name = name\n",
        "    self.sal =sal\n",
        "\n",
        "  def dispaly(self):\n",
        "    print(self.name,self.sal)\n",
        "\n",
        "  \"\"\"def __del__(self):\n",
        "    print(\"my destructor is called\")\"\"\"\n",
        "\n",
        "e1 = Emp(\"Radha\",20000)\n",
        "e1.dispaly()\n",
        "\n",
        "del e1\n",
        "\n",
        "\n"
      ],
      "metadata": {
        "colab": {
          "base_uri": "https://localhost:8080/"
        },
        "id": "ypCFtT5ZqDEt",
        "outputId": "5071405e-5ad9-4022-a787-8eb0eaa14418"
      },
      "execution_count": 23,
      "outputs": [
        {
          "output_type": "stream",
          "name": "stdout",
          "text": [
            "Radha 20000\n"
          ]
        }
      ]
    },
    {
      "cell_type": "code",
      "source": [
        "# exception handling\n",
        "\n",
        "n1 = int(input(\"enter 1st number\"))\n",
        "n2 = int(input(\"enter the 2nd number\"))\n",
        "\n",
        "try:\n",
        "\n",
        "  div= n1/n2\n",
        "  print(di)\n",
        "\n",
        "except ZeroDivisionError:\n",
        "  print(\"divide by 0 is not possible\")\n",
        "\n",
        "except NameError:\n",
        "    print(\"name not defined\")\n",
        "\n",
        "\n",
        "\n",
        "print(\"rest of the code\")\n",
        "\n"
      ],
      "metadata": {
        "colab": {
          "base_uri": "https://localhost:8080/"
        },
        "id": "dt540MHCjMt0",
        "outputId": "2f812b21-a4e1-4882-cb69-dfa3c4146b76"
      },
      "execution_count": 5,
      "outputs": [
        {
          "output_type": "stream",
          "name": "stdout",
          "text": [
            "enter 1st number10\n",
            "enter the 2nd number2\n",
            "name not defined\n",
            "rest of the code\n"
          ]
        }
      ]
    },
    {
      "cell_type": "code",
      "source": [
        "# exception handling\n",
        "\n",
        "n1 = int(input(\"enter 1st number\"))\n",
        "n2 = int(input(\"enter the 2nd number\"))\n",
        "\n",
        "try:\n",
        "\n",
        "  div= n1/n2\n",
        "  print(dibbb)\n",
        "\n",
        "except (ZeroDivisionError , NameError) as obj:\n",
        "  print(obj)\n",
        "\n",
        "print(\"rest of the code\")\n",
        "\n"
      ],
      "metadata": {
        "colab": {
          "base_uri": "https://localhost:8080/"
        },
        "id": "M0hi2Nayl42U",
        "outputId": "e7487d74-4d8e-45b1-cb29-388bf2a43c74"
      },
      "execution_count": 8,
      "outputs": [
        {
          "output_type": "stream",
          "name": "stdout",
          "text": [
            "enter 1st number10\n",
            "enter the 2nd number2\n",
            "name 'dibbb' is not defined\n",
            "rest of the code\n"
          ]
        }
      ]
    },
    {
      "cell_type": "code",
      "source": [
        "n1 = int(input(\"enter 1st number\"))\n",
        "n2 = int(input(\"enter the 2nd number\"))\n",
        "try:\n",
        "  div= n1/n2\n",
        "  print(div)\n",
        "\n",
        "except:\n",
        "  print(\"some exception is thrown\")\n",
        "\n",
        "else:\n",
        "  print(\"no exception\")\n",
        "\n",
        "finally:\n",
        "  print(\"finally\")\n",
        "\n",
        "\n",
        "print(\"rest of the code\")\n"
      ],
      "metadata": {
        "colab": {
          "base_uri": "https://localhost:8080/"
        },
        "id": "6S7vW9KUnt42",
        "outputId": "d43a864a-8fa8-4490-a590-4f76bca3776a"
      },
      "execution_count": 12,
      "outputs": [
        {
          "output_type": "stream",
          "name": "stdout",
          "text": [
            "enter 1st number10\n",
            "enter the 2nd number5\n",
            "2.0\n",
            "no exception\n",
            "finally\n",
            "rest of the code\n"
          ]
        }
      ]
    },
    {
      "cell_type": "code",
      "source": [
        "n1 = int(input(\"enter 1st number\"))\n",
        "n2 = int(input(\"enter the 2nd number\"))\n",
        "try:\n",
        "  div= n1/n2\n",
        "  print(div)\n",
        "\n",
        "except ZeroDivisionError as var:\n",
        "  print(var)\n",
        "\n",
        "\n",
        "\n",
        "print( \" rest of the code\")"
      ],
      "metadata": {
        "colab": {
          "base_uri": "https://localhost:8080/"
        },
        "id": "Zs0klQ7wpGqG",
        "outputId": "a1340d00-4026-42ba-a031-22bbc731e58d"
      },
      "execution_count": 13,
      "outputs": [
        {
          "output_type": "stream",
          "name": "stdout",
          "text": [
            "enter 1st number10\n",
            "enter the 2nd number0\n",
            "division by zero\n",
            " rest of the code\n"
          ]
        }
      ]
    },
    {
      "cell_type": "code",
      "source": [],
      "metadata": {
        "id": "5CHhGwOyqY31"
      },
      "execution_count": null,
      "outputs": []
    },
    {
      "cell_type": "code",
      "source": [
        "n1 = int(input(\"enter 1st number\"))\n",
        "n2 = int(input(\"enter the 2nd number\"))\n",
        "\n",
        "div= n1/n2\n",
        "print(div)\n",
        "\n",
        "\n",
        "\n",
        "\n",
        "\n",
        "print( \" rest of the code\")"
      ],
      "metadata": {
        "colab": {
          "base_uri": "https://localhost:8080/",
          "height": 256
        },
        "id": "LrBxpfcwpuPH",
        "outputId": "5f5a3230-1596-4f1a-bd25-3e8c8c5391b3"
      },
      "execution_count": 14,
      "outputs": [
        {
          "name": "stdout",
          "output_type": "stream",
          "text": [
            "enter 1st number10\n",
            "enter the 2nd number0\n"
          ]
        },
        {
          "output_type": "error",
          "ename": "ZeroDivisionError",
          "evalue": "division by zero",
          "traceback": [
            "\u001b[0;31m---------------------------------------------------------------------------\u001b[0m",
            "\u001b[0;31mZeroDivisionError\u001b[0m                         Traceback (most recent call last)",
            "\u001b[0;32m<ipython-input-14-3f26ca5fc35b>\u001b[0m in \u001b[0;36m<cell line: 0>\u001b[0;34m()\u001b[0m\n\u001b[1;32m      2\u001b[0m \u001b[0mn2\u001b[0m \u001b[0;34m=\u001b[0m \u001b[0mint\u001b[0m\u001b[0;34m(\u001b[0m\u001b[0minput\u001b[0m\u001b[0;34m(\u001b[0m\u001b[0;34m\"enter the 2nd number\"\u001b[0m\u001b[0;34m)\u001b[0m\u001b[0;34m)\u001b[0m\u001b[0;34m\u001b[0m\u001b[0;34m\u001b[0m\u001b[0m\n\u001b[1;32m      3\u001b[0m \u001b[0;34m\u001b[0m\u001b[0m\n\u001b[0;32m----> 4\u001b[0;31m \u001b[0mdiv\u001b[0m\u001b[0;34m=\u001b[0m \u001b[0mn1\u001b[0m\u001b[0;34m/\u001b[0m\u001b[0mn2\u001b[0m\u001b[0;34m\u001b[0m\u001b[0;34m\u001b[0m\u001b[0m\n\u001b[0m\u001b[1;32m      5\u001b[0m \u001b[0mprint\u001b[0m\u001b[0;34m(\u001b[0m\u001b[0mdiv\u001b[0m\u001b[0;34m)\u001b[0m\u001b[0;34m\u001b[0m\u001b[0;34m\u001b[0m\u001b[0m\n\u001b[1;32m      6\u001b[0m \u001b[0;34m\u001b[0m\u001b[0m\n",
            "\u001b[0;31mZeroDivisionError\u001b[0m: division by zero"
          ]
        }
      ]
    },
    {
      "cell_type": "code",
      "source": [
        "n1 = int(input(\"enter 1st number\"))\n",
        "n2 = int(input(\"enter the 2nd number\"))\n",
        "try:\n",
        "  div= n1/n2\n",
        "  print(divv)\n",
        "\n",
        "except Exception  as var:\n",
        "  print(var)\n",
        "  print(var.__class__)\n",
        "\n",
        "\n",
        "\n",
        "print( \" rest of the code\")"
      ],
      "metadata": {
        "colab": {
          "base_uri": "https://localhost:8080/"
        },
        "id": "h0rLuJmfqZsW",
        "outputId": "75ea4920-0556-41d8-e393-a914327eac6c"
      },
      "execution_count": 16,
      "outputs": [
        {
          "output_type": "stream",
          "name": "stdout",
          "text": [
            "enter 1st number10\n",
            "enter the 2nd number2\n",
            "name 'divv' is not defined\n",
            "<class 'NameError'>\n",
            " rest of the code\n"
          ]
        }
      ]
    },
    {
      "cell_type": "code",
      "source": [
        "# using sys module\n",
        "import sys\n",
        "n1 = int(input(\"enter 1st number\"))\n",
        "n2 = int(input(\"enter the 2nd number\"))\n",
        "try:\n",
        "  div= n1/n2\n",
        "  print(divv)\n",
        "\n",
        "except :\n",
        "  print(sys.exc_info()[0])\n",
        "  print(sys.exc_info()[1])\n",
        "\n",
        "\n",
        "\n",
        "\n",
        "print( \" rest of the code\")"
      ],
      "metadata": {
        "colab": {
          "base_uri": "https://localhost:8080/"
        },
        "id": "nVJpmD4irlcn",
        "outputId": "0e5d3156-d14b-4b2a-e568-3016088cfc2a"
      },
      "execution_count": 19,
      "outputs": [
        {
          "output_type": "stream",
          "name": "stdout",
          "text": [
            "enter 1st number10\n",
            "enter the 2nd number2\n",
            "<class 'NameError'>\n",
            "name 'divv' is not defined\n",
            " rest of the code\n"
          ]
        }
      ]
    },
    {
      "cell_type": "code",
      "source": [
        "# raise keyword\n",
        "\n",
        "\n",
        "try:\n",
        "  age= int(input(\"Enter ur age\"))\n",
        "  if age < 0:\n",
        "    raise ValueError\n",
        "  print(\"your age is \",age)\n",
        "\n",
        "except ValueError:\n",
        "  print(\"invalid age\")\n",
        "\n",
        "\n",
        "print(\"rest of the code\")"
      ],
      "metadata": {
        "colab": {
          "base_uri": "https://localhost:8080/"
        },
        "id": "WfyyB2lmt1nK",
        "outputId": "d6a07a89-994d-4cc0-a51e-7e03b256419d"
      },
      "execution_count": 20,
      "outputs": [
        {
          "output_type": "stream",
          "name": "stdout",
          "text": [
            "Enter ur age-10\n",
            "invalid age\n",
            "rest of the code\n"
          ]
        }
      ]
    },
    {
      "cell_type": "code",
      "source": [
        "try:\n",
        "  age= int(input(\"Enter ur age\"))\n",
        "  if age < 0:\n",
        "    raise ValueError(\"invalid age\")\n",
        "  print(\"your age is \",age)\n",
        "\n",
        "except ValueError as var:\n",
        "  print(var)\n",
        "\n",
        "\n",
        "print(\"rest of the code\")"
      ],
      "metadata": {
        "colab": {
          "base_uri": "https://localhost:8080/"
        },
        "id": "Bq4XLORpux9d",
        "outputId": "65df3d09-aa54-4b5a-dac8-10d187ad9b3b"
      },
      "execution_count": 21,
      "outputs": [
        {
          "output_type": "stream",
          "name": "stdout",
          "text": [
            "Enter ur age-10\n",
            "invalid age\n",
            "rest of the code\n"
          ]
        }
      ]
    },
    {
      "cell_type": "code",
      "source": [
        "# user defined exception\n",
        "\n",
        "class FiveDivisionError(Exception):\n",
        "  pass\n",
        "\n",
        "try:\n",
        "  n1 = int(input(\"enter the 1st no\"))\n",
        "  n2 = int(input(\"enter the 2nd no\"))\n",
        "\n",
        "  if n2==5:\n",
        "    raise FiveDivisionError(\"cannot divide by 5\")\n",
        "  div = n1/n2\n",
        "  print(\"div is\",div)\n",
        "\n",
        "except FiveDivisionError as var:\n",
        "  print(var)\n",
        "\n",
        "\n",
        "\n",
        "print(\"rest of the code\")"
      ],
      "metadata": {
        "colab": {
          "base_uri": "https://localhost:8080/"
        },
        "id": "iEHkW3V4v0nR",
        "outputId": "7e748f41-4146-4697-8ee2-81a39f22b606"
      },
      "execution_count": 22,
      "outputs": [
        {
          "output_type": "stream",
          "name": "stdout",
          "text": [
            "enter the 1st no10\n",
            "enter the 2nd no5\n",
            "cannot divide by 5\n",
            "rest of the code\n"
          ]
        }
      ]
    },
    {
      "cell_type": "code",
      "source": [
        "class AgeError(Exception):\n",
        "  pass\n",
        "\n",
        "try:\n",
        "  age= int(input(\"Enter ur age\"))\n",
        "  if age < 0:\n",
        "    raise AgeError(\"Age cannot be negative\")\n",
        "  print(\"your age is \",age)\n",
        "\n",
        "except AgeError as var:\n",
        "  print(var)\n",
        "\n",
        "\n",
        "print(\"rest of the code\")"
      ],
      "metadata": {
        "colab": {
          "base_uri": "https://localhost:8080/"
        },
        "id": "_W36v0zoxdy3",
        "outputId": "32bfda90-ca34-481f-de13-8a8e98e136fa"
      },
      "execution_count": 23,
      "outputs": [
        {
          "output_type": "stream",
          "name": "stdout",
          "text": [
            "Enter ur age-10\n",
            "invalid age\n",
            "rest of the code\n"
          ]
        }
      ]
    },
    {
      "cell_type": "code",
      "source": [
        "# ATM project\n",
        "import time\n",
        "class BalanceException(Exception):\n",
        "  pass\n",
        "class AttemptException(Exception):\n",
        "  pass\n",
        "attempt=1\n",
        "def withdraw():\n",
        "  global attempt\n",
        "  saved_pin=1234\n",
        "  balance = 10000\n",
        "\n",
        "  pin = int(input(\"enter the PIN\"))\n",
        "\n",
        "  if pin == saved_pin:\n",
        "    try:\n",
        "      amt = int(input(\"enter the amt to withdraw\"))\n",
        "      temp_bal = balance- amt\n",
        "      if temp_bal < 1000:\n",
        "        raise BalanceException(\"balance cannot be less than 1000\")\n",
        "      balance = balance- amt\n",
        "      print(\"remaining balance is \", balance)\n",
        "\n",
        "    except BalanceException as var:\n",
        "      print(var)\n",
        "\n",
        "  else:\n",
        "    print(\"invalid pin\")\n",
        "    ans = input(\"do u want to continue again (y/n)\")\n",
        "    if ans == \"y\":\n",
        "      attempt = attempt + 1\n",
        "      try:\n",
        "        if attempt == 4:\n",
        "          raise AttemptException(\" too mant attempts , your account is blocked for 3 hours\")\n",
        "\n",
        "      except AttemptException as var:\n",
        "        print(var)\n",
        "        time.sleep(3600)\n",
        "\n",
        "      else:\n",
        "        withdraw()\n",
        "    else:\n",
        "      print(\"bye\")\n",
        "\n",
        "\n",
        "\n",
        "\n",
        "\n",
        "\n",
        "\n",
        "withdraw()"
      ],
      "metadata": {
        "colab": {
          "base_uri": "https://localhost:8080/"
        },
        "id": "aA4ALD8PylvU",
        "outputId": "41bd78cb-6850-4996-dc8b-313030501292"
      },
      "execution_count": 25,
      "outputs": [
        {
          "output_type": "stream",
          "name": "stdout",
          "text": [
            "enter the PIN1111\n",
            "invalid pin\n",
            "do u want to continue again (y/n)y\n",
            "enter the PIN2222\n",
            "invalid pin\n",
            "do u want to continue again (y/n)y\n",
            "enter the PIN3333\n",
            "invalid pin\n",
            "do u want to continue again (y/n)y\n",
            " too mant attempts , your account is blocked for 3 hours\n"
          ]
        }
      ]
    },
    {
      "cell_type": "code",
      "source": [
        "class AgeError(Exception):\n",
        "  def __init__(self, msg):\n",
        "    self.msg = msg"
      ],
      "metadata": {
        "id": "mZYoXXBs3lat"
      },
      "execution_count": null,
      "outputs": []
    },
    {
      "cell_type": "code",
      "source": [
        "# packages\n",
        "\n",
        "%cd my_project"
      ],
      "metadata": {
        "colab": {
          "base_uri": "https://localhost:8080/"
        },
        "id": "QqsUnr2ww17M",
        "outputId": "9818e5f2-f760-4939-c53d-48a6dc265e1b"
      },
      "execution_count": 1,
      "outputs": [
        {
          "output_type": "stream",
          "name": "stdout",
          "text": [
            "/content/my_project\n"
          ]
        }
      ]
    },
    {
      "cell_type": "code",
      "source": [
        "%run main.py"
      ],
      "metadata": {
        "colab": {
          "base_uri": "https://localhost:8080/"
        },
        "id": "xKZlj5n1w-2v",
        "outputId": "f5210767-0f10-41c7-a274-a8a4e2557a25"
      },
      "execution_count": 15,
      "outputs": [
        {
          "output_type": "stream",
          "name": "stdout",
          "text": [
            "NTT\n"
          ]
        }
      ]
    },
    {
      "cell_type": "code",
      "source": [
        "#Bank project\n",
        "\n",
        "class Bank:\n",
        "  bankname= \"Indian bank\"\n",
        "  branch = \"Bellandur , Blr\"\n",
        "\n",
        "  #create account\n",
        "  def __init__(self , username , pan, address):\n",
        "    self.username = username\n",
        "    self.pan = pan\n",
        "    self.address = address\n",
        "    self.balance = 0\n",
        "    print(\"account created succesfully\")\n",
        "\n",
        "  def withdraw(self, amt):\n",
        "    if amt< self.balance:\n",
        "      self.balance = self.balance - amt\n",
        "      print(\"remaining balance is \", self.balance)\n",
        "    else:\n",
        "      print(\"insufficient balance\")\n",
        "\n",
        "  def deposit(self, amt):\n",
        "    self.balance = self.balance + amt\n",
        "    print(\"amount deposited successfully\")\n",
        "\n",
        "  def balance_check(self):\n",
        "    print(\"your balance is \", self.balance)\n",
        "\n",
        "\n",
        "# collect user data for account creation\n",
        "\n",
        "\n",
        "username = input(\"enter your name\")\n",
        "pan= input(\"enter ur pan no\")\n",
        "address = input(\"enter ur address\")\n",
        "\n",
        "b = Bank(username, pan, address)\n",
        "\n",
        "\n",
        "while True:\n",
        "   print(\"1. Deposit , 2.withdraw 3.balacecheck 4.quit\")\n",
        "   option = int(input(\"enter ur option\"))\n",
        "\n",
        "   if option ==1:\n",
        "    amt = int(input(\"enter the amount to deposit\"))\n",
        "    b.deposit(amt)\n",
        "\n",
        "   elif option == 2:\n",
        "    amt = int(input(\"enter the amount to withdraw\"))\n",
        "    b.withdraw(amt)\n",
        "\n",
        "   elif option == 3:\n",
        "    b.balance_check()\n",
        "\n",
        "   elif option == 4:\n",
        "    break\n",
        "\n",
        "   else:\n",
        "    print(\"invalid option\")\n",
        "\n"
      ],
      "metadata": {
        "colab": {
          "base_uri": "https://localhost:8080/"
        },
        "id": "o3J-THaM10hs",
        "outputId": "f9def612-1f17-42df-c357-c24bd08c6063"
      },
      "execution_count": 12,
      "outputs": [
        {
          "name": "stdout",
          "output_type": "stream",
          "text": [
            "enter your nameRadha\n",
            "enter ur pan noaaabbbccc\n",
            "enter ur addressadasd adad aad   \n",
            "account created succesfully\n",
            "1. Deposit , 2.withdraw 3.balacecheck 4.quit\n",
            "enter ur option3\n",
            "your balance is  0\n",
            "1. Deposit , 2.withdraw 3.balacecheck 4.quit\n",
            "enter ur option2\n",
            "enter the amount to withdraw100\n",
            "insufficient balance\n",
            "1. Deposit , 2.withdraw 3.balacecheck 4.quit\n",
            "enter ur option1\n",
            "enter the amount to deposit5000\n",
            "amount deposited successfully\n",
            "1. Deposit , 2.withdraw 3.balacecheck 4.quit\n",
            "enter ur option3\n",
            "your balance is  5000\n",
            "1. Deposit , 2.withdraw 3.balacecheck 4.quit\n",
            "enter ur option2\n",
            "enter the amount to withdraw3000\n",
            "remaining balance is  2000\n",
            "1. Deposit , 2.withdraw 3.balacecheck 4.quit\n",
            "enter ur option1\n",
            "enter the amount to deposit6000\n",
            "amount deposited successfully\n",
            "1. Deposit , 2.withdraw 3.balacecheck 4.quit\n",
            "enter ur option3\n",
            "your balance is  8000\n",
            "1. Deposit , 2.withdraw 3.balacecheck 4.quit\n",
            "enter ur option4\n"
          ]
        }
      ]
    }
  ]
}