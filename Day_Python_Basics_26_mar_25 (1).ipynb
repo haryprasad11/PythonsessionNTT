{
  "nbformat": 4,
  "nbformat_minor": 0,
  "metadata": {
    "colab": {
      "provenance": []
    },
    "kernelspec": {
      "name": "python3",
      "display_name": "Python 3"
    },
    "language_info": {
      "name": "python"
    }
  },
  "cells": [
    {
      "cell_type": "code",
      "execution_count": null,
      "metadata": {
        "id": "lajyy_F508A7"
      },
      "outputs": [],
      "source": [
        "a = 10\n",
        "print(a)\n",
        "print(\"a=\",id(a))\n",
        "\n",
        "b=10\n",
        "print(b)\n",
        "print(\"b=\",id(b))\n",
        "\n",
        "c=a\n",
        "print(c)\n",
        "print(\"c=\",id(c))"
      ]
    },
    {
      "cell_type": "code",
      "source": [],
      "metadata": {
        "id": "75ErTXh1jGvn"
      },
      "execution_count": null,
      "outputs": []
    },
    {
      "cell_type": "code",
      "source": [
        "# dynamic programming\n",
        "\n",
        "a=10\n",
        "print(a)\n",
        "print(id(a))\n",
        "\n",
        "a = 3.14\n",
        "print(a)\n",
        "print(id(a))\n",
        "\n",
        "a =\"NTT\"\n",
        "print(a)\n",
        "print(id(a))"
      ],
      "metadata": {
        "id": "-i-0aiML1_Jc"
      },
      "execution_count": null,
      "outputs": []
    },
    {
      "cell_type": "code",
      "source": [
        "# deleting a variable\n",
        "\n",
        "a = 20\n",
        "print(a)\n",
        "del a\n",
        "print(a)"
      ],
      "metadata": {
        "id": "cdS8o4-f1_XP"
      },
      "execution_count": null,
      "outputs": []
    },
    {
      "cell_type": "code",
      "source": [
        "# creating multiple variables\n",
        "\n",
        "a,b,c = 10 , 3.14 , \"NTT\"\n",
        "print(a,b,c)"
      ],
      "metadata": {
        "id": "-Tcxwt2z1_hN"
      },
      "execution_count": null,
      "outputs": []
    },
    {
      "cell_type": "code",
      "source": [
        "#assign single values to multiple variables\n",
        "\n",
        "a=b=c=100\n",
        "print(a,b,c)"
      ],
      "metadata": {
        "id": "fBZtkyj40zCp"
      },
      "execution_count": null,
      "outputs": []
    },
    {
      "cell_type": "code",
      "source": [
        "# variable annonation\n",
        "a: int = 10\n",
        "print(a)\n",
        "\n",
        "print(__annotations__['a'])\n",
        "\n",
        "b: float = 31.3\n",
        "print(b)\n",
        "\n",
        "print(__annotations__['b'])\n",
        "\n",
        "c: str = \"NTT\"\n",
        "print(c)\n",
        "\n",
        "print(__annotations__['c'])\n",
        "\n",
        "a = \"Blr\"\n",
        "\n",
        "print(a)\n"
      ],
      "metadata": {
        "id": "WlomgxER1_qa"
      },
      "execution_count": null,
      "outputs": []
    },
    {
      "cell_type": "code",
      "source": [
        "import keyword\n",
        "\n",
        "print(keyword.kwlist)\n",
        "print(len(keyword.kwlist))\n"
      ],
      "metadata": {
        "id": "GcTCfY_L3HN0"
      },
      "execution_count": null,
      "outputs": []
    },
    {
      "cell_type": "code",
      "source": [
        "# this section is for commentingqqqqqqqqqqqqqqqqqqqqqqqqqqqqqqqqqqqqqqqqqqqqqqqqqqqqqqqqqqqqqqqqqqqqqqqqqqqqqqqqqqqqqqq\n",
        "#ddddddddddddddddddddddd\n",
        "#ddddddddddddddddddddd"
      ],
      "metadata": {
        "id": "rKKN5Zvc3xpj"
      },
      "execution_count": null,
      "outputs": []
    },
    {
      "cell_type": "code",
      "source": [
        "# multiline comments\n",
        "\n",
        "\"\"\" efdasdfasdf\n",
        "asdfasdfasdf\n",
        "asdfasdfasdf\n",
        "asdfasfasdfasdfasdfasfd \"\"\"\n",
        "\n",
        "print(\"multiline comment\")"
      ],
      "metadata": {
        "id": "wA6IfXeU3_9Y"
      },
      "execution_count": null,
      "outputs": []
    },
    {
      "cell_type": "code",
      "source": [
        "# string\n",
        "\n",
        "s= \"code yug\"\n",
        "\n",
        "print(s[0:3:1])\n",
        "print(s[2:4])"
      ],
      "metadata": {
        "id": "oHmrYbaLDSZp"
      },
      "execution_count": null,
      "outputs": []
    },
    {
      "cell_type": "code",
      "source": [
        "# slicing\n",
        "\n",
        "s = \"bangalore\"\n",
        "\n",
        "print(s[::])"
      ],
      "metadata": {
        "id": "5L7WSZC22Yo5"
      },
      "execution_count": null,
      "outputs": []
    },
    {
      "cell_type": "code",
      "source": [
        "# negative slicing\n",
        "\n",
        "s = \"bangalore\"\n",
        "\n",
        "print(s[-1:-4:-1])\n",
        "print(s[-1:-8:-2])\n",
        "print(s[-2:-6:2])\n",
        "\n",
        "print(s[-1: :-1])"
      ],
      "metadata": {
        "id": "rusYStc-JroV"
      },
      "execution_count": null,
      "outputs": []
    },
    {
      "cell_type": "code",
      "source": [
        "s = \"bangalore\"\n",
        "\n",
        "print(s[20])"
      ],
      "metadata": {
        "id": "L06QYEpYj5fl"
      },
      "execution_count": null,
      "outputs": []
    },
    {
      "cell_type": "code",
      "source": [
        "#day3\n",
        "\n",
        "# simple if statement\n",
        "\n",
        "if 10>5:\n",
        "  print(\"10 is greater than 5\")\n",
        "  print(\" i am inside if bloxk\")\n",
        "  print(\"still i am inside if block\")\n",
        "  print(\"i am outside if block\")\n",
        "\n",
        "\n"
      ],
      "metadata": {
        "id": "aQPj2ZpPnBSz"
      },
      "execution_count": null,
      "outputs": []
    },
    {
      "cell_type": "code",
      "source": [
        "# input statement\n",
        "\n",
        "name = input(\" enter your name\")\n",
        "print(\"your name is\",name)"
      ],
      "metadata": {
        "id": "NUkgm-ZEpONZ"
      },
      "execution_count": null,
      "outputs": []
    },
    {
      "cell_type": "code",
      "source": [
        "no1 = int(input(\" enter the first no\"))\n",
        "no2 = int(input(\"enter the 2nd number\"))\n",
        "\n",
        "if no1 > no2:\n",
        "  print(\"no1 is greater\")"
      ],
      "metadata": {
        "id": "0z04YVjopnJl"
      },
      "execution_count": null,
      "outputs": []
    },
    {
      "cell_type": "code",
      "source": [],
      "metadata": {
        "id": "lG6Li2Ftrq7X"
      },
      "execution_count": null,
      "outputs": []
    },
    {
      "cell_type": "code",
      "source": [
        "no1 = float(input(\" enter the first no\"))\n",
        "no2 = float(input(\"enter the 2nd number\"))\n",
        "print(no1+no2)"
      ],
      "metadata": {
        "id": "Hl_L-nkyqPy_"
      },
      "execution_count": null,
      "outputs": []
    },
    {
      "cell_type": "code",
      "source": [
        "age = int(input(\"enter your age\"))\n",
        "\n",
        "if age >= 18 :\n",
        "  print(\"welcome to vote\")\n",
        "  print(\"you can vote\")\n",
        "else:\n",
        "  print(\"you cannot vote\")\n",
        "\n",
        "print(\"Thank you\")"
      ],
      "metadata": {
        "id": "jjrgKcBIrrq3"
      },
      "execution_count": null,
      "outputs": []
    },
    {
      "cell_type": "code",
      "source": [
        "a = int ( input(\"enter a no\"))\n",
        "\n",
        "if a % 2 == 0 :\n",
        "  print(\" even no\")\n",
        "else:\n",
        "  print(\"odd\")"
      ],
      "metadata": {
        "id": "2jcUq4Twtl5j"
      },
      "execution_count": null,
      "outputs": []
    },
    {
      "cell_type": "code",
      "source": [
        "#  if elif else\n",
        "\n",
        "grade = int(input(\"enter your score\"))\n",
        "\n",
        "if grade >= 90:\n",
        "  print(\"A grade\")\n",
        "elif grade >= 80:\n",
        "  print(\"B grade\")\n",
        "elif grade >= 70:\n",
        "  print(\"c grade\")\n",
        "\n",
        "else:\n",
        "  print(\"fail\")"
      ],
      "metadata": {
        "id": "lUcg0Z8ouoqU"
      },
      "execution_count": null,
      "outputs": []
    },
    {
      "cell_type": "code",
      "source": [
        "# nested if\n",
        "\n",
        "num = int(input(\"enetr a no\"))\n",
        "\n",
        "if num > 0 :\n",
        "  print(\"numer is a positive number\")\n",
        "  if num%2 == 0:\n",
        "    print(\"number is even\")\n",
        "  else:\n",
        "    print(\"number is odd\")\n",
        "else:\n",
        "  print(\"negative number\")"
      ],
      "metadata": {
        "id": "tbIG9hxI0GBq"
      },
      "execution_count": null,
      "outputs": []
    },
    {
      "cell_type": "code",
      "source": [
        "# while loop\n",
        "\n",
        "i=2\n",
        "\n",
        "while i<=5:\n",
        "  print(i)\n",
        "  i =i+1"
      ],
      "metadata": {
        "id": "APudCtvx2aVW"
      },
      "execution_count": null,
      "outputs": []
    },
    {
      "cell_type": "code",
      "source": [
        "# multiplication table\n",
        "\n",
        "num = int(input(\"enter the table no\"))\n",
        "\n",
        "i=1\n",
        "\n",
        "while i <=10:\n",
        "  print(i*num)\n",
        "  i=i+1"
      ],
      "metadata": {
        "id": "TsNYw6rX3Gus"
      },
      "execution_count": null,
      "outputs": []
    },
    {
      "cell_type": "code",
      "source": [
        "i= 1\n",
        "while i <= 100:\n",
        "  print(i)\n",
        "  i+=2\n"
      ],
      "metadata": {
        "id": "gTq0vuiV4Zq8"
      },
      "execution_count": null,
      "outputs": []
    },
    {
      "cell_type": "code",
      "source": [
        "# for loop\n",
        "\n",
        "for i in \"Good\" :\n",
        "  print(\"Ntt data\")"
      ],
      "metadata": {
        "id": "vMFoVxn_5clH"
      },
      "execution_count": null,
      "outputs": []
    },
    {
      "cell_type": "code",
      "source": [
        "v = ['a','e','i','o','u']\n",
        "\n",
        "st = \"bAngalOre\".lower()\n",
        "print(st)\n",
        "counter= 0\n",
        "\n",
        "for i in \"bangalore\":\n",
        "  if i in v:\n",
        "    counter = counter + 1\n",
        "\n",
        "print(counter)\n"
      ],
      "metadata": {
        "id": "wqKvSvLf7Frf"
      },
      "execution_count": null,
      "outputs": []
    },
    {
      "cell_type": "code",
      "source": [
        "#nested for loop\n",
        "for i in \"BLR\":\n",
        "  print(\"outer loop\")\n",
        "  for j in [10,20,30]:\n",
        "    print(\"inner loop\")\n",
        "    print(i,j)"
      ],
      "metadata": {
        "id": "SwPZbuv-0gZi"
      },
      "execution_count": null,
      "outputs": []
    },
    {
      "cell_type": "code",
      "source": [
        "# reverse a string using slicing\n",
        "\n",
        "str = input( \"enter a string\")\n",
        "rev = str[::-1]\n",
        "\n",
        "if str == rev:\n",
        "  print(\"palindrome\")\n",
        "else:\n",
        "  print(\"not a pali\")\n"
      ],
      "metadata": {
        "id": "cUkuTK6r2foV"
      },
      "execution_count": null,
      "outputs": []
    },
    {
      "cell_type": "code",
      "source": [
        "for i in \"bangalore\":\n",
        "  print(i)\n",
        "  if i == 'g':\n",
        "    break\n",
        "\n",
        "\n",
        "print(\"end of for loop\")\n",
        "\n"
      ],
      "metadata": {
        "id": "36UEbZRQ6O6j"
      },
      "execution_count": null,
      "outputs": []
    },
    {
      "cell_type": "code",
      "source": [
        "s1 = \"apple\"\n",
        "s2 = \"banana\"\n",
        "print(s1+s2)\n",
        "print(s1*3)"
      ],
      "metadata": {
        "id": "ub1srlAW9WxG"
      },
      "execution_count": null,
      "outputs": []
    },
    {
      "cell_type": "code",
      "source": [
        "# string is immutable\n",
        "\n",
        "s1 = \"apple\"\n",
        "s1[0]= \"A\"\n",
        "print(s1)"
      ],
      "metadata": {
        "id": "Hb53Jfcy9sa2"
      },
      "execution_count": null,
      "outputs": []
    },
    {
      "cell_type": "code",
      "source": [
        "#string deletion\n",
        "s1= \"apple\"\n",
        "print(s1)\n",
        "del s1\n",
        "print(s1)"
      ],
      "metadata": {
        "id": "y9h5GzbT-MKI"
      },
      "execution_count": null,
      "outputs": []
    },
    {
      "cell_type": "code",
      "source": [
        "# length of the string\n",
        "s1 = input(\"enter the string\")\n",
        "print(len(s1))"
      ],
      "metadata": {
        "id": "EkLWef9u-6w2"
      },
      "execution_count": null,
      "outputs": []
    },
    {
      "cell_type": "code",
      "source": [
        "#count method\n",
        "s1 = \"My name is khan and khan\"\n",
        "c = s1.count(\"khan\",15,)\n",
        "print(c)"
      ],
      "metadata": {
        "id": "MXViqJhU_6kR"
      },
      "execution_count": null,
      "outputs": []
    },
    {
      "cell_type": "code",
      "source": [
        "#startswith\n",
        "mainstring = input(\"enter the main string\")\n",
        "substring = input(\"enter the substring\")\n",
        "\n",
        "if mainstring.startswith(substring):\n",
        "  print(\"yes\")\n",
        "else:\n",
        "  print(\"no\")\n"
      ],
      "metadata": {
        "id": "6b0kcliNBUP-"
      },
      "execution_count": null,
      "outputs": []
    },
    {
      "cell_type": "code",
      "source": [
        "str=input(\"Enter a number: \")\n",
        "if str.startswith(\"92\"):\n",
        "  print(\"Pak\")\n",
        "elif str.startswith(\"91\"):\n",
        "  print(\"India\")\n",
        "elif str.startswith(\"1\"):\n",
        "  print(\"USA\")\n",
        "elif str.startswith(\"3\"):\n",
        "  print(\"uk\")\n",
        "else:\n",
        "  print(\"Number is invalid\")"
      ],
      "metadata": {
        "id": "3KQnIbC7F7TW"
      },
      "execution_count": null,
      "outputs": []
    },
    {
      "cell_type": "code",
      "source": [
        "str=input(\"enter the url\")\n",
        "if str.endswith(\".com\"):\n",
        "  print(\"commercial website\")\n",
        "elif str.endswith(\".edu\"):\n",
        "  print(\"education website\")\n",
        "else:\n",
        "  print(\"invalid\")"
      ],
      "metadata": {
        "id": "DQ28qxthG_5x"
      },
      "execution_count": null,
      "outputs": []
    },
    {
      "cell_type": "code",
      "source": [
        "# lstrip\n",
        "\n",
        "name = input(\"Enter your name\")\n",
        "print(name)\n",
        "\n",
        "name = name.lstrip(\n",
        ")\n",
        "print(name)"
      ],
      "metadata": {
        "id": "oJwD_u6_H4bQ"
      },
      "execution_count": null,
      "outputs": []
    },
    {
      "cell_type": "code",
      "source": [
        "url = [\"http://www.myntra.com\",\"http://www.ajio.com\",\"http://www.cricbuzz.com\"]\n",
        "\n",
        "for i in url:\n",
        "  #i = i.lstrip(\"http://www.\")\n",
        "  #i = i.lstrip(\"htp:/w.\")\n",
        "  i= i.lstrip(\".tbckhrp/w\")\n",
        "  print(i)"
      ],
      "metadata": {
        "id": "PkV95_7vIZ17"
      },
      "execution_count": null,
      "outputs": []
    },
    {
      "cell_type": "code",
      "source": [
        "url = [\"http://www.myntra.com\",\"http://www.ajio.com\",\"http://www.cricbuzz.com\"]\n",
        "for i in url:\n",
        "  i= i.lstrip(\"zyth:/w\")\n",
        "  print(i)\n",
        "\n"
      ],
      "metadata": {
        "id": "xBVNGfWnFhFa"
      },
      "execution_count": null,
      "outputs": []
    },
    {
      "cell_type": "code",
      "source": [
        "url = [\"http://www.myntra.com\",\"http://www.ajio.com\",\"http://www.cricbuzz.com\"]\n",
        "\n",
        "for i in url:\n",
        "  #i = i.lstrip(\"http://www.\")\n",
        "  #i = i.lstrip(\"htp:/w.\")\n",
        "  i= i.lstrip(\"wwhtp/w.\")\n",
        "  print(i)"
      ],
      "metadata": {
        "id": "Oq5mj5zTKpjc"
      },
      "execution_count": null,
      "outputs": []
    },
    {
      "cell_type": "code",
      "source": [
        "\n",
        "l=[\"http://www.myntra.com\",\"http://www.ntt.com\",\"http://www.google.com\"]\n",
        "\n",
        "for j in l:\n",
        "  print(j.lstrip(\"htp:/w.\"))\n"
      ],
      "metadata": {
        "id": "7NjUUtVsLRVC"
      },
      "execution_count": null,
      "outputs": []
    },
    {
      "cell_type": "code",
      "source": [
        "# strip\n",
        "url=[\"http://www.myntra.com\",\"http://www.ajio.com\",\"http://www.google.com\"]\n",
        "\n",
        "for i in url:\n",
        "  i = i.strip('htp.com')\n",
        "  print(i)\n",
        "\n"
      ],
      "metadata": {
        "id": "66GLecJtMm1C"
      },
      "execution_count": null,
      "outputs": []
    },
    {
      "cell_type": "code",
      "source": [
        "s1 = \"Apple\"\n",
        "\n",
        "s2 = \"apple\"\n",
        "\n",
        "if s1 != s2:\n",
        "  print(\"same\")\n",
        "else:\n",
        "  print(\"not same\")"
      ],
      "metadata": {
        "id": "h6gaQqM6QkLS"
      },
      "execution_count": null,
      "outputs": []
    },
    {
      "cell_type": "code",
      "source": [
        "print(ord('a'))\n",
        "\n",
        "print(ord('A'))\n",
        "\n"
      ],
      "metadata": {
        "id": "d73az0ZOQ5VQ"
      },
      "execution_count": null,
      "outputs": []
    },
    {
      "cell_type": "code",
      "source": [
        "# replace\n",
        "\n",
        "s = \"apple\"\n",
        "\n",
        "s1 =s.replace('p','P',1)\n",
        "print(s1)\n",
        "print(s)"
      ],
      "metadata": {
        "id": "NYEmSaZkSg0A"
      },
      "execution_count": null,
      "outputs": []
    },
    {
      "cell_type": "code",
      "source": [
        "#Split\n",
        "\n",
        "s= \"i live in bangalore since 2002\"\n",
        "s.split(' ' ,3)"
      ],
      "metadata": {
        "id": "Y3Hyby53Ip8d"
      },
      "execution_count": null,
      "outputs": []
    },
    {
      "cell_type": "code",
      "source": [
        "# List\n",
        "\n",
        "l = [10,20,30,1.1,'NTT']\n",
        "print(l)\n",
        "print(type(l))"
      ],
      "metadata": {
        "id": "mXIDooe-O-NX"
      },
      "execution_count": null,
      "outputs": []
    },
    {
      "cell_type": "code",
      "source": [
        "# list indexing\n",
        "\n",
        "l1 = [10,20.3,3.15,\"NTT\",[1,2,3]]\n",
        "print(l1[1])\n",
        "print(l1[-1])\n",
        "print(l1[-2])\n",
        "\n",
        "print(l1[4][2])"
      ],
      "metadata": {
        "id": "WvU7c5aUQsT3"
      },
      "execution_count": null,
      "outputs": []
    },
    {
      "cell_type": "code",
      "source": [
        "# list slicing\n",
        "\n",
        "l1 = [10,20.3,3.15,\"NTT\",[1,2,3]]\n",
        "\n",
        "print(l1[::-1])"
      ],
      "metadata": {
        "id": "atJktOCpRiuw"
      },
      "execution_count": null,
      "outputs": []
    },
    {
      "cell_type": "code",
      "source": [
        "# concatenation of list\n",
        "\n",
        "l1 =[10,20]\n",
        "l2 = [40,50,60]\n",
        "l3 = l2+l1\n",
        "print(l3)"
      ],
      "metadata": {
        "id": "A4evIa1ySa0R"
      },
      "execution_count": null,
      "outputs": []
    },
    {
      "cell_type": "code",
      "source": [
        "# multiplication of list\n",
        "\n",
        "l1 =[10,20,30]\n",
        "\n",
        "print(l1*3)"
      ],
      "metadata": {
        "id": "CZzm6NYcS_7e"
      },
      "execution_count": null,
      "outputs": []
    },
    {
      "cell_type": "code",
      "source": [
        "# list iteration\n",
        "\n",
        "l1 = [10,20,39,40]\n",
        "\n",
        "for i in l1:\n",
        "  print(i+1)"
      ],
      "metadata": {
        "id": "ijT649CsTfu4"
      },
      "execution_count": null,
      "outputs": []
    },
    {
      "cell_type": "code",
      "source": [
        "# list membership\n",
        "\n",
        "l1 = [10,20,30,40]\n",
        "\n",
        "print('10' in l1)"
      ],
      "metadata": {
        "id": "HqYbrGFaT4iS"
      },
      "execution_count": null,
      "outputs": []
    },
    {
      "cell_type": "code",
      "source": [
        "# list deletion\n",
        "\n",
        "l1 = [10,20,30,40]\n",
        "\n",
        "print(l1)\n",
        "\n",
        "del l1[0:2]\n",
        "print(l1)"
      ],
      "metadata": {
        "id": "VhBzHFz8UTkR"
      },
      "execution_count": null,
      "outputs": []
    },
    {
      "cell_type": "code",
      "source": [
        "# max element\n",
        "\n",
        "l1 = [10,20,30]\n",
        "print(max(l1))\n",
        "\n",
        "l2= [\"appleyyyy\",'amma','appleyyyy']\n",
        "print(max(l2, key = len))\n"
      ],
      "metadata": {
        "id": "krHIOaaTVItu"
      },
      "execution_count": null,
      "outputs": []
    },
    {
      "cell_type": "code",
      "source": [
        "l1= []\n",
        "print(max(l1, default=1))\n"
      ],
      "metadata": {
        "id": "Ar0To7-UXDJd"
      },
      "execution_count": null,
      "outputs": []
    },
    {
      "cell_type": "code",
      "source": [
        "# min method\n",
        "l1 = [10,20,30]\n",
        "print(min(l1))"
      ],
      "metadata": {
        "id": "kAiqSEh9bVzn"
      },
      "execution_count": null,
      "outputs": []
    },
    {
      "cell_type": "code",
      "source": [
        "# append method\n",
        "\n",
        "l1= [10,20,30]\n",
        "l1.append(1.234)\n",
        "print(l1)"
      ],
      "metadata": {
        "id": "s7fEFbLebzAZ"
      },
      "execution_count": null,
      "outputs": []
    },
    {
      "cell_type": "code",
      "source": [
        "# append multiple elements\n",
        "k=[1,2,3,4,5]\n",
        "i=0\n",
        "while i<5:\n",
        "  l=int(input(\"enternum\"))\n",
        "  k.append(l)\n",
        "  i=i+1\n",
        "print(k)"
      ],
      "metadata": {
        "id": "kPj4R2UedTpG"
      },
      "execution_count": null,
      "outputs": []
    },
    {
      "cell_type": "code",
      "source": [
        "# extend\n",
        "l1 =[10,20,30]\n",
        "l1.extend(\"NTT\")\n",
        "print(l1)"
      ],
      "metadata": {
        "id": "dn7oknBLeR8V"
      },
      "execution_count": null,
      "outputs": []
    },
    {
      "cell_type": "code",
      "source": [
        "a=[1,2,3]\n",
        "b=[4,5,6]\n",
        "print(b.extend(a))\n",
        "print (b)\n",
        "print(a)"
      ],
      "metadata": {
        "id": "5WkcFAZlfAiK"
      },
      "execution_count": null,
      "outputs": []
    },
    {
      "cell_type": "code",
      "source": [
        "# insert\n",
        "\n",
        "l1= [10,20,30]\n",
        "l1.insert(2,15)\n",
        "print(l1)"
      ],
      "metadata": {
        "id": "HVIsStk0gqIh"
      },
      "execution_count": null,
      "outputs": []
    },
    {
      "cell_type": "code",
      "source": [
        "# remove method\n",
        "l1 = [10,20,30,40,50,60,20]\n",
        "print(l1.remove(20))  # remove returns none\n",
        "print(l1)"
      ],
      "metadata": {
        "id": "8NPRlYmwifPk"
      },
      "execution_count": null,
      "outputs": []
    },
    {
      "cell_type": "code",
      "source": [
        "#pop\n",
        "l1= [10,20,30,1,40,50]\n",
        "print(l1.pop(1))\n",
        "print(l1)"
      ],
      "metadata": {
        "id": "UFWLDgr5WcJs"
      },
      "execution_count": null,
      "outputs": []
    },
    {
      "cell_type": "code",
      "source": [
        "# clear\n",
        "l1= [10,20,30,1,40,50]\n",
        "l1.clear()\n",
        "print(l1)\n"
      ],
      "metadata": {
        "id": "GtMMm_EAjrYB"
      },
      "execution_count": null,
      "outputs": []
    },
    {
      "cell_type": "code",
      "source": [
        "#del\n",
        "l1= [10,20,30,1,40,50]\n",
        "del l1\n",
        "print(l1)"
      ],
      "metadata": {
        "id": "Q7ISBnUWkhC0"
      },
      "execution_count": null,
      "outputs": []
    },
    {
      "cell_type": "code",
      "source": [
        "l1 = [10,20,30,40]\n",
        "\n",
        "print(l1.remove(30))\n",
        "\n",
        "print(l1)"
      ],
      "metadata": {
        "id": "QrEXHxIHjJNo"
      },
      "execution_count": null,
      "outputs": []
    },
    {
      "cell_type": "code",
      "source": [
        "l2 = [10,20,30,40]\n",
        "k = l2.pop(2)\n",
        "print(l2)\n",
        "print(\"the popped ele is \", k)"
      ],
      "metadata": {
        "id": "vKxalr0Rjasz"
      },
      "execution_count": null,
      "outputs": []
    },
    {
      "cell_type": "code",
      "source": [
        "# progrm to remove duplicates from the given list\n",
        "\n",
        "uniquelist = []\n",
        "l1 = [10,20,30,10,25,20]\n",
        "\n",
        "for ele in l1:\n",
        "  if ele not in uniquelist:\n",
        "    uniquelist.append(ele)\n",
        "\n",
        "print(uniquelist)\n"
      ],
      "metadata": {
        "id": "qihUP0yAnBAP"
      },
      "execution_count": null,
      "outputs": []
    },
    {
      "cell_type": "code",
      "source": [
        "# program to find the 2nd largest no in the list\n",
        "\n",
        "l1 = [2,8,6,14]\n",
        "firstlargest = max(l1)\n",
        "#print(firstlargest)\n",
        "l1.remove(firstlargest)\n",
        "#print(l1)\n",
        "\n",
        "secondlargest = max(l1)\n",
        "print(\"the 2nd largest no is \", secondlargest)"
      ],
      "metadata": {
        "id": "NlqGiyO3o2Lp"
      },
      "execution_count": null,
      "outputs": []
    },
    {
      "cell_type": "code",
      "source": [
        "# program to remove the nth largest no\n",
        "num=int(input('Enter which largest num would you like to fetch? '))\n",
        "l1 = [8,15,7,6,3,9]\n",
        "for i in range(num-1):\n",
        "  m = max(l1)\n",
        "  l1.remove(m)\n",
        "\n",
        "print('The largest number is ', max(l1))\n",
        "\n",
        "\n",
        ""
      ],
      "metadata": {
        "id": "6DjcBDkrqmHd"
      },
      "execution_count": null,
      "outputs": []
    },
    {
      "cell_type": "code",
      "source": [
        "# program to print the occurance of the elements\n",
        "#l1 = [2,2,4,4,5,5,6,6,6]\n",
        "l1=[2,4,6,2,8,6,3,2,4]\n",
        "l2=[]\n",
        "for i in l1:\n",
        "    if i not in l2:\n",
        "        l2.append(i)\n",
        "        print(i,\"Occurs\", l1.count(i), \"times\")\n",
        "\n",
        "\n",
        ""
      ],
      "metadata": {
        "id": "-o3xNPY0uN74"
      },
      "execution_count": null,
      "outputs": []
    },
    {
      "cell_type": "code",
      "source": [
        "l1=[2,4,6,2,8,6,3,2,4]\n",
        "\n",
        "print(l1.count(4))"
      ],
      "metadata": {
        "id": "902XLm3rusNY"
      },
      "execution_count": null,
      "outputs": []
    },
    {
      "cell_type": "code",
      "source": [
        "l1 = [10,30,40]\n",
        "print(l1)\n",
        "print(type(l1))"
      ],
      "metadata": {
        "id": "Qj9LawmOxTzd"
      },
      "execution_count": null,
      "outputs": []
    },
    {
      "cell_type": "code",
      "source": [
        "# Tuple\n",
        "\n",
        "t1 = (10,20,30,40,50,\"NTT\",1.1)\n",
        "print(t1)\n",
        "print(type(t1))"
      ],
      "metadata": {
        "id": "rYDqqoo3xEyk"
      },
      "execution_count": null,
      "outputs": []
    },
    {
      "cell_type": "code",
      "source": [
        "# tuple are immulatble\n",
        "t1 = (10,20,30,40,50,\"NTT\",1.1)\n",
        "t1.remove(20)\n",
        "t1[0]=100\n",
        "\n",
        "print(t1)\n"
      ],
      "metadata": {
        "id": "IfWcA6UjxmdP"
      },
      "execution_count": null,
      "outputs": []
    },
    {
      "cell_type": "code",
      "source": [
        "# tuple creation using a constructor\n",
        "l1 = [10,20,30,40]\n",
        "\n",
        "t1 = tuple(l1)\n",
        "print(t1)\n",
        "print(type(t1))"
      ],
      "metadata": {
        "colab": {
          "base_uri": "https://localhost:8080/"
        },
        "id": "fDOr8g2OyHJs",
        "outputId": "cb167b7d-b3cf-474b-c43c-ca01bdbba6e5"
      },
      "execution_count": 25,
      "outputs": [
        {
          "output_type": "stream",
          "name": "stdout",
          "text": [
            "(10, 20, 30, 40)\n",
            "<class 'tuple'>\n"
          ]
        }
      ]
    },
    {
      "cell_type": "code",
      "source": [
        "# tuple with a single element\n",
        "\n",
        "t2 = (8,)\n",
        "print(t2)\n",
        "print(type(t2))"
      ],
      "metadata": {
        "colab": {
          "base_uri": "https://localhost:8080/"
        },
        "id": "KCkqxJBfyrIf",
        "outputId": "838c4566-356f-4eda-a6f8-7904267185c7"
      },
      "execution_count": 27,
      "outputs": [
        {
          "output_type": "stream",
          "name": "stdout",
          "text": [
            "(8,)\n",
            "<class 'tuple'>\n"
          ]
        }
      ]
    },
    {
      "cell_type": "code",
      "source": [
        "# tuple indexing\n",
        "\n",
        "t1 = (10,20,30,40,50,\"NTT\",1.1)\n",
        "print(t1[0])\n",
        "print(t1[-1])\n",
        "print(t1[-2])"
      ],
      "metadata": {
        "colab": {
          "base_uri": "https://localhost:8080/"
        },
        "id": "IuhCfgBn3loz",
        "outputId": "9b8a7811-dd36-4f6a-93f0-183b771938b1"
      },
      "execution_count": 28,
      "outputs": [
        {
          "output_type": "stream",
          "name": "stdout",
          "text": [
            "10\n",
            "1.1\n",
            "NTT\n"
          ]
        }
      ]
    },
    {
      "cell_type": "code",
      "source": [
        "# concatenation\n",
        "t1 = (10,20,30,40,50,\"NTT\",1.1)\n",
        "print(t1)\n",
        "\n",
        "newtple = t1 + (80,90)\n",
        "\n",
        "print(newtple))"
      ],
      "metadata": {
        "colab": {
          "base_uri": "https://localhost:8080/"
        },
        "id": "BVBblN7L30rK",
        "outputId": "472a1a00-3603-47f5-9575-0259c5ee5fd2"
      },
      "execution_count": 32,
      "outputs": [
        {
          "output_type": "stream",
          "name": "stdout",
          "text": [
            "135944746302336\n",
            "135944748855280\n"
          ]
        }
      ]
    },
    {
      "cell_type": "code",
      "source": [
        "# slicing\n",
        "\n",
        "t1 = (10,20,30,40,50,\"NTT\",1.1)\n",
        "\n",
        "print(t1[::])\n",
        "\n",
        "print(t1[::-1])\n"
      ],
      "metadata": {
        "colab": {
          "base_uri": "https://localhost:8080/"
        },
        "id": "e0WZNqUa49jy",
        "outputId": "24544534-7927-46ad-c769-9c4567cc3c4f"
      },
      "execution_count": 33,
      "outputs": [
        {
          "output_type": "stream",
          "name": "stdout",
          "text": [
            "(10, 20, 30, 40, 50, 'NTT', 1.1)\n",
            "(1.1, 'NTT', 50, 40, 30, 20, 10)\n"
          ]
        }
      ]
    },
    {
      "cell_type": "code",
      "source": [
        "t1 = (10,20,30,40,50,\"NTT\",1.1)\n",
        "\n",
        "for ele in t1:\n",
        "  print(ele)"
      ],
      "metadata": {
        "colab": {
          "base_uri": "https://localhost:8080/"
        },
        "id": "BIRRDroW5LvK",
        "outputId": "c8cb110f-ca8e-4070-cd95-40ac360a5971"
      },
      "execution_count": 34,
      "outputs": [
        {
          "output_type": "stream",
          "name": "stdout",
          "text": [
            "10\n",
            "20\n",
            "30\n",
            "40\n",
            "50\n",
            "NTT\n",
            "1.1\n"
          ]
        }
      ]
    },
    {
      "cell_type": "code",
      "source": [
        "import sys\n",
        "\n",
        "list1 = [10,20,30,40,50,60]\n",
        "tup1 =  (10,20,30,40,50,60)\n",
        "\n",
        "print(\"list size is \", sys.getsizeof(list1))\n",
        "\n",
        "print(\"tuple size is \", sys.getsizeof(tup1))"
      ],
      "metadata": {
        "colab": {
          "base_uri": "https://localhost:8080/"
        },
        "id": "uLksDKDD51jo",
        "outputId": "f7f42c74-dbaa-4a89-c6b3-535c03f51542"
      },
      "execution_count": 35,
      "outputs": [
        {
          "output_type": "stream",
          "name": "stdout",
          "text": [
            "list size is  104\n",
            "tuple size is  88\n"
          ]
        }
      ]
    },
    {
      "cell_type": "code",
      "source": [
        "# dictionary\n",
        "\n",
        "dict1 ={\"pp\":\"alex\" , \"qq\":\"balan\", \"rr\":\"catherine\",\"ss\":\"dinesh\"}\n",
        "print(dict1)\n",
        "print(type(dict1))\n",
        "\n",
        "#access the dict\n",
        "\n",
        "print(dict1[\"pp\"])"
      ],
      "metadata": {
        "colab": {
          "base_uri": "https://localhost:8080/"
        },
        "id": "xZz6YyAh85mr",
        "outputId": "f5fa8d1a-7b8e-4363-d2b0-d82efd68c3c6"
      },
      "execution_count": 1,
      "outputs": [
        {
          "output_type": "stream",
          "name": "stdout",
          "text": [
            "{'pp': 'alex', 'qq': 'balan', 'rr': 'catherine', 'ss': 'dinesh'}\n",
            "<class 'dict'>\n",
            "alex\n"
          ]
        }
      ]
    },
    {
      "cell_type": "code",
      "source": [
        "# dict\n",
        "\n",
        "dict2 = { 9881 :(\"Shiva\",46,\"aaaa fff street blr\") , 9882 :\"no details\", 9882 : \"vikas\", 9882 : \"ram\"}\n",
        "\n",
        "print(dict2)\n"
      ],
      "metadata": {
        "colab": {
          "base_uri": "https://localhost:8080/"
        },
        "id": "tnw9kFal3Hlv",
        "outputId": "be24b414-831a-4e22-f6eb-100e98fd9af0"
      },
      "execution_count": 15,
      "outputs": [
        {
          "output_type": "stream",
          "name": "stdout",
          "text": [
            "{9881: ('Shiva', 46, 'aaaa fff street blr'), 9882: 'ram'}\n"
          ]
        }
      ]
    },
    {
      "cell_type": "code",
      "source": [
        "# dict del key\n",
        "\n",
        "dict2 = { 9881 :(\"Shiva\",46,\"aaaa fff street blr\") , 9882 :\"no details\", 9882 : \"vikas\", 9882 : \"ram\"}\n",
        "\n",
        "del dict2[9882]\n",
        "\n",
        "print(dict2)\n",
        "\n"
      ],
      "metadata": {
        "colab": {
          "base_uri": "https://localhost:8080/"
        },
        "id": "IQJdlK5v9UHZ",
        "outputId": "2cb646df-7c94-4540-9365-8d340ee1b941"
      },
      "execution_count": 16,
      "outputs": [
        {
          "output_type": "stream",
          "name": "stdout",
          "text": [
            "{9881: ('Shiva', 46, 'aaaa fff street blr')}\n"
          ]
        }
      ]
    },
    {
      "cell_type": "code",
      "source": [
        "#pop\n",
        "# dict del key\n",
        "\n",
        "dict2 = { 9881 :(\"Shiva\",46,\"aaaa fff street blr\") , 9882 :\"no details\", }\n",
        "\n",
        "dict2[9881] = (\"kumar\",46,\"aaas  \")\n",
        "\n",
        "value = dict2.pop(9881)\n",
        "\n",
        "print(value)\n",
        "\n",
        "print(dict2)"
      ],
      "metadata": {
        "colab": {
          "base_uri": "https://localhost:8080/"
        },
        "id": "TgNW_mf16j4W",
        "outputId": "cb5a9ad5-dcb4-4f1c-f998-97ec25ba37d4"
      },
      "execution_count": 19,
      "outputs": [
        {
          "output_type": "stream",
          "name": "stdout",
          "text": [
            "('kumar', 46, 'aaas  ')\n",
            "{9882: 'no details'}\n"
          ]
        }
      ]
    },
    {
      "cell_type": "code",
      "source": [
        "# dict operations uisng inbult methods\n",
        "\n",
        "dict1 ={\"pp\":\"alex\" , \"qq\":\"balan\", \"rr\":\"catherine\",\"ss\":\"dinesh\"}\n",
        "\n",
        "print(dict1.keys())\n",
        "\n",
        "print(dict1.values())\n",
        "\n",
        "#print(dict1.items())\n",
        "\n",
        "val = dict1.items()\n",
        "print(val)\n",
        "\n",
        "l = list(val)\n",
        "print(l)\n",
        "\n",
        "for i in l:\n",
        "  print(i)\n"
      ],
      "metadata": {
        "colab": {
          "base_uri": "https://localhost:8080/"
        },
        "id": "g5YjkHYg8JBE",
        "outputId": "2b42f29e-4fc8-4d43-fc6d-0d530cdbf4b3"
      },
      "execution_count": 25,
      "outputs": [
        {
          "output_type": "stream",
          "name": "stdout",
          "text": [
            "dict_keys(['pp', 'qq', 'rr', 'ss'])\n",
            "dict_values(['alex', 'balan', 'catherine', 'dinesh'])\n",
            "dict_items([('pp', 'alex'), ('qq', 'balan'), ('rr', 'catherine'), ('ss', 'dinesh')])\n",
            "[('pp', 'alex'), ('qq', 'balan'), ('rr', 'catherine'), ('ss', 'dinesh')]\n",
            "('pp', 'alex')\n",
            "('qq', 'balan')\n",
            "('rr', 'catherine')\n",
            "('ss', 'dinesh')\n"
          ]
        }
      ]
    },
    {
      "cell_type": "code",
      "source": [
        "# clear method\n",
        "dict1 ={\"pp\":\"alex\" , \"qq\":\"balan\", \"rr\":\"catherine\",\"ss\":\"dinesh\"}\n",
        "dict1.clear()\n",
        "print(dict1)"
      ],
      "metadata": {
        "colab": {
          "base_uri": "https://localhost:8080/"
        },
        "id": "TkYRlyCM91ns",
        "outputId": "f5aefc2e-af2c-4e99-a4b7-6e5caff304a6"
      },
      "execution_count": 26,
      "outputs": [
        {
          "output_type": "stream",
          "name": "stdout",
          "text": [
            "{}\n"
          ]
        }
      ]
    },
    {
      "cell_type": "code",
      "source": [
        "# dict copy\n",
        "dict1 ={\"pp\":\"alex\" , \"qq\":\"balan\", \"rr\":\"catherine\",\"ss\":\"dinesh\"}\n",
        "dict2 = dict1.copy()\n",
        "print(dict2)\n",
        "\n",
        "dict1[\"pp\"] = \"kumar\"\n",
        "\n",
        "print(dict1)\n",
        "print(dict2)\n",
        "\n"
      ],
      "metadata": {
        "colab": {
          "base_uri": "https://localhost:8080/"
        },
        "id": "gu16hujb9_BD",
        "outputId": "47f349d1-7048-49d2-ada7-a47a35572fa2"
      },
      "execution_count": 28,
      "outputs": [
        {
          "output_type": "stream",
          "name": "stdout",
          "text": [
            "{'pp': 'alex', 'qq': 'balan', 'rr': 'catherine', 'ss': 'dinesh'}\n",
            "{'pp': 'kumar', 'qq': 'balan', 'rr': 'catherine', 'ss': 'dinesh'}\n",
            "{'pp': 'alex', 'qq': 'balan', 'rr': 'catherine', 'ss': 'dinesh'}\n"
          ]
        }
      ]
    },
    {
      "cell_type": "code",
      "source": [
        "# set\n",
        "\n",
        "s1 = {10,20,30,40}\n",
        "print(s1)\n",
        "print(type(s1))"
      ],
      "metadata": {
        "colab": {
          "base_uri": "https://localhost:8080/"
        },
        "id": "Y_oufKxkAVqn",
        "outputId": "a56a65c5-1102-4c23-e2f6-04c1c8cd9e52"
      },
      "execution_count": 29,
      "outputs": [
        {
          "output_type": "stream",
          "name": "stdout",
          "text": [
            "{40, 10, 20, 30}\n",
            "<class 'set'>\n"
          ]
        }
      ]
    },
    {
      "cell_type": "code",
      "source": [
        "# set const\n",
        "\n",
        "s2 = set(\"Ntt Data\")\n",
        "print(s2)"
      ],
      "metadata": {
        "colab": {
          "base_uri": "https://localhost:8080/"
        },
        "id": "UZBysw4CAn3L",
        "outputId": "62c4d0af-2a10-4a2b-b771-df4a58ebe9ed"
      },
      "execution_count": 30,
      "outputs": [
        {
          "output_type": "stream",
          "name": "stdout",
          "text": [
            "{' ', 't', 'N', 'D', 'a'}\n"
          ]
        }
      ]
    },
    {
      "cell_type": "code",
      "source": [
        "# no index values\n",
        "s1 = {10,20,30,40}\n",
        "print(s1[0])\n"
      ],
      "metadata": {
        "colab": {
          "base_uri": "https://localhost:8080/",
          "height": 158
        },
        "id": "TH84XyGiBQE2",
        "outputId": "78b8e514-e077-4ea2-a7de-380dad8fe89d"
      },
      "execution_count": 31,
      "outputs": [
        {
          "output_type": "error",
          "ename": "TypeError",
          "evalue": "'set' object is not subscriptable",
          "traceback": [
            "\u001b[0;31m---------------------------------------------------------------------------\u001b[0m",
            "\u001b[0;31mTypeError\u001b[0m                                 Traceback (most recent call last)",
            "\u001b[0;32m<ipython-input-31-44c9a9ebac44>\u001b[0m in \u001b[0;36m<cell line: 0>\u001b[0;34m()\u001b[0m\n\u001b[1;32m      1\u001b[0m \u001b[0ms1\u001b[0m \u001b[0;34m=\u001b[0m \u001b[0;34m{\u001b[0m\u001b[0;36m10\u001b[0m\u001b[0;34m,\u001b[0m\u001b[0;36m20\u001b[0m\u001b[0;34m,\u001b[0m\u001b[0;36m30\u001b[0m\u001b[0;34m,\u001b[0m\u001b[0;36m40\u001b[0m\u001b[0;34m}\u001b[0m\u001b[0;34m\u001b[0m\u001b[0;34m\u001b[0m\u001b[0m\n\u001b[0;32m----> 2\u001b[0;31m \u001b[0mprint\u001b[0m\u001b[0;34m(\u001b[0m\u001b[0ms1\u001b[0m\u001b[0;34m[\u001b[0m\u001b[0;36m0\u001b[0m\u001b[0;34m]\u001b[0m\u001b[0;34m)\u001b[0m\u001b[0;34m\u001b[0m\u001b[0;34m\u001b[0m\u001b[0m\n\u001b[0m",
            "\u001b[0;31mTypeError\u001b[0m: 'set' object is not subscriptable"
          ]
        }
      ]
    },
    {
      "cell_type": "code",
      "source": [
        "s1 = {10,20,30,40,10,30,40}\n",
        "\n",
        "s1.add(50)\n",
        "print(s1)"
      ],
      "metadata": {
        "colab": {
          "base_uri": "https://localhost:8080/"
        },
        "id": "7ibPCbJ8BjNV",
        "outputId": "9e909ff9-8207-45d4-8493-15a44057dc64"
      },
      "execution_count": 36,
      "outputs": [
        {
          "output_type": "stream",
          "name": "stdout",
          "text": [
            "{40, 10, 50, 20, 30}\n"
          ]
        }
      ]
    },
    {
      "cell_type": "code",
      "source": [
        "s1 = {10,20,30,40,10,30,40,\"ssss\",(1,2,3),{1:100,2:200}}\n",
        "print(s1)"
      ],
      "metadata": {
        "colab": {
          "base_uri": "https://localhost:8080/",
          "height": 158
        },
        "id": "MMRGMu6DCED_",
        "outputId": "49e13d31-d294-45af-df50-0640087e376b"
      },
      "execution_count": 40,
      "outputs": [
        {
          "output_type": "error",
          "ename": "TypeError",
          "evalue": "unhashable type: 'dict'",
          "traceback": [
            "\u001b[0;31m---------------------------------------------------------------------------\u001b[0m",
            "\u001b[0;31mTypeError\u001b[0m                                 Traceback (most recent call last)",
            "\u001b[0;32m<ipython-input-40-17709706b20e>\u001b[0m in \u001b[0;36m<cell line: 0>\u001b[0;34m()\u001b[0m\n\u001b[0;32m----> 1\u001b[0;31m \u001b[0ms1\u001b[0m \u001b[0;34m=\u001b[0m \u001b[0;34m{\u001b[0m\u001b[0;36m10\u001b[0m\u001b[0;34m,\u001b[0m\u001b[0;36m20\u001b[0m\u001b[0;34m,\u001b[0m\u001b[0;36m30\u001b[0m\u001b[0;34m,\u001b[0m\u001b[0;36m40\u001b[0m\u001b[0;34m,\u001b[0m\u001b[0;36m10\u001b[0m\u001b[0;34m,\u001b[0m\u001b[0;36m30\u001b[0m\u001b[0;34m,\u001b[0m\u001b[0;36m40\u001b[0m\u001b[0;34m,\u001b[0m\u001b[0;34m\"ssss\"\u001b[0m\u001b[0;34m,\u001b[0m\u001b[0;34m(\u001b[0m\u001b[0;36m1\u001b[0m\u001b[0;34m,\u001b[0m\u001b[0;36m2\u001b[0m\u001b[0;34m,\u001b[0m\u001b[0;36m3\u001b[0m\u001b[0;34m)\u001b[0m\u001b[0;34m,\u001b[0m\u001b[0;34m{\u001b[0m\u001b[0;36m1\u001b[0m\u001b[0;34m:\u001b[0m\u001b[0;36m100\u001b[0m\u001b[0;34m,\u001b[0m\u001b[0;36m2\u001b[0m\u001b[0;34m:\u001b[0m\u001b[0;36m200\u001b[0m\u001b[0;34m}\u001b[0m\u001b[0;34m}\u001b[0m\u001b[0;34m\u001b[0m\u001b[0;34m\u001b[0m\u001b[0m\n\u001b[0m\u001b[1;32m      2\u001b[0m \u001b[0mprint\u001b[0m\u001b[0;34m(\u001b[0m\u001b[0ms1\u001b[0m\u001b[0;34m)\u001b[0m\u001b[0;34m\u001b[0m\u001b[0;34m\u001b[0m\u001b[0m\n",
            "\u001b[0;31mTypeError\u001b[0m: unhashable type: 'dict'"
          ]
        }
      ]
    },
    {
      "cell_type": "code",
      "source": [
        "l = [10,20,30,40,50,10,20,30,40]\n",
        "print(l)\n",
        "s1 = set(l)\n",
        "print(s1)\n",
        "l1 = list(s1)\n",
        "print(l1)"
      ],
      "metadata": {
        "colab": {
          "base_uri": "https://localhost:8080/"
        },
        "id": "53U6r0pmC6UI",
        "outputId": "4689dccf-a318-4bc0-f9ec-88539984ad5e"
      },
      "execution_count": 44,
      "outputs": [
        {
          "output_type": "stream",
          "name": "stdout",
          "text": [
            "[10, 20, 30, 40, 50, 10, 20, 30, 40]\n",
            "{40, 10, 50, 20, 30}\n",
            "[40, 10, 50, 20, 30]\n"
          ]
        }
      ]
    },
    {
      "cell_type": "code",
      "source": [
        "# add method\n",
        "l = {10,20,30,40,50,10,20,30,40}\n",
        "l.add(300)\n",
        "\n",
        "\n",
        "l.update([100,200,300])\n",
        "print(l)"
      ],
      "metadata": {
        "colab": {
          "base_uri": "https://localhost:8080/"
        },
        "id": "Z3_ecwrKET_8",
        "outputId": "203aabb9-05fa-4bd2-bbca-b32115237543"
      },
      "execution_count": 48,
      "outputs": [
        {
          "output_type": "stream",
          "name": "stdout",
          "text": [
            "{50, 20, 100, 40, 10, 300, 30, 200}\n"
          ]
        }
      ]
    },
    {
      "cell_type": "code",
      "source": [
        "# remove dict\n",
        "s1 = {10,20,30}\n",
        "print(s1.remove(100))\n",
        "print(s1)"
      ],
      "metadata": {
        "colab": {
          "base_uri": "https://localhost:8080/",
          "height": 193
        },
        "id": "WRYAuPnyE0JJ",
        "outputId": "2b82cfe1-867b-427a-fce6-d9f7d57add43"
      },
      "execution_count": 54,
      "outputs": [
        {
          "output_type": "error",
          "ename": "KeyError",
          "evalue": "100",
          "traceback": [
            "\u001b[0;31m---------------------------------------------------------------------------\u001b[0m",
            "\u001b[0;31mKeyError\u001b[0m                                  Traceback (most recent call last)",
            "\u001b[0;32m<ipython-input-54-4aab61955781>\u001b[0m in \u001b[0;36m<cell line: 0>\u001b[0;34m()\u001b[0m\n\u001b[1;32m      1\u001b[0m \u001b[0;31m# remove dict\u001b[0m\u001b[0;34m\u001b[0m\u001b[0;34m\u001b[0m\u001b[0m\n\u001b[1;32m      2\u001b[0m \u001b[0ms1\u001b[0m \u001b[0;34m=\u001b[0m \u001b[0;34m{\u001b[0m\u001b[0;36m10\u001b[0m\u001b[0;34m,\u001b[0m\u001b[0;36m20\u001b[0m\u001b[0;34m,\u001b[0m\u001b[0;36m30\u001b[0m\u001b[0;34m}\u001b[0m\u001b[0;34m\u001b[0m\u001b[0;34m\u001b[0m\u001b[0m\n\u001b[0;32m----> 3\u001b[0;31m \u001b[0mprint\u001b[0m\u001b[0;34m(\u001b[0m\u001b[0ms1\u001b[0m\u001b[0;34m.\u001b[0m\u001b[0mremove\u001b[0m\u001b[0;34m(\u001b[0m\u001b[0;36m100\u001b[0m\u001b[0;34m)\u001b[0m\u001b[0;34m)\u001b[0m\u001b[0;34m\u001b[0m\u001b[0;34m\u001b[0m\u001b[0m\n\u001b[0m\u001b[1;32m      4\u001b[0m \u001b[0mprint\u001b[0m\u001b[0;34m(\u001b[0m\u001b[0ms1\u001b[0m\u001b[0;34m)\u001b[0m\u001b[0;34m\u001b[0m\u001b[0;34m\u001b[0m\u001b[0m\n",
            "\u001b[0;31mKeyError\u001b[0m: 100"
          ]
        }
      ]
    },
    {
      "cell_type": "code",
      "source": [
        "# discard\n",
        "\n",
        "s1= {10,20,30}\n",
        "print(s1.discard(110))\n",
        "print(s1)"
      ],
      "metadata": {
        "colab": {
          "base_uri": "https://localhost:8080/"
        },
        "id": "1hZ6JUdnFH22",
        "outputId": "ca245e0f-7841-4be0-cf7a-61ada754ac33"
      },
      "execution_count": 55,
      "outputs": [
        {
          "output_type": "stream",
          "name": "stdout",
          "text": [
            "None\n",
            "{10, 20, 30}\n"
          ]
        }
      ]
    },
    {
      "cell_type": "code",
      "source": [
        "# pop() method\n",
        "\n",
        "s1 ={10,20,30}\n",
        "print(s1.pop())\n",
        "print(s1)"
      ],
      "metadata": {
        "colab": {
          "base_uri": "https://localhost:8080/"
        },
        "id": "H0pzAY6sGTHf",
        "outputId": "c0a2f550-52d1-4d41-fbf4-6b23d9939ac0"
      },
      "execution_count": 56,
      "outputs": [
        {
          "output_type": "stream",
          "name": "stdout",
          "text": [
            "10\n",
            "{20, 30}\n"
          ]
        }
      ]
    },
    {
      "cell_type": "code",
      "source": [
        "l = [1,2,3]\n",
        "l.extend([4,5,6])\n",
        "print(l)"
      ],
      "metadata": {
        "colab": {
          "base_uri": "https://localhost:8080/"
        },
        "id": "FpfmZNgOOp8r",
        "outputId": "16fc6bd1-d9a6-48bc-fb26-aa27de664933"
      },
      "execution_count": 59,
      "outputs": [
        {
          "output_type": "stream",
          "name": "stdout",
          "text": [
            "[1, 2, 3, 4, 5, 6]\n"
          ]
        }
      ]
    },
    {
      "cell_type": "code",
      "source": [],
      "metadata": {
        "id": "IEPZI3qkFG-W"
      },
      "execution_count": null,
      "outputs": []
    }
  ]
}