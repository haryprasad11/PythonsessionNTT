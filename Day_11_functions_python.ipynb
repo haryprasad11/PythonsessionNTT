{
  "nbformat": 4,
  "nbformat_minor": 0,
  "metadata": {
    "colab": {
      "provenance": []
    },
    "kernelspec": {
      "name": "python3",
      "display_name": "Python 3"
    },
    "language_info": {
      "name": "python"
    }
  },
  "cells": [
    {
      "cell_type": "code",
      "execution_count": 3,
      "metadata": {
        "colab": {
          "base_uri": "https://localhost:8080/"
        },
        "id": "LynczderHEfx",
        "outputId": "7fc49397-e129-47e9-e4e5-6dc36b7d08af"
      },
      "outputs": [
        {
          "output_type": "stream",
          "name": "stdout",
          "text": [
            "Hello World hari\n"
          ]
        }
      ],
      "source": [
        "print(\"Hello World hari\")"
      ]
    },
    {
      "cell_type": "code",
      "source": [
        "#day 11 May 7th Intermediate Python , python\n",
        "\n",
        "#functions\n",
        "\n",
        "def myfirst():\n",
        "  print('hello world')\n",
        "\n",
        "myfirst()\n",
        "\n",
        "def sum(a, b):\n",
        "  return a+b\n",
        "\n",
        "print(sum(10,11))\n",
        "\n",
        "def multiply(a, b, c):\n",
        "  return a*b*c\n",
        "\n",
        "print(multiply(10,11,12))"
      ],
      "metadata": {
        "colab": {
          "base_uri": "https://localhost:8080/"
        },
        "id": "q_-Fz8_JU8SU",
        "outputId": "c3574932-129b-4ffa-f84b-2a827c4fff75"
      },
      "execution_count": 7,
      "outputs": [
        {
          "output_type": "stream",
          "name": "stdout",
          "text": [
            "hello world\n",
            "21\n",
            "1320\n"
          ]
        }
      ]
    },
    {
      "cell_type": "code",
      "source": [
        "#program to print the square of no\n",
        "#without arguments and withour retunr values\n",
        "def square():\n",
        "  x = int(input(\"enter a number\"))\n",
        "  y = x**2\n",
        "  print(\"square of \", x, \"is\", y)\n",
        "\n",
        "square()\n"
      ],
      "metadata": {
        "id": "Ho2xAvWdZNNZ",
        "outputId": "8a1bea87-ac90-403f-d310-50977d683a45",
        "colab": {
          "base_uri": "https://localhost:8080/"
        }
      },
      "execution_count": 8,
      "outputs": [
        {
          "output_type": "stream",
          "name": "stdout",
          "text": [
            "enter a number10\n",
            "square of  10 is 100\n"
          ]
        }
      ]
    },
    {
      "cell_type": "code",
      "source": [
        "#with Arguments and with return values\n",
        "def square(x):\n",
        "\n",
        "  y = x**2\n",
        "  return y\n",
        "\n",
        "print('execution starts here')\n",
        "x = int(input(\"enter a number\"))\n",
        "result= square(x)\n",
        "print(result)\n",
        "\n"
      ],
      "metadata": {
        "id": "B3FXSFPgdJno",
        "outputId": "d70e2b6e-72fa-480d-f944-954c8da76541",
        "colab": {
          "base_uri": "https://localhost:8080/"
        }
      },
      "execution_count": 9,
      "outputs": [
        {
          "output_type": "stream",
          "name": "stdout",
          "text": [
            "execution starts here\n",
            "enter a number5\n",
            "25\n"
          ]
        }
      ]
    }
  ]
}