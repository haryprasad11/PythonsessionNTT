{
  "nbformat": 4,
  "nbformat_minor": 0,
  "metadata": {
    "colab": {
      "provenance": []
    },
    "kernelspec": {
      "name": "python3",
      "display_name": "Python 3"
    },
    "language_info": {
      "name": "python"
    }
  },
  "cells": [
    {
      "cell_type": "code",
      "execution_count": 3,
      "metadata": {
        "colab": {
          "base_uri": "https://localhost:8080/"
        },
        "id": "LynczderHEfx",
        "outputId": "7fc49397-e129-47e9-e4e5-6dc36b7d08af"
      },
      "outputs": [
        {
          "output_type": "stream",
          "name": "stdout",
          "text": [
            "Hello World hari\n"
          ]
        }
      ],
      "source": [
        "print(\"Hello World hari\")"
      ]
    },
    {
      "cell_type": "code",
      "source": [
        "#day 11 May 7th Intermediate Python , python\n",
        "\n",
        "#functions\n",
        "\n",
        "def myfirst():\n",
        "  print('hello world')\n",
        "\n",
        "myfirst()\n",
        "\n",
        "def sum(a, b):\n",
        "  return a+b\n",
        "\n",
        "print(sum(10,11))\n",
        "\n",
        "def multiply(a, b, c):\n",
        "  return a*b*c\n",
        "\n",
        "print(multiply(10,11,12))"
      ],
      "metadata": {
        "colab": {
          "base_uri": "https://localhost:8080/"
        },
        "id": "q_-Fz8_JU8SU",
        "outputId": "c3574932-129b-4ffa-f84b-2a827c4fff75"
      },
      "execution_count": 7,
      "outputs": [
        {
          "output_type": "stream",
          "name": "stdout",
          "text": [
            "hello world\n",
            "21\n",
            "1320\n"
          ]
        }
      ]
    },
    {
      "cell_type": "code",
      "source": [
        "#program to print the square of no\n",
        "#without arguments and withour retunr values\n",
        "def square():\n",
        "  x = int(input(\"enter a number\"))\n",
        "  y = x**2\n",
        "  print(\"square of \", x, \"is\", y)\n",
        "\n",
        "square()\n"
      ],
      "metadata": {
        "colab": {
          "base_uri": "https://localhost:8080/"
        },
        "id": "Ho2xAvWdZNNZ",
        "outputId": "8a1bea87-ac90-403f-d310-50977d683a45"
      },
      "execution_count": 8,
      "outputs": [
        {
          "output_type": "stream",
          "name": "stdout",
          "text": [
            "enter a number10\n",
            "square of  10 is 100\n"
          ]
        }
      ]
    },
    {
      "cell_type": "code",
      "source": [
        "#with Arguments and with return values\n",
        "def square(x):\n",
        "\n",
        "  y = x**2\n",
        "  return y\n",
        "\n",
        "print('execution starts here')\n",
        "x = int(input(\"enter a number\"))\n",
        "result= square(x)\n",
        "print(result)\n",
        "\n"
      ],
      "metadata": {
        "colab": {
          "base_uri": "https://localhost:8080/"
        },
        "id": "B3FXSFPgdJno",
        "outputId": "d70e2b6e-72fa-480d-f944-954c8da76541"
      },
      "execution_count": 9,
      "outputs": [
        {
          "output_type": "stream",
          "name": "stdout",
          "text": [
            "execution starts here\n",
            "enter a number5\n",
            "25\n"
          ]
        }
      ]
    },
    {
      "cell_type": "code",
      "source": [
        "#function with arguments, without return values\n",
        "\n",
        "def square(x):\n",
        "  y = x**2\n",
        "  print(y)\n",
        "\n",
        "\n",
        "print('execution starts here')\n",
        "x = int(input(\"enter a number\"))\n",
        "result= square(x)\n",
        "print(result)"
      ],
      "metadata": {
        "id": "V9OBcUt8d1s0",
        "outputId": "dea13223-e6be-4bda-8c40-420af1d119a4",
        "colab": {
          "base_uri": "https://localhost:8080/"
        }
      },
      "execution_count": 11,
      "outputs": [
        {
          "output_type": "stream",
          "name": "stdout",
          "text": [
            "execution starts here\n",
            "enter a number7\n",
            "49\n",
            "None\n"
          ]
        }
      ]
    },
    {
      "cell_type": "code",
      "source": [
        "#function without arguments, with retunr values\n",
        "\n",
        "def square():\n",
        "  x=int(input('enter name'))\n",
        "  y = x**2\n",
        "  return y\n",
        "\n",
        "print('execution starts here')\n",
        "\n",
        "square()\n"
      ],
      "metadata": {
        "id": "j3NIO6TXeQFJ",
        "outputId": "6cd7e5a3-6eae-4ec0-aa75-c20b848a5416",
        "colab": {
          "base_uri": "https://localhost:8080/"
        }
      },
      "execution_count": 13,
      "outputs": [
        {
          "name": "stdout",
          "output_type": "stream",
          "text": [
            "execution starts here\n",
            "enter name6\n"
          ]
        },
        {
          "output_type": "execute_result",
          "data": {
            "text/plain": [
              "36"
            ]
          },
          "metadata": {},
          "execution_count": 13
        }
      ]
    },
    {
      "cell_type": "code",
      "source": [
        "#can return any object(list, tuple, dictionary,set), can return multiple values as well\n",
        "\n",
        "#return statement\n",
        "\n",
        "def test(a,b,c,d):\n",
        "  return a,b,c,d\n",
        "x,y,z,w=test(10,20,30,40)\n",
        "print(x,y,z,w)"
      ],
      "metadata": {
        "id": "ASJU-g-xf9mM",
        "outputId": "f98c954a-d9d1-4bea-93b5-1e5aabda4ea6",
        "colab": {
          "base_uri": "https://localhost:8080/"
        }
      },
      "execution_count": 15,
      "outputs": [
        {
          "output_type": "stream",
          "name": "stdout",
          "text": [
            "10 20 30 40\n"
          ]
        }
      ]
    },
    {
      "cell_type": "code",
      "source": [
        "#use underscore used as place holder do not need to print the values\n",
        "\n",
        "def func1(a,b,c,d):\n",
        "  return a,b,c,d\n",
        "\n",
        "_,val2,_,val4 = func1(10,20,30,40)\n",
        "print(val2, val4)"
      ],
      "metadata": {
        "id": "blMWurhUkchp",
        "outputId": "6c202c65-c681-4e5f-c3fc-8a4efc50db81",
        "colab": {
          "base_uri": "https://localhost:8080/"
        }
      },
      "execution_count": 16,
      "outputs": [
        {
          "output_type": "stream",
          "name": "stdout",
          "text": [
            "20 40\n"
          ]
        }
      ]
    },
    {
      "cell_type": "code",
      "source": [
        "def test1():\n",
        "  l1 = [10, 20, 30,40]\n",
        "  t1 = ( 60,70,80)\n",
        "  return l1, t1\n",
        "\n",
        "u = test1()\n",
        "print(u)\n",
        "print(type(u))\n",
        "\n",
        ""
      ],
      "metadata": {
        "id": "loLVC1_ylW8l",
        "outputId": "57e94413-ac9f-4104-9f84-1a2943e603d2",
        "colab": {
          "base_uri": "https://localhost:8080/"
        }
      },
      "execution_count": 17,
      "outputs": [
        {
          "output_type": "stream",
          "name": "stdout",
          "text": [
            "([10, 20, 30, 40], (60, 70, 80))\n",
            "<class 'tuple'>\n"
          ]
        }
      ]
    }
  ]
}