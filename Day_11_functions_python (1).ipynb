{
  "nbformat": 4,
  "nbformat_minor": 0,
  "metadata": {
    "colab": {
      "provenance": []
    },
    "kernelspec": {
      "name": "python3",
      "display_name": "Python 3"
    },
    "language_info": {
      "name": "python"
    }
  },
  "cells": [
    {
      "cell_type": "code",
      "execution_count": null,
      "metadata": {
        "colab": {
          "base_uri": "https://localhost:8080/"
        },
        "id": "LynczderHEfx",
        "outputId": "341612f5-47fa-4176-cb7a-3453d0392be7"
      },
      "outputs": [
        {
          "output_type": "stream",
          "name": "stdout",
          "text": [
            "Hello World\n"
          ]
        }
      ],
      "source": [
        "print(\"Hello World\")"
      ]
    },
    {
      "cell_type": "code",
      "source": [],
      "metadata": {
        "id": "BiWBFSkcZeq6"
      },
      "execution_count": null,
      "outputs": []
    },
    {
      "cell_type": "code",
      "source": [
        "# simple function\n",
        "\n",
        "def fun():\n",
        "  print(\"Hello world\")\n",
        "  print(\"welcome\")\n",
        "\n",
        "\n",
        "print(\"before function call\")\n",
        "fun()\n",
        "print(\"after function call\")\n"
      ],
      "metadata": {
        "colab": {
          "base_uri": "https://localhost:8080/"
        },
        "id": "MBh5kn9LVoyV",
        "outputId": "c5399244-906f-4bf2-f30c-c35c031d4b7e"
      },
      "execution_count": null,
      "outputs": [
        {
          "output_type": "stream",
          "name": "stdout",
          "text": [
            "before function call\n",
            "Hello world\n",
            "welcome\n",
            "None\n",
            "after function call\n"
          ]
        }
      ]
    },
    {
      "cell_type": "code",
      "source": [
        "#day 12 Machine learning 12052025\n",
        "\n"
      ],
      "metadata": {
        "id": "6lK2ahtf722c"
      },
      "execution_count": null,
      "outputs": []
    },
    {
      "cell_type": "code",
      "source": [
        "# program to print the square of no\n",
        "# without arguments , without return values\n",
        "def square():\n",
        "  x = int(input(\"enetr a no\"))\n",
        "  y = x**2\n",
        "  print(\"square of\",x,\"is\",y)\n",
        "\n",
        "square()"
      ],
      "metadata": {
        "colab": {
          "base_uri": "https://localhost:8080/"
        },
        "id": "FAsNwlxOZCHV",
        "outputId": "039b1946-db69-4ea5-c866-c72c8998e867"
      },
      "execution_count": null,
      "outputs": [
        {
          "output_type": "stream",
          "name": "stdout",
          "text": [
            "enetr a no5\n",
            "square of 5 is 25\n"
          ]
        }
      ]
    },
    {
      "cell_type": "code",
      "source": [
        " #with arguments , with return values\n",
        "\n",
        "def square(x):\n",
        "    #y = x**2\n",
        "    return x**2\n",
        "\n",
        "\n",
        "x = int(input(\"enetr a no\"))\n",
        "res = square(x)\n",
        "print(res)"
      ],
      "metadata": {
        "colab": {
          "base_uri": "https://localhost:8080/"
        },
        "id": "oUubBp9vdJIB",
        "outputId": "118c15c8-446f-409a-b108-71227645ef18"
      },
      "execution_count": null,
      "outputs": [
        {
          "output_type": "stream",
          "name": "stdout",
          "text": [
            "enetr a no6\n",
            "36\n"
          ]
        }
      ]
    },
    {
      "cell_type": "code",
      "source": [
        "#with arguments , without return values\n",
        "def square(x):\n",
        "  y = x**2\n",
        "  print(\"square of\",x,\"is\",y)\n",
        "\n",
        "\n",
        "x = int(input(\"enetr a no\"))\n",
        "square(x)\n"
      ],
      "metadata": {
        "colab": {
          "base_uri": "https://localhost:8080/"
        },
        "id": "_ukEx8_3d04P",
        "outputId": "eb9b9b20-cc06-4108-b65b-2360c4348d50"
      },
      "execution_count": null,
      "outputs": [
        {
          "output_type": "stream",
          "name": "stdout",
          "text": [
            "enetr a no6\n",
            "square of 6 is 36\n"
          ]
        }
      ]
    },
    {
      "cell_type": "code",
      "source": [
        "#without args , with return values\n",
        "\n",
        "def square():\n",
        "  x = int(input(\"enetr a no\"))\n",
        "  y = x**2\n",
        "  return y\n",
        "\n",
        "res = square()\n",
        "print(res)"
      ],
      "metadata": {
        "colab": {
          "base_uri": "https://localhost:8080/"
        },
        "id": "yeQplsX5d58J",
        "outputId": "a4840aa7-6bdc-4170-edfa-3b1cf01c6b34"
      },
      "execution_count": null,
      "outputs": [
        {
          "output_type": "stream",
          "name": "stdout",
          "text": [
            "enetr a no4\n",
            "16\n"
          ]
        }
      ]
    },
    {
      "cell_type": "code",
      "source": [
        "# return statement\n",
        "\n",
        "\n",
        "def test(a,b,c,d):\n",
        "\n",
        "  return a,b,c,d\n",
        "\n",
        "x,y = test(10,20,30,40)[1:3]\n",
        "\n",
        "print(x,y)\n",
        "print(type(x))"
      ],
      "metadata": {
        "colab": {
          "base_uri": "https://localhost:8080/"
        },
        "id": "lMgOlMr3fJNG",
        "outputId": "0baa0164-f90c-4bbb-d021-b4962425f9ff"
      },
      "execution_count": null,
      "outputs": [
        {
          "output_type": "stream",
          "name": "stdout",
          "text": [
            "20 30\n",
            "<class 'int'>\n"
          ]
        }
      ]
    },
    {
      "cell_type": "code",
      "source": [
        "# return\n",
        "\n",
        "def test1():\n",
        "  l1 = [10,20,30,40]\n",
        "  t1 = (60,70,80)\n",
        "  return l1,t1\n",
        "\n",
        "x = test1()\n",
        "print(x)\n",
        "print(type(x))\n",
        "\n"
      ],
      "metadata": {
        "colab": {
          "base_uri": "https://localhost:8080/"
        },
        "id": "zF54_Kotg7g8",
        "outputId": "69605a9d-cd9d-4e16-8242-80fa0396a06f"
      },
      "execution_count": null,
      "outputs": [
        {
          "output_type": "stream",
          "name": "stdout",
          "text": [
            "([10, 20, 30, 40], (60, 70, 80))\n",
            "<class 'tuple'>\n"
          ]
        }
      ]
    },
    {
      "cell_type": "code",
      "source": [
        "def func1(a,b,c,d):\n",
        "  return a,b,c,d\n",
        "\n",
        " = func1(10,20,30,40)\n",
        "print(a,a)\n"
      ],
      "metadata": {
        "colab": {
          "base_uri": "https://localhost:8080/"
        },
        "id": "RczUuvbMkRci",
        "outputId": "1c323995-826d-4cb9-9d55-77631e314ecd"
      },
      "execution_count": null,
      "outputs": [
        {
          "output_type": "stream",
          "name": "stdout",
          "text": [
            "20 20\n"
          ]
        }
      ]
    },
    {
      "cell_type": "code",
      "source": [
        "_ = 10\n",
        "print(_)"
      ],
      "metadata": {
        "colab": {
          "base_uri": "https://localhost:8080/"
        },
        "id": "0IKhUOXFmomZ",
        "outputId": "32321e57-b87b-451f-9b1d-14ce475413a4"
      },
      "execution_count": null,
      "outputs": [
        {
          "output_type": "stream",
          "name": "stdout",
          "text": [
            "10\n"
          ]
        }
      ]
    },
    {
      "cell_type": "code",
      "source": [
        "#day 12 Machine learning 12052025"
      ],
      "metadata": {
        "id": "BfwjeGpZ8SNV"
      },
      "execution_count": null,
      "outputs": []
    },
    {
      "cell_type": "code",
      "source": [
        "#function calling another function\n",
        "def test1():\n",
        "  print(\"iam include test1\")\n",
        "  test2() #function call\n",
        "  print(\"iam back to test1\")\n",
        "\n",
        "def test2():\n",
        "    print(\"iam in test2\")\n",
        "    print(\"going back\")\n",
        "\n",
        "test1()  #function call"
      ],
      "metadata": {
        "id": "2K4MnQxX8YyY",
        "outputId": "cad30fa2-012c-47d2-8a4d-110b0ed34401",
        "colab": {
          "base_uri": "https://localhost:8080/"
        }
      },
      "execution_count": 9,
      "outputs": [
        {
          "output_type": "stream",
          "name": "stdout",
          "text": [
            "iam include test1\n",
            "iam in test2\n",
            "going back\n",
            "iam back to test1\n"
          ]
        }
      ]
    },
    {
      "cell_type": "code",
      "source": [
        "#local variable variables defined inside the functions andd used orfunction is calledlocalvariables for its function\n",
        "\n",
        "def test():\n",
        "  x =10\n",
        "  x= x+1\n",
        "  print(x)\n",
        "\n",
        "test()\n",
        "test()\n",
        "test()"
      ],
      "metadata": {
        "id": "pY83lu-MCDb7",
        "outputId": "c1337c11-370b-44c7-bf23-e10c18f05040",
        "colab": {
          "base_uri": "https://localhost:8080/"
        }
      },
      "execution_count": 10,
      "outputs": [
        {
          "output_type": "stream",
          "name": "stdout",
          "text": [
            "11\n",
            "11\n",
            "11\n"
          ]
        }
      ]
    },
    {
      "cell_type": "code",
      "source": [
        "#scopeof local variable (scope of the x is only with in the function)\n",
        "\n",
        "def test():\n",
        "  x =10\n",
        "  x= x+1\n",
        "  print(x)\n",
        "\n",
        "test()\n",
        "test()\n",
        "test()\n",
        "\n",
        "print(x)"
      ],
      "metadata": {
        "id": "l4wwIHXgDtpg",
        "outputId": "f0035fea-07e4-4e56-cd88-88f1fff285d0",
        "colab": {
          "base_uri": "https://localhost:8080/",
          "height": 228
        }
      },
      "execution_count": 11,
      "outputs": [
        {
          "output_type": "stream",
          "name": "stdout",
          "text": [
            "11\n",
            "11\n",
            "11\n"
          ]
        },
        {
          "output_type": "error",
          "ename": "NameError",
          "evalue": "name 'x' is not defined",
          "traceback": [
            "\u001b[0;31m---------------------------------------------------------------------------\u001b[0m",
            "\u001b[0;31mNameError\u001b[0m                                 Traceback (most recent call last)",
            "\u001b[0;32m<ipython-input-11-ed7654063c36>\u001b[0m in \u001b[0;36m<cell line: 0>\u001b[0;34m()\u001b[0m\n\u001b[1;32m     10\u001b[0m \u001b[0mtest\u001b[0m\u001b[0;34m(\u001b[0m\u001b[0;34m)\u001b[0m\u001b[0;34m\u001b[0m\u001b[0;34m\u001b[0m\u001b[0m\n\u001b[1;32m     11\u001b[0m \u001b[0;34m\u001b[0m\u001b[0m\n\u001b[0;32m---> 12\u001b[0;31m \u001b[0mprint\u001b[0m\u001b[0;34m(\u001b[0m\u001b[0mx\u001b[0m\u001b[0;34m)\u001b[0m\u001b[0;34m\u001b[0m\u001b[0;34m\u001b[0m\u001b[0m\n\u001b[0m",
            "\u001b[0;31mNameError\u001b[0m: name 'x' is not defined"
          ]
        }
      ]
    },
    {
      "cell_type": "code",
      "source": [
        "#global variable (not bound to any of the function, defines outside of the function)\n",
        "\n",
        "n = 10\n",
        "def fun():\n",
        "  print(n)\n",
        "\n",
        "fun()\n",
        "print(n)"
      ],
      "metadata": {
        "id": "vKkFZOKEELTg",
        "outputId": "d65b2bb3-0902-4673-ba3b-b34def386275",
        "colab": {
          "base_uri": "https://localhost:8080/"
        }
      },
      "execution_count": 12,
      "outputs": [
        {
          "output_type": "stream",
          "name": "stdout",
          "text": [
            "10\n",
            "10\n"
          ]
        }
      ]
    },
    {
      "cell_type": "code",
      "source": [
        "#combination of local and global\n",
        "n = 10\n",
        "def fun():\n",
        "  n = 5 # local variable to the function (heighest priority)\n",
        "  print(n)\n",
        "\n",
        "fun()\n",
        "print(n)"
      ],
      "metadata": {
        "id": "PoT_Q5OoEqT7",
        "outputId": "4458ca30-f729-4796-8f24-e73b77972f69",
        "colab": {
          "base_uri": "https://localhost:8080/"
        }
      },
      "execution_count": 13,
      "outputs": [
        {
          "output_type": "stream",
          "name": "stdout",
          "text": [
            "5\n",
            "10\n"
          ]
        }
      ]
    },
    {
      "cell_type": "code",
      "source": [
        "#global variables can be accessed insidefunction , however it cannot be modified\n",
        "n = 10\n",
        "def fun():\n",
        "  n = n+1\n",
        "  print(n)\n",
        "\n",
        "fun()\n",
        "print(n)"
      ],
      "metadata": {
        "id": "O8yz0FtJFGl3",
        "outputId": "742a26ed-f678-469f-cad3-f603f545a389",
        "colab": {
          "base_uri": "https://localhost:8080/",
          "height": 315
        }
      },
      "execution_count": 14,
      "outputs": [
        {
          "output_type": "error",
          "ename": "UnboundLocalError",
          "evalue": "cannot access local variable 'n' where it is not associated with a value",
          "traceback": [
            "\u001b[0;31m---------------------------------------------------------------------------\u001b[0m",
            "\u001b[0;31mUnboundLocalError\u001b[0m                         Traceback (most recent call last)",
            "\u001b[0;32m<ipython-input-14-334205773730>\u001b[0m in \u001b[0;36m<cell line: 0>\u001b[0;34m()\u001b[0m\n\u001b[1;32m      4\u001b[0m   \u001b[0mprint\u001b[0m\u001b[0;34m(\u001b[0m\u001b[0mn\u001b[0m\u001b[0;34m)\u001b[0m\u001b[0;34m\u001b[0m\u001b[0;34m\u001b[0m\u001b[0m\n\u001b[1;32m      5\u001b[0m \u001b[0;34m\u001b[0m\u001b[0m\n\u001b[0;32m----> 6\u001b[0;31m \u001b[0mfun\u001b[0m\u001b[0;34m(\u001b[0m\u001b[0;34m)\u001b[0m\u001b[0;34m\u001b[0m\u001b[0;34m\u001b[0m\u001b[0m\n\u001b[0m\u001b[1;32m      7\u001b[0m \u001b[0mprint\u001b[0m\u001b[0;34m(\u001b[0m\u001b[0mn\u001b[0m\u001b[0;34m)\u001b[0m\u001b[0;34m\u001b[0m\u001b[0;34m\u001b[0m\u001b[0m\n",
            "\u001b[0;32m<ipython-input-14-334205773730>\u001b[0m in \u001b[0;36mfun\u001b[0;34m()\u001b[0m\n\u001b[1;32m      1\u001b[0m \u001b[0mn\u001b[0m \u001b[0;34m=\u001b[0m \u001b[0;36m10\u001b[0m\u001b[0;34m\u001b[0m\u001b[0;34m\u001b[0m\u001b[0m\n\u001b[1;32m      2\u001b[0m \u001b[0;32mdef\u001b[0m \u001b[0mfun\u001b[0m\u001b[0;34m(\u001b[0m\u001b[0;34m)\u001b[0m\u001b[0;34m:\u001b[0m\u001b[0;34m\u001b[0m\u001b[0;34m\u001b[0m\u001b[0m\n\u001b[0;32m----> 3\u001b[0;31m   \u001b[0mn\u001b[0m \u001b[0;34m=\u001b[0m \u001b[0mn\u001b[0m\u001b[0;34m+\u001b[0m\u001b[0;36m1\u001b[0m\u001b[0;34m\u001b[0m\u001b[0;34m\u001b[0m\u001b[0m\n\u001b[0m\u001b[1;32m      4\u001b[0m   \u001b[0mprint\u001b[0m\u001b[0;34m(\u001b[0m\u001b[0mn\u001b[0m\u001b[0;34m)\u001b[0m\u001b[0;34m\u001b[0m\u001b[0;34m\u001b[0m\u001b[0m\n\u001b[1;32m      5\u001b[0m \u001b[0;34m\u001b[0m\u001b[0m\n",
            "\u001b[0;31mUnboundLocalError\u001b[0m: cannot access local variable 'n' where it is not associated with a value"
          ]
        }
      ]
    },
    {
      "cell_type": "code",
      "source": [
        "#global variables can be accessed insidefunction , however it cannot be modified\n",
        "#if we need to modify the global variable inside function use the global keyword before variable inside function\n",
        "n = 10\n",
        "def fun():\n",
        "  global n #global keyword to modify global variables\n",
        "  n = n+1\n",
        "  print(n)\n",
        "\n",
        "fun()\n",
        "print(n)\n"
      ],
      "metadata": {
        "id": "yAbQwZhkFl5p",
        "outputId": "db635010-4187-4e03-be95-c0ee4474dfe2",
        "colab": {
          "base_uri": "https://localhost:8080/"
        }
      },
      "execution_count": 15,
      "outputs": [
        {
          "output_type": "stream",
          "name": "stdout",
          "text": [
            "11\n",
            "11\n"
          ]
        }
      ]
    },
    {
      "cell_type": "code",
      "source": [
        "n = 10\n",
        "def fun():\n",
        "  global n #global keyword to modify global variables\n",
        "  n = n+1\n",
        "  print(n)\n",
        "def test():\n",
        "  global n\n",
        "  n= n+1\n",
        "  print(n)\n",
        "fun()\n",
        "test()\n",
        "print(n)\n"
      ],
      "metadata": {
        "id": "jHKCK-bUGg3D",
        "outputId": "ce133332-739d-4c54-c60d-b568f8be932e",
        "colab": {
          "base_uri": "https://localhost:8080/"
        }
      },
      "execution_count": 16,
      "outputs": [
        {
          "output_type": "stream",
          "name": "stdout",
          "text": [
            "11\n",
            "12\n",
            "12\n"
          ]
        }
      ]
    },
    {
      "cell_type": "code",
      "source": [
        "n=10\n",
        "def fun():\n",
        "  global n #global keyword to modify global variables\n",
        "  n = n+1\n",
        "  print(n)\n",
        "  test()\n",
        "\n",
        "def test():\n",
        "  global n\n",
        "  n= n+1\n",
        "  print(n)\n",
        "fun()\n",
        "test()\n",
        "print(n)\n"
      ],
      "metadata": {
        "id": "T3EnaQylGxcD",
        "outputId": "33ea64b0-0e11-46ef-cd3f-734ea72f54b7",
        "colab": {
          "base_uri": "https://localhost:8080/"
        }
      },
      "execution_count": 18,
      "outputs": [
        {
          "output_type": "stream",
          "name": "stdout",
          "text": [
            "11\n",
            "12\n",
            "13\n",
            "13\n"
          ]
        }
      ]
    },
    {
      "cell_type": "code",
      "source": [
        "#function is an Object\n",
        "def test():\n",
        "  print(\"hello world\")\n",
        "\n",
        "i =10\n",
        "print(type(i))\n",
        "\n",
        "print(type(test))\n",
        "print(test)\n",
        "#we can create aliases for function"
      ],
      "metadata": {
        "id": "RmlkxVhoHim9",
        "outputId": "5be0b745-2234-4bfc-ce99-a91cbd5f6196",
        "colab": {
          "base_uri": "https://localhost:8080/"
        }
      },
      "execution_count": 24,
      "outputs": [
        {
          "output_type": "stream",
          "name": "stdout",
          "text": [
            "<class 'int'>\n",
            "<class 'function'>\n",
            "<function test at 0x7c337d9a1260>\n"
          ]
        }
      ]
    },
    {
      "cell_type": "code",
      "source": [
        "def multiplier_factory(factor):\n",
        "\n",
        "  def multiplier(number):\n",
        "\n",
        "    return number * factor\n",
        "\n",
        "  # Return the nested function\n",
        "  return multiplier  # returning the inner function\n",
        "\n",
        "# Create a function that multiplies by 5\n",
        "multiply_by_5 = multiplier_factory(5)\n",
        "\n",
        "# Create a function that multiplies by 10\n",
        "multiply_by_10 = multiplier_factory(10)\n",
        "\n",
        "# Use the created functions\n",
        "result1 = multiply_by_5(8)\n",
        "result2 = multiply_by_10(4)\n",
        "\n",
        "print(f\"8 multiplied by 5 is: {result1}\")  # Output: 8 multiplied by 5 is: 40\n",
        "print(f\"4 multiplied by 10 is: {result2}\") # Output: 4 multiplied by 10 is: 40"
      ],
      "metadata": {
        "id": "8ANlQ-73KVVA",
        "outputId": "2292cf74-2b3a-482c-f186-a43fbf3cdbff",
        "colab": {
          "base_uri": "https://localhost:8080/"
        }
      },
      "execution_count": 25,
      "outputs": [
        {
          "output_type": "stream",
          "name": "stdout",
          "text": [
            "8 multiplied by 5 is: 40\n",
            "4 multiplied by 10 is: 40\n"
          ]
        }
      ]
    },
    {
      "cell_type": "code",
      "source": [
        "#alias name for function\n",
        "\n",
        "def test1():\n",
        "  print(\"hello\")\n",
        "\n",
        "a = test1 #assigining alias name\n",
        "a() #calling function with alias name"
      ],
      "metadata": {
        "id": "_22kEkNRKcHz",
        "outputId": "6d4e219d-0ccd-4a6c-d162-6c14bedfd1d6",
        "colab": {
          "base_uri": "https://localhost:8080/"
        }
      },
      "execution_count": 35,
      "outputs": [
        {
          "output_type": "stream",
          "name": "stdout",
          "text": [
            "hello\n"
          ]
        }
      ]
    },
    {
      "cell_type": "code",
      "source": [
        "#positional aruguments or required args\n",
        "def test(name, age, city):\n",
        "  print(\"my name is \", name, \"and my age is \", age, \"and iam from\", city)\n",
        "\n",
        "test('ram', 20, 'delhi')"
      ],
      "metadata": {
        "id": "eDTPrOC8L1ME",
        "outputId": "ad8979bc-bce6-4ea5-a338-b8bb90cb4e33",
        "colab": {
          "base_uri": "https://localhost:8080/"
        }
      },
      "execution_count": 38,
      "outputs": [
        {
          "output_type": "stream",
          "name": "stdout",
          "text": [
            "my name is  ram and my age is  20 and iam from delhi\n"
          ]
        }
      ]
    },
    {
      "cell_type": "code",
      "source": [
        "#keyword arguments\n",
        "\n",
        "def test(name, age, city):\n",
        "  print(\"my name is \", name, \"and my age is \", age, \"and iam from\", city)\n",
        "\n",
        "test(name ='ram', age = 20, city ='delhi')\n",
        "\n",
        "\n",
        "def test(name, age, city):\n",
        "  print(\"my name is \", name, \"and my age is \", age, \"and iam from\", city)\n",
        "\n",
        "test( age = 20, city ='delhi', name ='ram')\n",
        "\n",
        "\n"
      ],
      "metadata": {
        "id": "EF60_M21Mk3d",
        "outputId": "8aa5d80c-bdf3-4e89-ac9d-df780ccd886a",
        "colab": {
          "base_uri": "https://localhost:8080/"
        }
      },
      "execution_count": 40,
      "outputs": [
        {
          "output_type": "stream",
          "name": "stdout",
          "text": [
            "my name is  ram and my age is  20 and iam from delhi\n",
            "my name is  ram and my age is  20 and iam from delhi\n"
          ]
        }
      ]
    },
    {
      "cell_type": "code",
      "source": [
        "#keyword arguments and positional arguments\n",
        "\n",
        "def test(name, age, city):\n",
        "  print(\"my name is \", name, \"and my age is \", age, \"and iam from\", city)\n",
        "\n",
        "test('ram', 20, city ='delhi')\n",
        "\n",
        "def test(name, age, city):\n",
        "  print(\"my name is \", name, \"and my age is \", age, \"and iam from\", city)\n",
        "\n",
        "test(20, 'ram',city ='delhi')\n",
        "\n",
        "def test(name, age, city):\n",
        "  print(\"my name is \", name, \"and my age is \", age, \"and iam from\", city)\n",
        "\n",
        "test(city ='delhi',20,'ram') #cannot give keyword arg first , we need to fix the positional args\n",
        "#positional argument follows keyword argument\n",
        "test('ram', 25, city = 'Delhi')"
      ],
      "metadata": {
        "id": "YQA9uWFuNALg",
        "outputId": "fbb18351-a303-4ea8-abc3-a495e3c920f6",
        "colab": {
          "base_uri": "https://localhost:8080/",
          "height": 106
        }
      },
      "execution_count": 44,
      "outputs": [
        {
          "output_type": "error",
          "ename": "SyntaxError",
          "evalue": "positional argument follows keyword argument (<ipython-input-44-55f6d81a32f7>, line 16)",
          "traceback": [
            "\u001b[0;36m  File \u001b[0;32m\"<ipython-input-44-55f6d81a32f7>\"\u001b[0;36m, line \u001b[0;32m16\u001b[0m\n\u001b[0;31m    test(city ='delhi',20,'ram',) #cannot give keyword arg first , we need to fix the positional args\u001b[0m\n\u001b[0m                                ^\u001b[0m\n\u001b[0;31mSyntaxError\u001b[0m\u001b[0;31m:\u001b[0m positional argument follows keyword argument\n"
          ]
        }
      ]
    },
    {
      "cell_type": "code",
      "source": [
        "#default arguments\n",
        "\n",
        "def power(num, p=2): #here p is default argument defined in function\n",
        "  print(num**p)\n",
        "\n",
        "power(5)\n"
      ],
      "metadata": {
        "id": "ZTPbJy9CPn71",
        "outputId": "60165a08-94f4-4166-8f23-c1f25eabb96e",
        "colab": {
          "base_uri": "https://localhost:8080/"
        }
      },
      "execution_count": 45,
      "outputs": [
        {
          "output_type": "stream",
          "name": "stdout",
          "text": [
            "25\n"
          ]
        }
      ]
    },
    {
      "cell_type": "code",
      "source": [
        "#default arguments\n",
        "\n",
        "def student(name, age, m1, m2,m3, college=\"UVCE\"):\n",
        "  print(name, age, m1, m2, m3, college)\n",
        "\n",
        "student('suresh', 20, 90,80,30)\n",
        "student('hari', 21, 100, 91, 45)\n",
        "student(\"Giri\", 22, 45,55,64, \"ssec\") #if values passed it will override the existing values and take new value\n",
        "\n",
        "\n"
      ],
      "metadata": {
        "id": "j3982HAwQFMk",
        "outputId": "d41c672b-f735-467c-8bfd-38404832d66c",
        "colab": {
          "base_uri": "https://localhost:8080/"
        }
      },
      "execution_count": 47,
      "outputs": [
        {
          "output_type": "stream",
          "name": "stdout",
          "text": [
            "suresh 20 90 80 30 UVCE\n",
            "hari 21 100 91 45 UVCE\n",
            "Giri 22 45 55 64 ssec\n"
          ]
        }
      ]
    },
    {
      "cell_type": "code",
      "source": [
        "#positional args --->Keyword args -----> Default args\n",
        "def student(name, age, m1, m2,m3, college=\"UVCE\"):\n",
        "  print(name, age, m1, m2, m3, college)\n",
        "\n",
        "student('suresh', 20, m1= 90,m2=80,m3=30)\n",
        "#student('hari', 21, 100, 91, 45)\n",
        "student(\"Giri\", 22, 45,55,64, \"ssec\")\n",
        "\n",
        "\n"
      ],
      "metadata": {
        "id": "fa8HY0GARHm-",
        "outputId": "df19eb10-42c8-4eed-860c-3d244094cf3e",
        "colab": {
          "base_uri": "https://localhost:8080/"
        }
      },
      "execution_count": 48,
      "outputs": [
        {
          "output_type": "stream",
          "name": "stdout",
          "text": [
            "suresh 20 90 80 30 UVCE\n",
            "Giri 22 45 55 64 ssec\n"
          ]
        }
      ]
    },
    {
      "cell_type": "code",
      "source": [
        "#variable length arguments\n",
        "def add(*a):\n",
        "  print(a)\n",
        "  print(type(a))\n",
        "\n",
        "add(1,2)\n",
        "add(1,2,3)\n",
        "add(1,2,3,4)"
      ],
      "metadata": {
        "id": "nRpYDlrKSNn0",
        "outputId": "6f4bbe37-428e-434b-a0d5-a362353792d6",
        "colab": {
          "base_uri": "https://localhost:8080/"
        }
      },
      "execution_count": 50,
      "outputs": [
        {
          "output_type": "stream",
          "name": "stdout",
          "text": [
            "(1, 2)\n",
            "<class 'tuple'>\n",
            "(1, 2, 3)\n",
            "<class 'tuple'>\n",
            "(1, 2, 3, 4)\n",
            "<class 'tuple'>\n"
          ]
        }
      ]
    },
    {
      "cell_type": "code",
      "source": [
        "#variable length arguments\n",
        "def sum(*a):\n",
        "  #print(a)\n",
        "  s=0\n",
        "  for i in a:\n",
        "    s=s+1\n",
        "    print(type(s))\n",
        "    print(s)\n",
        "\n",
        "sum(1,2)#position arguments variable values are packed as Tuple\n",
        "sum(1,2,3)\n",
        "sum(1,2,3,4)"
      ],
      "metadata": {
        "id": "vru3C7IgTsmO",
        "outputId": "4ce36839-c130-4ce3-c30f-9383717a6e33",
        "colab": {
          "base_uri": "https://localhost:8080/"
        }
      },
      "execution_count": 56,
      "outputs": [
        {
          "output_type": "stream",
          "name": "stdout",
          "text": [
            "<class 'int'>\n",
            "1\n",
            "<class 'int'>\n",
            "2\n",
            "<class 'int'>\n",
            "1\n",
            "<class 'int'>\n",
            "2\n",
            "<class 'int'>\n",
            "3\n",
            "<class 'int'>\n",
            "1\n",
            "<class 'int'>\n",
            "2\n",
            "<class 'int'>\n",
            "3\n",
            "<class 'int'>\n",
            "4\n"
          ]
        }
      ]
    },
    {
      "cell_type": "code",
      "source": [
        "#variable length keyword args\n",
        "\n",
        "def addition(**a):\n",
        "  s=0\n",
        "  for n in a.values():\n",
        "    s=s+n\n",
        "  print(s)\n",
        "\n",
        "addition(a=10, b=20)\n",
        "addition(a= 22, b=33, c=44) #values are packed as a dictionary\n",
        "#in variables keyword variable values are  packed as dictionary"
      ],
      "metadata": {
        "id": "OYNFUJpSUcnN",
        "outputId": "4c28cafa-bd57-409c-f357-afcfbcae9df0",
        "colab": {
          "base_uri": "https://localhost:8080/"
        }
      },
      "execution_count": 57,
      "outputs": [
        {
          "output_type": "stream",
          "name": "stdout",
          "text": [
            "30\n",
            "99\n"
          ]
        }
      ]
    }
  ]
}