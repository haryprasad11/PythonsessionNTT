{
  "nbformat": 4,
  "nbformat_minor": 0,
  "metadata": {
    "colab": {
      "provenance": []
    },
    "kernelspec": {
      "name": "python3",
      "display_name": "Python 3"
    },
    "language_info": {
      "name": "python"
    }
  },
  "cells": [
    {
      "cell_type": "code",
      "execution_count": null,
      "metadata": {
        "colab": {
          "base_uri": "https://localhost:8080/"
        },
        "id": "LynczderHEfx",
        "outputId": "341612f5-47fa-4176-cb7a-3453d0392be7"
      },
      "outputs": [
        {
          "output_type": "stream",
          "name": "stdout",
          "text": [
            "Hello World\n"
          ]
        }
      ],
      "source": [
        "print(\"Hello World\")"
      ]
    },
    {
      "cell_type": "code",
      "source": [],
      "metadata": {
        "id": "BiWBFSkcZeq6"
      },
      "execution_count": null,
      "outputs": []
    },
    {
      "cell_type": "code",
      "source": [
        "# simple function\n",
        "\n",
        "def fun():\n",
        "  print(\"Hello world\")\n",
        "  print(\"welcome\")\n",
        "\n",
        "\n",
        "print(\"before function call\")\n",
        "fun()\n",
        "print(\"after function call\")\n"
      ],
      "metadata": {
        "colab": {
          "base_uri": "https://localhost:8080/"
        },
        "id": "MBh5kn9LVoyV",
        "outputId": "c5399244-906f-4bf2-f30c-c35c031d4b7e"
      },
      "execution_count": null,
      "outputs": [
        {
          "output_type": "stream",
          "name": "stdout",
          "text": [
            "before function call\n",
            "Hello world\n",
            "welcome\n",
            "None\n",
            "after function call\n"
          ]
        }
      ]
    },
    {
      "cell_type": "code",
      "source": [
        "#day 12 Machine learning 12052025\n",
        "\n"
      ],
      "metadata": {
        "id": "6lK2ahtf722c"
      },
      "execution_count": null,
      "outputs": []
    },
    {
      "cell_type": "code",
      "source": [
        "# program to print the square of no\n",
        "# without arguments , without return values\n",
        "def square():\n",
        "  x = int(input(\"enetr a no\"))\n",
        "  y = x**2\n",
        "  print(\"square of\",x,\"is\",y)\n",
        "\n",
        "square()"
      ],
      "metadata": {
        "colab": {
          "base_uri": "https://localhost:8080/"
        },
        "id": "FAsNwlxOZCHV",
        "outputId": "039b1946-db69-4ea5-c866-c72c8998e867"
      },
      "execution_count": null,
      "outputs": [
        {
          "output_type": "stream",
          "name": "stdout",
          "text": [
            "enetr a no5\n",
            "square of 5 is 25\n"
          ]
        }
      ]
    },
    {
      "cell_type": "code",
      "source": [
        " #with arguments , with return values\n",
        "\n",
        "def square(x):\n",
        "    #y = x**2\n",
        "    return x**2\n",
        "\n",
        "\n",
        "x = int(input(\"enetr a no\"))\n",
        "res = square(x)\n",
        "print(res)"
      ],
      "metadata": {
        "colab": {
          "base_uri": "https://localhost:8080/"
        },
        "id": "oUubBp9vdJIB",
        "outputId": "118c15c8-446f-409a-b108-71227645ef18"
      },
      "execution_count": null,
      "outputs": [
        {
          "output_type": "stream",
          "name": "stdout",
          "text": [
            "enetr a no6\n",
            "36\n"
          ]
        }
      ]
    },
    {
      "cell_type": "code",
      "source": [
        "#with arguments , without return values\n",
        "def square(x):\n",
        "  y = x**2\n",
        "  print(\"square of\",x,\"is\",y)\n",
        "\n",
        "\n",
        "x = int(input(\"enetr a no\"))\n",
        "square(x)\n"
      ],
      "metadata": {
        "colab": {
          "base_uri": "https://localhost:8080/"
        },
        "id": "_ukEx8_3d04P",
        "outputId": "eb9b9b20-cc06-4108-b65b-2360c4348d50"
      },
      "execution_count": null,
      "outputs": [
        {
          "output_type": "stream",
          "name": "stdout",
          "text": [
            "enetr a no6\n",
            "square of 6 is 36\n"
          ]
        }
      ]
    },
    {
      "cell_type": "code",
      "source": [
        "#without args , with return values\n",
        "\n",
        "def square():\n",
        "  x = int(input(\"enetr a no\"))\n",
        "  y = x**2\n",
        "  return y\n",
        "\n",
        "res = square()\n",
        "print(res)"
      ],
      "metadata": {
        "colab": {
          "base_uri": "https://localhost:8080/"
        },
        "id": "yeQplsX5d58J",
        "outputId": "a4840aa7-6bdc-4170-edfa-3b1cf01c6b34"
      },
      "execution_count": null,
      "outputs": [
        {
          "output_type": "stream",
          "name": "stdout",
          "text": [
            "enetr a no4\n",
            "16\n"
          ]
        }
      ]
    },
    {
      "cell_type": "code",
      "source": [
        "# return statement\n",
        "\n",
        "\n",
        "def test(a,b,c,d):\n",
        "\n",
        "  return a,b,c,d\n",
        "\n",
        "x,y = test(10,20,30,40)[1:3]\n",
        "\n",
        "print(x,y)\n",
        "print(type(x))"
      ],
      "metadata": {
        "colab": {
          "base_uri": "https://localhost:8080/"
        },
        "id": "lMgOlMr3fJNG",
        "outputId": "0baa0164-f90c-4bbb-d021-b4962425f9ff"
      },
      "execution_count": null,
      "outputs": [
        {
          "output_type": "stream",
          "name": "stdout",
          "text": [
            "20 30\n",
            "<class 'int'>\n"
          ]
        }
      ]
    },
    {
      "cell_type": "code",
      "source": [
        "# return\n",
        "\n",
        "def test1():\n",
        "  l1 = [10,20,30,40]\n",
        "  t1 = (60,70,80)\n",
        "  return l1,t1\n",
        "\n",
        "x = test1()\n",
        "print(x)\n",
        "print(type(x))\n",
        "\n"
      ],
      "metadata": {
        "colab": {
          "base_uri": "https://localhost:8080/"
        },
        "id": "zF54_Kotg7g8",
        "outputId": "69605a9d-cd9d-4e16-8242-80fa0396a06f"
      },
      "execution_count": null,
      "outputs": [
        {
          "output_type": "stream",
          "name": "stdout",
          "text": [
            "([10, 20, 30, 40], (60, 70, 80))\n",
            "<class 'tuple'>\n"
          ]
        }
      ]
    },
    {
      "cell_type": "code",
      "source": [
        "def func1(a,b,c,d):\n",
        "  return a,b,c,d\n",
        "\n",
        " = func1(10,20,30,40)\n",
        "print(a,a)\n"
      ],
      "metadata": {
        "colab": {
          "base_uri": "https://localhost:8080/"
        },
        "id": "RczUuvbMkRci",
        "outputId": "1c323995-826d-4cb9-9d55-77631e314ecd"
      },
      "execution_count": null,
      "outputs": [
        {
          "output_type": "stream",
          "name": "stdout",
          "text": [
            "20 20\n"
          ]
        }
      ]
    },
    {
      "cell_type": "code",
      "source": [
        "_ = 10\n",
        "print(_)"
      ],
      "metadata": {
        "colab": {
          "base_uri": "https://localhost:8080/"
        },
        "id": "0IKhUOXFmomZ",
        "outputId": "32321e57-b87b-451f-9b1d-14ce475413a4"
      },
      "execution_count": null,
      "outputs": [
        {
          "output_type": "stream",
          "name": "stdout",
          "text": [
            "10\n"
          ]
        }
      ]
    },
    {
      "cell_type": "code",
      "source": [
        "#day 12 Machine learning 12052025"
      ],
      "metadata": {
        "id": "BfwjeGpZ8SNV"
      },
      "execution_count": null,
      "outputs": []
    },
    {
      "cell_type": "code",
      "source": [
        "#function calling another function\n",
        "def test1():\n",
        "  print(\"iam include test1\")\n",
        "  test2() #function call\n",
        "  print(\"iam back to test1\")\n",
        "\n",
        "def test2():\n",
        "    print(\"iam in test2\")\n",
        "    print(\"going back\")\n",
        "\n",
        "test1()  #function call"
      ],
      "metadata": {
        "colab": {
          "base_uri": "https://localhost:8080/"
        },
        "id": "2K4MnQxX8YyY",
        "outputId": "cad30fa2-012c-47d2-8a4d-110b0ed34401"
      },
      "execution_count": null,
      "outputs": [
        {
          "output_type": "stream",
          "name": "stdout",
          "text": [
            "iam include test1\n",
            "iam in test2\n",
            "going back\n",
            "iam back to test1\n"
          ]
        }
      ]
    },
    {
      "cell_type": "code",
      "source": [
        "#local variable variables defined inside the functions andd used orfunction is calledlocalvariables for its function\n",
        "\n",
        "def test():\n",
        "  x =10\n",
        "  x= x+1\n",
        "  print(x)\n",
        "\n",
        "test()\n",
        "test()\n",
        "test()"
      ],
      "metadata": {
        "colab": {
          "base_uri": "https://localhost:8080/"
        },
        "id": "pY83lu-MCDb7",
        "outputId": "c1337c11-370b-44c7-bf23-e10c18f05040"
      },
      "execution_count": null,
      "outputs": [
        {
          "output_type": "stream",
          "name": "stdout",
          "text": [
            "11\n",
            "11\n",
            "11\n"
          ]
        }
      ]
    },
    {
      "cell_type": "code",
      "source": [
        "#scopeof local variable (scope of the x is only with in the function)\n",
        "\n",
        "def test():\n",
        "  x =10\n",
        "  x= x+1\n",
        "  print(x)\n",
        "\n",
        "test()\n",
        "test()\n",
        "test()\n",
        "\n",
        "print(x)"
      ],
      "metadata": {
        "colab": {
          "base_uri": "https://localhost:8080/",
          "height": 228
        },
        "id": "l4wwIHXgDtpg",
        "outputId": "f0035fea-07e4-4e56-cd88-88f1fff285d0"
      },
      "execution_count": null,
      "outputs": [
        {
          "output_type": "stream",
          "name": "stdout",
          "text": [
            "11\n",
            "11\n",
            "11\n"
          ]
        },
        {
          "output_type": "error",
          "ename": "NameError",
          "evalue": "name 'x' is not defined",
          "traceback": [
            "\u001b[0;31m---------------------------------------------------------------------------\u001b[0m",
            "\u001b[0;31mNameError\u001b[0m                                 Traceback (most recent call last)",
            "\u001b[0;32m<ipython-input-11-ed7654063c36>\u001b[0m in \u001b[0;36m<cell line: 0>\u001b[0;34m()\u001b[0m\n\u001b[1;32m     10\u001b[0m \u001b[0mtest\u001b[0m\u001b[0;34m(\u001b[0m\u001b[0;34m)\u001b[0m\u001b[0;34m\u001b[0m\u001b[0;34m\u001b[0m\u001b[0m\n\u001b[1;32m     11\u001b[0m \u001b[0;34m\u001b[0m\u001b[0m\n\u001b[0;32m---> 12\u001b[0;31m \u001b[0mprint\u001b[0m\u001b[0;34m(\u001b[0m\u001b[0mx\u001b[0m\u001b[0;34m)\u001b[0m\u001b[0;34m\u001b[0m\u001b[0;34m\u001b[0m\u001b[0m\n\u001b[0m",
            "\u001b[0;31mNameError\u001b[0m: name 'x' is not defined"
          ]
        }
      ]
    },
    {
      "cell_type": "code",
      "source": [
        "#global variable (not bound to any of the function, defines outside of the function)\n",
        "\n",
        "n = 10\n",
        "def fun():\n",
        "  print(n)\n",
        "\n",
        "fun()\n",
        "print(n)"
      ],
      "metadata": {
        "colab": {
          "base_uri": "https://localhost:8080/"
        },
        "id": "vKkFZOKEELTg",
        "outputId": "d65b2bb3-0902-4673-ba3b-b34def386275"
      },
      "execution_count": null,
      "outputs": [
        {
          "output_type": "stream",
          "name": "stdout",
          "text": [
            "10\n",
            "10\n"
          ]
        }
      ]
    },
    {
      "cell_type": "code",
      "source": [
        "#combination of local and global\n",
        "n = 10\n",
        "def fun():\n",
        "  n = 5 # local variable to the function (heighest priority)\n",
        "  print(n)\n",
        "\n",
        "fun()\n",
        "print(n)"
      ],
      "metadata": {
        "colab": {
          "base_uri": "https://localhost:8080/"
        },
        "id": "PoT_Q5OoEqT7",
        "outputId": "4458ca30-f729-4796-8f24-e73b77972f69"
      },
      "execution_count": null,
      "outputs": [
        {
          "output_type": "stream",
          "name": "stdout",
          "text": [
            "5\n",
            "10\n"
          ]
        }
      ]
    },
    {
      "cell_type": "code",
      "source": [
        "#global variables can be accessed insidefunction , however it cannot be modified\n",
        "n = 10\n",
        "def fun():\n",
        "  n = n+1\n",
        "  print(n)\n",
        "\n",
        "fun()\n",
        "print(n)"
      ],
      "metadata": {
        "colab": {
          "base_uri": "https://localhost:8080/",
          "height": 332
        },
        "id": "O8yz0FtJFGl3",
        "outputId": "742a26ed-f678-469f-cad3-f603f545a389"
      },
      "execution_count": null,
      "outputs": [
        {
          "output_type": "error",
          "ename": "UnboundLocalError",
          "evalue": "cannot access local variable 'n' where it is not associated with a value",
          "traceback": [
            "\u001b[0;31m---------------------------------------------------------------------------\u001b[0m",
            "\u001b[0;31mUnboundLocalError\u001b[0m                         Traceback (most recent call last)",
            "\u001b[0;32m<ipython-input-14-334205773730>\u001b[0m in \u001b[0;36m<cell line: 0>\u001b[0;34m()\u001b[0m\n\u001b[1;32m      4\u001b[0m   \u001b[0mprint\u001b[0m\u001b[0;34m(\u001b[0m\u001b[0mn\u001b[0m\u001b[0;34m)\u001b[0m\u001b[0;34m\u001b[0m\u001b[0;34m\u001b[0m\u001b[0m\n\u001b[1;32m      5\u001b[0m \u001b[0;34m\u001b[0m\u001b[0m\n\u001b[0;32m----> 6\u001b[0;31m \u001b[0mfun\u001b[0m\u001b[0;34m(\u001b[0m\u001b[0;34m)\u001b[0m\u001b[0;34m\u001b[0m\u001b[0;34m\u001b[0m\u001b[0m\n\u001b[0m\u001b[1;32m      7\u001b[0m \u001b[0mprint\u001b[0m\u001b[0;34m(\u001b[0m\u001b[0mn\u001b[0m\u001b[0;34m)\u001b[0m\u001b[0;34m\u001b[0m\u001b[0;34m\u001b[0m\u001b[0m\n",
            "\u001b[0;32m<ipython-input-14-334205773730>\u001b[0m in \u001b[0;36mfun\u001b[0;34m()\u001b[0m\n\u001b[1;32m      1\u001b[0m \u001b[0mn\u001b[0m \u001b[0;34m=\u001b[0m \u001b[0;36m10\u001b[0m\u001b[0;34m\u001b[0m\u001b[0;34m\u001b[0m\u001b[0m\n\u001b[1;32m      2\u001b[0m \u001b[0;32mdef\u001b[0m \u001b[0mfun\u001b[0m\u001b[0;34m(\u001b[0m\u001b[0;34m)\u001b[0m\u001b[0;34m:\u001b[0m\u001b[0;34m\u001b[0m\u001b[0;34m\u001b[0m\u001b[0m\n\u001b[0;32m----> 3\u001b[0;31m   \u001b[0mn\u001b[0m \u001b[0;34m=\u001b[0m \u001b[0mn\u001b[0m\u001b[0;34m+\u001b[0m\u001b[0;36m1\u001b[0m\u001b[0;34m\u001b[0m\u001b[0;34m\u001b[0m\u001b[0m\n\u001b[0m\u001b[1;32m      4\u001b[0m   \u001b[0mprint\u001b[0m\u001b[0;34m(\u001b[0m\u001b[0mn\u001b[0m\u001b[0;34m)\u001b[0m\u001b[0;34m\u001b[0m\u001b[0;34m\u001b[0m\u001b[0m\n\u001b[1;32m      5\u001b[0m \u001b[0;34m\u001b[0m\u001b[0m\n",
            "\u001b[0;31mUnboundLocalError\u001b[0m: cannot access local variable 'n' where it is not associated with a value"
          ]
        }
      ]
    },
    {
      "cell_type": "code",
      "source": [
        "#global variables can be accessed insidefunction , however it cannot be modified\n",
        "#if we need to modify the global variable inside function use the global keyword before variable inside function\n",
        "n = 10\n",
        "def fun():\n",
        "  global n #global keyword to modify global variables\n",
        "  n = n+1\n",
        "  print(n)\n",
        "\n",
        "fun()\n",
        "print(n)\n"
      ],
      "metadata": {
        "colab": {
          "base_uri": "https://localhost:8080/"
        },
        "id": "yAbQwZhkFl5p",
        "outputId": "db635010-4187-4e03-be95-c0ee4474dfe2"
      },
      "execution_count": null,
      "outputs": [
        {
          "output_type": "stream",
          "name": "stdout",
          "text": [
            "11\n",
            "11\n"
          ]
        }
      ]
    },
    {
      "cell_type": "code",
      "source": [
        "n = 10\n",
        "def fun():\n",
        "  global n #global keyword to modify global variables\n",
        "  n = n+1\n",
        "  print(n)\n",
        "def test():\n",
        "  global n\n",
        "  n= n+1\n",
        "  print(n)\n",
        "fun()\n",
        "test()\n",
        "print(n)\n"
      ],
      "metadata": {
        "colab": {
          "base_uri": "https://localhost:8080/"
        },
        "id": "jHKCK-bUGg3D",
        "outputId": "ce133332-739d-4c54-c60d-b568f8be932e"
      },
      "execution_count": null,
      "outputs": [
        {
          "output_type": "stream",
          "name": "stdout",
          "text": [
            "11\n",
            "12\n",
            "12\n"
          ]
        }
      ]
    },
    {
      "cell_type": "code",
      "source": [
        "n=10\n",
        "def fun():\n",
        "  global n #global keyword to modify global variables\n",
        "  n = n+1\n",
        "  print(n)\n",
        "  test()\n",
        "\n",
        "def test():\n",
        "  global n\n",
        "  n= n+1\n",
        "  print(n)\n",
        "fun()\n",
        "test()\n",
        "print(n)\n"
      ],
      "metadata": {
        "colab": {
          "base_uri": "https://localhost:8080/"
        },
        "id": "T3EnaQylGxcD",
        "outputId": "33ea64b0-0e11-46ef-cd3f-734ea72f54b7"
      },
      "execution_count": null,
      "outputs": [
        {
          "output_type": "stream",
          "name": "stdout",
          "text": [
            "11\n",
            "12\n",
            "13\n",
            "13\n"
          ]
        }
      ]
    },
    {
      "cell_type": "code",
      "source": [
        "#function is an Object\n",
        "def test():\n",
        "  print(\"hello world\")\n",
        "\n",
        "i =10\n",
        "print(type(i))\n",
        "\n",
        "print(type(test))\n",
        "print(test)\n",
        "#we can create aliases for function"
      ],
      "metadata": {
        "colab": {
          "base_uri": "https://localhost:8080/"
        },
        "id": "RmlkxVhoHim9",
        "outputId": "5be0b745-2234-4bfc-ce99-a91cbd5f6196"
      },
      "execution_count": null,
      "outputs": [
        {
          "output_type": "stream",
          "name": "stdout",
          "text": [
            "<class 'int'>\n",
            "<class 'function'>\n",
            "<function test at 0x7c337d9a1260>\n"
          ]
        }
      ]
    },
    {
      "cell_type": "code",
      "source": [
        "def multiplier_factory(factor):\n",
        "\n",
        "  def multiplier(number):\n",
        "\n",
        "    return number * factor\n",
        "\n",
        "  # Return the nested function\n",
        "  return multiplier  # returning the inner function\n",
        "\n",
        "# Create a function that multiplies by 5\n",
        "multiply_by_5 = multiplier_factory(5)\n",
        "\n",
        "# Create a function that multiplies by 10\n",
        "multiply_by_10 = multiplier_factory(10)\n",
        "\n",
        "# Use the created functions\n",
        "result1 = multiply_by_5(8)\n",
        "result2 = multiply_by_10(4)\n",
        "\n",
        "print(f\"8 multiplied by 5 is: {result1}\")  # Output: 8 multiplied by 5 is: 40\n",
        "print(f\"4 multiplied by 10 is: {result2}\") # Output: 4 multiplied by 10 is: 40"
      ],
      "metadata": {
        "colab": {
          "base_uri": "https://localhost:8080/"
        },
        "id": "8ANlQ-73KVVA",
        "outputId": "2292cf74-2b3a-482c-f186-a43fbf3cdbff"
      },
      "execution_count": null,
      "outputs": [
        {
          "output_type": "stream",
          "name": "stdout",
          "text": [
            "8 multiplied by 5 is: 40\n",
            "4 multiplied by 10 is: 40\n"
          ]
        }
      ]
    },
    {
      "cell_type": "code",
      "source": [
        "#alias name for function\n",
        "\n",
        "def test1():\n",
        "  print(\"hello\")\n",
        "\n",
        "a = test1 #assigining alias name\n",
        "a() #calling function with alias name"
      ],
      "metadata": {
        "colab": {
          "base_uri": "https://localhost:8080/"
        },
        "id": "_22kEkNRKcHz",
        "outputId": "6d4e219d-0ccd-4a6c-d162-6c14bedfd1d6"
      },
      "execution_count": null,
      "outputs": [
        {
          "output_type": "stream",
          "name": "stdout",
          "text": [
            "hello\n"
          ]
        }
      ]
    },
    {
      "cell_type": "code",
      "source": [
        "#positional aruguments or required args\n",
        "def test(name, age, city):\n",
        "  print(\"my name is \", name, \"and my age is \", age, \"and iam from\", city)\n",
        "\n",
        "test('ram', 20, 'delhi')"
      ],
      "metadata": {
        "colab": {
          "base_uri": "https://localhost:8080/"
        },
        "id": "eDTPrOC8L1ME",
        "outputId": "ad8979bc-bce6-4ea5-a338-b8bb90cb4e33"
      },
      "execution_count": null,
      "outputs": [
        {
          "output_type": "stream",
          "name": "stdout",
          "text": [
            "my name is  ram and my age is  20 and iam from delhi\n"
          ]
        }
      ]
    },
    {
      "cell_type": "code",
      "source": [
        "#keyword arguments\n",
        "\n",
        "def test(name, age, city):\n",
        "  print(\"my name is \", name, \"and my age is \", age, \"and iam from\", city)\n",
        "\n",
        "test(name ='ram', age = 20, city ='delhi')\n",
        "\n",
        "\n",
        "def test(name, age, city):\n",
        "  print(\"my name is \", name, \"and my age is \", age, \"and iam from\", city)\n",
        "\n",
        "test( age = 20, city ='delhi', name ='ram')\n",
        "\n",
        "\n"
      ],
      "metadata": {
        "colab": {
          "base_uri": "https://localhost:8080/"
        },
        "id": "EF60_M21Mk3d",
        "outputId": "8aa5d80c-bdf3-4e89-ac9d-df780ccd886a"
      },
      "execution_count": null,
      "outputs": [
        {
          "output_type": "stream",
          "name": "stdout",
          "text": [
            "my name is  ram and my age is  20 and iam from delhi\n",
            "my name is  ram and my age is  20 and iam from delhi\n"
          ]
        }
      ]
    },
    {
      "cell_type": "code",
      "source": [
        "#keyword arguments and positional arguments\n",
        "\n",
        "def test(name, age, city):\n",
        "  print(\"my name is \", name, \"and my age is \", age, \"and iam from\", city)\n",
        "\n",
        "test('ram', 20, city ='delhi')\n",
        "\n",
        "def test(name, age, city):\n",
        "  print(\"my name is \", name, \"and my age is \", age, \"and iam from\", city)\n",
        "\n",
        "test(20, 'ram',city ='delhi')\n",
        "\n",
        "def test(name, age, city):\n",
        "  print(\"my name is \", name, \"and my age is \", age, \"and iam from\", city)\n",
        "\n",
        "test(city ='delhi',20,'ram') #cannot give keyword arg first , we need to fix the positional args\n",
        "#positional argument follows keyword argument\n",
        "test('ram', 25, city = 'Delhi')"
      ],
      "metadata": {
        "colab": {
          "base_uri": "https://localhost:8080/",
          "height": 124
        },
        "id": "YQA9uWFuNALg",
        "outputId": "fbb18351-a303-4ea8-abc3-a495e3c920f6"
      },
      "execution_count": null,
      "outputs": [
        {
          "output_type": "error",
          "ename": "SyntaxError",
          "evalue": "positional argument follows keyword argument (<ipython-input-44-55f6d81a32f7>, line 16)",
          "traceback": [
            "\u001b[0;36m  File \u001b[0;32m\"<ipython-input-44-55f6d81a32f7>\"\u001b[0;36m, line \u001b[0;32m16\u001b[0m\n\u001b[0;31m    test(city ='delhi',20,'ram',) #cannot give keyword arg first , we need to fix the positional args\u001b[0m\n\u001b[0m                                ^\u001b[0m\n\u001b[0;31mSyntaxError\u001b[0m\u001b[0;31m:\u001b[0m positional argument follows keyword argument\n"
          ]
        }
      ]
    },
    {
      "cell_type": "code",
      "source": [
        "#default arguments\n",
        "\n",
        "def power(num, p=2): #here p is default argument defined in function\n",
        "  print(num**p)\n",
        "\n",
        "power(5)\n"
      ],
      "metadata": {
        "colab": {
          "base_uri": "https://localhost:8080/"
        },
        "id": "ZTPbJy9CPn71",
        "outputId": "60165a08-94f4-4166-8f23-c1f25eabb96e"
      },
      "execution_count": null,
      "outputs": [
        {
          "output_type": "stream",
          "name": "stdout",
          "text": [
            "25\n"
          ]
        }
      ]
    },
    {
      "cell_type": "code",
      "source": [
        "#default arguments\n",
        "\n",
        "def student(name, age, m1, m2,m3, college=\"UVCE\"):\n",
        "  print(name, age, m1, m2, m3, college)\n",
        "\n",
        "student('suresh', 20, 90,80,30)\n",
        "student('hari', 21, 100, 91, 45)\n",
        "student(\"Giri\", 22, 45,55,64, \"ssec\") #if values passed it will override the existing values and take new value\n",
        "\n",
        "\n"
      ],
      "metadata": {
        "colab": {
          "base_uri": "https://localhost:8080/"
        },
        "id": "j3982HAwQFMk",
        "outputId": "d41c672b-f735-467c-8bfd-38404832d66c"
      },
      "execution_count": null,
      "outputs": [
        {
          "output_type": "stream",
          "name": "stdout",
          "text": [
            "suresh 20 90 80 30 UVCE\n",
            "hari 21 100 91 45 UVCE\n",
            "Giri 22 45 55 64 ssec\n"
          ]
        }
      ]
    },
    {
      "cell_type": "code",
      "source": [
        "#positional args --->Keyword args -----> Default args\n",
        "def student(name, age, m1, m2,m3, college=\"UVCE\"):\n",
        "  print(name, age, m1, m2, m3, college)\n",
        "\n",
        "student('suresh', 20, m1= 90,m2=80,m3=30)\n",
        "#student('hari', 21, 100, 91, 45)\n",
        "student(\"Giri\", 22, 45,55,64, \"ssec\")\n",
        "\n",
        "\n"
      ],
      "metadata": {
        "colab": {
          "base_uri": "https://localhost:8080/"
        },
        "id": "fa8HY0GARHm-",
        "outputId": "df19eb10-42c8-4eed-860c-3d244094cf3e"
      },
      "execution_count": null,
      "outputs": [
        {
          "output_type": "stream",
          "name": "stdout",
          "text": [
            "suresh 20 90 80 30 UVCE\n",
            "Giri 22 45 55 64 ssec\n"
          ]
        }
      ]
    },
    {
      "cell_type": "code",
      "source": [
        "#variable length arguments\n",
        "def add(*a):\n",
        "  print(a)\n",
        "  print(type(a))\n",
        "\n",
        "add(1,2)\n",
        "add(1,2,3)\n",
        "add(1,2,3,4)"
      ],
      "metadata": {
        "colab": {
          "base_uri": "https://localhost:8080/"
        },
        "id": "nRpYDlrKSNn0",
        "outputId": "6f4bbe37-428e-434b-a0d5-a362353792d6"
      },
      "execution_count": null,
      "outputs": [
        {
          "output_type": "stream",
          "name": "stdout",
          "text": [
            "(1, 2)\n",
            "<class 'tuple'>\n",
            "(1, 2, 3)\n",
            "<class 'tuple'>\n",
            "(1, 2, 3, 4)\n",
            "<class 'tuple'>\n"
          ]
        }
      ]
    },
    {
      "cell_type": "code",
      "source": [
        "#variable length arguments\n",
        "def sum(*a):\n",
        "  #print(a)\n",
        "  s=0\n",
        "  for i in a:\n",
        "    s=s+1\n",
        "    print(type(s))\n",
        "    print(s)\n",
        "\n",
        "sum(1,2)#position arguments variable values are packed as Tuple\n",
        "sum(1,2,3)\n",
        "sum(1,2,3,4)"
      ],
      "metadata": {
        "colab": {
          "base_uri": "https://localhost:8080/"
        },
        "id": "vru3C7IgTsmO",
        "outputId": "4ce36839-c130-4ce3-c30f-9383717a6e33"
      },
      "execution_count": null,
      "outputs": [
        {
          "output_type": "stream",
          "name": "stdout",
          "text": [
            "<class 'int'>\n",
            "1\n",
            "<class 'int'>\n",
            "2\n",
            "<class 'int'>\n",
            "1\n",
            "<class 'int'>\n",
            "2\n",
            "<class 'int'>\n",
            "3\n",
            "<class 'int'>\n",
            "1\n",
            "<class 'int'>\n",
            "2\n",
            "<class 'int'>\n",
            "3\n",
            "<class 'int'>\n",
            "4\n"
          ]
        }
      ]
    },
    {
      "cell_type": "code",
      "source": [
        "#variable length keyword args\n",
        "\n",
        "def addition(**a):\n",
        "  s=0\n",
        "  for n in a.values():\n",
        "    s=s+n\n",
        "  print(s)\n",
        "\n",
        "addition(a=10, b=20)\n",
        "addition(a= 22, b=33, c=44) #values are packed as a dictionary\n",
        "#in variables keyword variable values are  packed as dictionary"
      ],
      "metadata": {
        "colab": {
          "base_uri": "https://localhost:8080/"
        },
        "id": "OYNFUJpSUcnN",
        "outputId": "4c28cafa-bd57-409c-f357-afcfbcae9df0"
      },
      "execution_count": null,
      "outputs": [
        {
          "output_type": "stream",
          "name": "stdout",
          "text": [
            "30\n",
            "99\n"
          ]
        }
      ]
    },
    {
      "cell_type": "code",
      "source": [
        "#day 14 Intermediate python Functions 14052025\n",
        "\n",
        "#variable length positional args and variable length keyword args\n",
        "\n",
        "def fun(*a, b, c, d=100):\n",
        "    sum = 0\n",
        "    mul = 0\n",
        "    for i in a:\n",
        "        sum = sum + i\n",
        "    mul = b * c\n",
        "    return sum, mul, d\n",
        "\n",
        "fun(1,2,3,4,5, b = 6, c = 7)\n",
        "\n",
        "#mixing multiple\n"
      ],
      "metadata": {
        "id": "TwFT0TheP4Dc",
        "outputId": "8fa00899-ef9b-4a04-c7ce-e4705310d1b8",
        "colab": {
          "base_uri": "https://localhost:8080/"
        }
      },
      "execution_count": null,
      "outputs": [
        {
          "output_type": "execute_result",
          "data": {
            "text/plain": [
              "(15, 42, 100)"
            ]
          },
          "metadata": {},
          "execution_count": 1
        }
      ]
    },
    {
      "cell_type": "code",
      "source": [
        "#mixing\n",
        "\n",
        "def student(name,class_student,*parents_Name,age,School ='UVCE',**Marks):\n",
        "  print(\"Stu name \", name)\n",
        "  print(\"class \", class_student)\n",
        "  print('Parents ', parents_Name)\n",
        "  print('age ', age)\n",
        "  print('marks ', Marks)\n",
        "  print('School ', School)\n",
        "\n",
        "student('hari',10, 'A', 'B' , age = 15, m1=10, m2=35, m3= 65)\n",
        "\n",
        "\n",
        "'''function declaration:\n",
        "1. Positional Arguments\n",
        "2. Variable length positinal args\n",
        "3. keyword args\n",
        "4. default args\n",
        "5. variable length keyword args\n",
        "'''\n",
        "\n"
      ],
      "metadata": {
        "id": "YzIkNxhOYbkr",
        "outputId": "3bffa05e-1a39-4e30-db30-fe40131b1282",
        "colab": {
          "base_uri": "https://localhost:8080/",
          "height": 157
        }
      },
      "execution_count": null,
      "outputs": [
        {
          "output_type": "stream",
          "name": "stdout",
          "text": [
            "Stu name  hari\n",
            "class  10\n",
            "Parents  ('A', 'B')\n",
            "age  15\n",
            "marks  {'m1': 10, 'm2': 35, 'm3': 65}\n",
            "School  UVCE\n"
          ]
        },
        {
          "output_type": "execute_result",
          "data": {
            "text/plain": [
              "'function declaration:\\n1. Positional Arguments\\n2. Variable length positinal args\\n3. keyword args\\n4. default args\\n5. variable length keyword args\\n'"
            ],
            "application/vnd.google.colaboratory.intrinsic+json": {
              "type": "string"
            }
          },
          "metadata": {},
          "execution_count": 2
        }
      ]
    },
    {
      "cell_type": "code",
      "source": [
        "#normal functions will written using the keyword 'def' used in situataions to run lines of instructoins\n",
        "\n",
        "#lambda functions can be used to call single line of version and there is no function call (Anonymous)\n",
        "#it cannot contain multiple\n",
        "\n",
        "#Syntax variable = lambda list of variables: expression\n",
        "\n",
        "ans = lambda x,y:x*y\n",
        "print(\"multiply\", ans(4,5))\n",
        "\n",
        "#lambda function return single value\n",
        "var = lambda x,y,z:x+y+z\n",
        "print(var(4,5,6))"
      ],
      "metadata": {
        "id": "HBJNsmsZa8gd",
        "outputId": "32676dc9-76d9-4138-8774-a95f55ffd2b5",
        "colab": {
          "base_uri": "https://localhost:8080/"
        }
      },
      "execution_count": null,
      "outputs": [
        {
          "output_type": "stream",
          "name": "stdout",
          "text": [
            "multiply 20\n"
          ]
        }
      ]
    },
    {
      "cell_type": "code",
      "source": [
        "#this will get error like this\n",
        "'''add = lambda x,y: x+y, x-y\n",
        "print(add(10,20)) '''\n",
        "\n",
        "#should need to bundle the expression\n",
        "add = lambda x,y: (x+y, x-y)\n",
        "print(add(10,20))\n",
        "print(type(add(10,20)))\n",
        "\n",
        "#to return List , tuple and other type we need to simulate the expression (), [], {}\n",
        "\n",
        "add = lambda x,y: [x+y, x-y]\n",
        "print(add(10,20))\n",
        "print(type(add(10,20)))\n",
        "\n",
        "add = lambda x,y: {x+y, x-y}\n",
        "print(add(10,20))\n",
        "print(type(add(10,20)))\n"
      ],
      "metadata": {
        "id": "DKq-9LBlcoiH",
        "outputId": "edaa1833-73a0-4eec-fe38-ada0cd41b7c8",
        "colab": {
          "base_uri": "https://localhost:8080/"
        }
      },
      "execution_count": null,
      "outputs": [
        {
          "output_type": "stream",
          "name": "stdout",
          "text": [
            "(30, -10)\n",
            "<class 'tuple'>\n",
            "[30, -10]\n",
            "<class 'list'>\n",
            "{30, -10}\n",
            "<class 'set'>\n"
          ]
        }
      ]
    },
    {
      "cell_type": "code",
      "source": [
        "#lambda function with the default args\n",
        "\n",
        "add = lambda x, y=10: x+y\n",
        "print(add(10))\n",
        "\n",
        "#lambda function with keyword\n",
        "\n",
        "add = lambda x,y: x+y\n",
        "print(add(x=10, y=20))\n",
        "\n",
        "#lambda with variable length code\n",
        "\n",
        "add = lambda *x: sum(x)\n",
        "print(add(1,2,3,4,5,67))\n",
        "\n"
      ],
      "metadata": {
        "id": "vjvX-HhGdJKb"
      },
      "execution_count": null,
      "outputs": []
    },
    {
      "cell_type": "code",
      "source": [
        "#lambda function used to return area of\n",
        "\n",
        "area = lambda r:3.14*r*r\n",
        "print(area(10))"
      ],
      "metadata": {
        "id": "1YkN4GP7eppy",
        "outputId": "ddf9ced0-8309-488e-9a8b-37c9401d9fc1",
        "colab": {
          "base_uri": "https://localhost:8080/"
        }
      },
      "execution_count": null,
      "outputs": [
        {
          "output_type": "stream",
          "name": "stdout",
          "text": [
            "314.0\n"
          ]
        }
      ]
    },
    {
      "cell_type": "code",
      "source": [
        "#Python OOPs concepts\n",
        "\n",
        "#class and objects\n",
        "\n",
        "class claculator:\n",
        "  n1 = 0\n",
        "  n2 =0\n",
        "  res =0\n",
        "  def __init__(self, n1,n2):\n",
        "    self.n1=0\n",
        "    self.n2 = 0\n",
        "    self.res = 0\n",
        "    def add(self, n1,n2):\n",
        "      pass\n",
        "    def sub(self, n1,n2)\n",
        "      pass\n",
        "\n",
        "obj1 = claculator(10,20) #obj1 creation\n",
        "obj2 =  claculator(30, 40 )#obj2 creation\n",
        "\n",
        "obj1.add()\n",
        "obj2.sub()\n",
        "\n"
      ],
      "metadata": {
        "id": "g1Y_XmE6e3Wo"
      },
      "execution_count": null,
      "outputs": []
    },
    {
      "cell_type": "code",
      "source": [
        "#day 15 Intermediate Python OOPS\n",
        "class sample:\n",
        "  def __init__(self):\n",
        "    self.data=10\n",
        "  def input_data(self):\n",
        "    self.data= input(\"enter some text\")\n",
        "  def process_data(self):\n",
        "    self.data= self.data.upper()\n",
        "  def output_data(self):\n",
        "    print(self.data)\n",
        "\n",
        "#object creation  (constructor this will call implicitly call init method)\n",
        "obj1 = sample()\n",
        "obj2 = sample()\n",
        "obj3 = sample()\n",
        "\n",
        "obj1.input_data()\n",
        "obj1.process_data()\n",
        "obj1.output_data()\n",
        "\n",
        "\n",
        "obj2.input_data()\n",
        "obj2.process_data()\n",
        "obj2.output_data()\n"
      ],
      "metadata": {
        "colab": {
          "base_uri": "https://localhost:8080/"
        },
        "id": "OGgg2zGxjvHH",
        "outputId": "bd6d427c-1b5f-4c2a-a749-4a3ce7810b6e"
      },
      "execution_count": null,
      "outputs": [
        {
          "output_type": "stream",
          "name": "stdout",
          "text": [
            "enter some textNTT\n",
            "NTT\n",
            "enter some textKochin\n",
            "KOCHIN\n"
          ]
        }
      ]
    },
    {
      "cell_type": "code",
      "source": [
        "class calc:\n",
        "\n",
        "  def __init__(self):\n",
        "    self.a = 0\n",
        "    self.b =0\n",
        "    self.result =0\n",
        "  def input_data(self):\n",
        "    self.a = int(input(\"Enter A Value: \"))\n",
        "    self.b = int(input(\"Enter B vaue: \"))\n",
        "  def add(self):\n",
        "    self.result = self.a + self.b\n",
        "    print(self.result)\n",
        "  def sub(self):\n",
        "    self.result = self.a -self.b\n",
        "    print( self.result)\n",
        "  def mul(self):\n",
        "    self.result = self.a * self.b\n",
        "    print(self.result)\n",
        "  def compare(self, other):\n",
        "    if self.result == other.result:\n",
        "      return True\n",
        "    else:\n",
        "      return False\n",
        "\n",
        "objj1 = calc()\n",
        "objj1.input_data()\n",
        "objj1.add()\n",
        "objj1.sub()\n",
        "objj1.mul()\n",
        "\n",
        "obj2 = calc()\n",
        "obj2.input_data()\n",
        "obj2.add()\n",
        "obj2.sub()\n",
        "obj2.mul()\n",
        "\n",
        "\n",
        "objj1.compare(obj2)\n",
        "\n",
        "\n"
      ],
      "metadata": {
        "colab": {
          "base_uri": "https://localhost:8080/"
        },
        "id": "Q-g52OTRo6jE",
        "outputId": "24ddbd95-83d1-459a-e3bf-f3ff5e28dc9c"
      },
      "execution_count": null,
      "outputs": [
        {
          "output_type": "stream",
          "name": "stdout",
          "text": [
            "Enter A Value: 10\n",
            "Enter B vaue: 30\n",
            "40\n",
            "-20\n",
            "300\n",
            "Enter A Value: 30\n",
            "Enter B vaue: 40\n",
            "70\n",
            "-10\n",
            "1200\n"
          ]
        },
        {
          "output_type": "execute_result",
          "data": {
            "text/plain": [
              "False"
            ]
          },
          "metadata": {},
          "execution_count": 13
        }
      ]
    },
    {
      "cell_type": "code",
      "source": [
        "class student_average:\n",
        "  def __init__(self):\n",
        "    self.StuName =\"\"\n",
        "    self.Age =0\n",
        "    self.m1 = 0\n",
        "    self.m3 =0\n",
        "    self.avg =0\n",
        "  def get_data(self):\n",
        "    self.StuName = input(\"Enter Student Name: \")\n",
        "    self.Age = int(input(\"Enter Student Age: \"))\n",
        "    self.m1 = int(input(\"Enter Student M1 marks: \"))\n",
        "    self.m2 =int(input(\"Enter student M2 marks: \"))\n",
        "    self.m3 = int(input(\"Enter Student M3 marks: \"))\n",
        "\n",
        "  def cal_Avg(self):\n",
        "    self.avg = (self.m1+self.m2+self.m3)/3\n",
        "    print(self.avg)\n",
        "  def student(self):\n",
        "    print(self.StuName, self.Age, self.avg)\n",
        "\n",
        "s1 = student_average()\n",
        "s1.get_data()\n",
        "s1.cal_Avg()\n",
        "s1.student()\n",
        "\n",
        "s2= student_average()\n",
        "s2.get_data()\n",
        "s2.cal_Avg()\n",
        "s2.student()"
      ],
      "metadata": {
        "colab": {
          "base_uri": "https://localhost:8080/"
        },
        "id": "lVNsqUvPt4KG",
        "outputId": "0e91c506-94f3-4b8d-f248-27db4962bde2"
      },
      "execution_count": null,
      "outputs": [
        {
          "output_type": "stream",
          "name": "stdout",
          "text": [
            "Enter Student Name: Hari\n",
            "Enter Student Age: 25\n",
            "Enter Student M1 marks: 79\n",
            "Enter student M2 marks: 85\n",
            "Enter Student M3 marks: 98\n",
            "87.33333333333333\n",
            "Hari 25 87.33333333333333\n",
            "Enter Student Name: giri\n",
            "Enter Student Age: 28\n",
            "Enter Student M1 marks: 98\n",
            "Enter student M2 marks: 100\n",
            "Enter Student M3 marks: 100\n",
            "99.33333333333333\n",
            "giri 28 99.33333333333333\n"
          ]
        }
      ]
    },
    {
      "cell_type": "code",
      "source": [
        "#parametarized constructor\n",
        "\n",
        "class test:\n",
        "\n",
        "  def __init__(self, aa, bb):\n",
        "    self.a =aa\n",
        "    self.b = bb\n",
        "  def outputdata(self):\n",
        "    print(self.a,self.b)\n",
        "\n",
        "t1 = test(10,20)  #here we are passing values in the object constructor\n",
        "t1.outputdata()\n",
        "\n",
        "t2 = test('Hari', 'Giri')\n",
        "t2.outputdata()\n"
      ],
      "metadata": {
        "colab": {
          "base_uri": "https://localhost:8080/"
        },
        "id": "vM43x3EK1itT",
        "outputId": "dc18c093-d5c7-461f-f5d8-c66005af147a"
      },
      "execution_count": null,
      "outputs": [
        {
          "output_type": "stream",
          "name": "stdout",
          "text": [
            "10 20\n",
            "Hari Giri\n"
          ]
        }
      ]
    },
    {
      "cell_type": "code",
      "source": [
        "#day 16 Intermediate python continuous to OOps Class\n",
        "\n",
        "#Class variable is not bount to any other objects, and its common for all objects , which is not part of any object or method\n",
        "class student:\n",
        "  student_count =0 #class variable\n",
        "  collegeName = 'SREC'\n",
        "\n",
        "  def __init__(self, name, age):\n",
        "    self.name = name\n",
        "    self.age = age\n",
        "    self.collegeName = \"ABC\"  #this is the local variable to object\n",
        "    student.student_count =student.student_count+1\n",
        "    print(student.student_count)\n",
        "\n",
        "  def display(self):\n",
        "    print(self.name, self.age, student.collegeName, self.collegeName)\n",
        "\n",
        "s1= student(\"ram\", 20)\n",
        "s2 = student(\"Hari\", 25)\n",
        "s3 = student(\"Rose\", 22)\n",
        "\n",
        "s1. display()\n",
        "s2.display()\n",
        "s3.display()\n",
        "\n",
        "print(student.collegeName)\n",
        "print(s1.collegeName)\n",
        "print(s2.student_count)\n"
      ],
      "metadata": {
        "colab": {
          "base_uri": "https://localhost:8080/"
        },
        "id": "gusK1GYH2vrL",
        "outputId": "062e941c-d1db-4f00-cf1d-02f96ff42939"
      },
      "execution_count": null,
      "outputs": [
        {
          "output_type": "stream",
          "name": "stdout",
          "text": [
            "1\n",
            "2\n",
            "3\n",
            "ram 20 SREC ABC\n",
            "Hari 25 SREC ABC\n",
            "Rose 22 SREC ABC\n",
            "SREC\n",
            "ABC\n",
            "3\n"
          ]
        }
      ]
    },
    {
      "cell_type": "code",
      "source": [
        "class village:\n",
        "  village.count =0\n",
        "  village.Name = \"SREC\"\n",
        "  @classmethod #decurator\n",
        "  def display(cls):\n",
        "    print(cls.Name, cls.count)\n",
        "\n",
        "\n",
        "village.display() #class method call"
      ],
      "metadata": {
        "id": "s3Z67jrsF4cf",
        "outputId": "f0ef669b-61d6-4ec9-9109-09537c300f07",
        "colab": {
          "base_uri": "https://localhost:8080/",
          "height": 332
        }
      },
      "execution_count": null,
      "outputs": [
        {
          "output_type": "error",
          "ename": "NameError",
          "evalue": "name 'village' is not defined",
          "traceback": [
            "\u001b[0;31m---------------------------------------------------------------------------\u001b[0m",
            "\u001b[0;31mNameError\u001b[0m                                 Traceback (most recent call last)",
            "\u001b[0;32m<ipython-input-4-4fe6eb9da67d>\u001b[0m in \u001b[0;36m<cell line: 0>\u001b[0;34m()\u001b[0m\n\u001b[0;32m----> 1\u001b[0;31m \u001b[0;32mclass\u001b[0m \u001b[0mvillage\u001b[0m\u001b[0;34m:\u001b[0m\u001b[0;34m\u001b[0m\u001b[0;34m\u001b[0m\u001b[0m\n\u001b[0m\u001b[1;32m      2\u001b[0m   \u001b[0mvillage\u001b[0m\u001b[0;34m.\u001b[0m\u001b[0mName\u001b[0m \u001b[0;34m=\u001b[0m \u001b[0;34m\"Godavari\"\u001b[0m\u001b[0;34m\u001b[0m\u001b[0;34m\u001b[0m\u001b[0m\n\u001b[1;32m      3\u001b[0m   \u001b[0mvillage\u001b[0m\u001b[0;34m.\u001b[0m\u001b[0mcount\u001b[0m \u001b[0;34m=\u001b[0m \u001b[0;36m0\u001b[0m\u001b[0;34m\u001b[0m\u001b[0;34m\u001b[0m\u001b[0m\n\u001b[1;32m      4\u001b[0m \u001b[0;34m\u001b[0m\u001b[0m\n\u001b[1;32m      5\u001b[0m   \u001b[0;34m@\u001b[0m\u001b[0mclassmethod\u001b[0m \u001b[0;31m#decurator\u001b[0m\u001b[0;34m\u001b[0m\u001b[0;34m\u001b[0m\u001b[0m\n",
            "\u001b[0;32m<ipython-input-4-4fe6eb9da67d>\u001b[0m in \u001b[0;36mvillage\u001b[0;34m()\u001b[0m\n\u001b[1;32m      1\u001b[0m \u001b[0;32mclass\u001b[0m \u001b[0mvillage\u001b[0m\u001b[0;34m:\u001b[0m\u001b[0;34m\u001b[0m\u001b[0;34m\u001b[0m\u001b[0m\n\u001b[0;32m----> 2\u001b[0;31m   \u001b[0mvillage\u001b[0m\u001b[0;34m.\u001b[0m\u001b[0mName\u001b[0m \u001b[0;34m=\u001b[0m \u001b[0;34m\"Godavari\"\u001b[0m\u001b[0;34m\u001b[0m\u001b[0;34m\u001b[0m\u001b[0m\n\u001b[0m\u001b[1;32m      3\u001b[0m   \u001b[0mvillage\u001b[0m\u001b[0;34m.\u001b[0m\u001b[0mcount\u001b[0m \u001b[0;34m=\u001b[0m \u001b[0;36m0\u001b[0m\u001b[0;34m\u001b[0m\u001b[0;34m\u001b[0m\u001b[0m\n\u001b[1;32m      4\u001b[0m \u001b[0;34m\u001b[0m\u001b[0m\n\u001b[1;32m      5\u001b[0m   \u001b[0;34m@\u001b[0m\u001b[0mclassmethod\u001b[0m \u001b[0;31m#decurator\u001b[0m\u001b[0;34m\u001b[0m\u001b[0;34m\u001b[0m\u001b[0m\n",
            "\u001b[0;31mNameError\u001b[0m: name 'village' is not defined"
          ]
        }
      ]
    },
    {
      "cell_type": "code",
      "source": [
        "#inheritance\n",
        "\n",
        "#deriving   a new class from existing calss\n",
        "\n",
        "class parent(object):\n",
        "  #attribute+methods\n",
        "\n",
        "class child(parent):\n",
        "  #attributes+methods\n",
        "\n",
        "\n"
      ],
      "metadata": {
        "id": "4wLVCIlNI4KG"
      },
      "execution_count": null,
      "outputs": []
    },
    {
      "cell_type": "code",
      "source": [
        "class employee: #without inheritance\n",
        "  bonus = 2000\n",
        "  def display(self):\n",
        "    print(\"this is my bonus\")\n",
        "class Manager:\n",
        "  bonus1 = 5000\n",
        "  def show(self):\n",
        "    print(\"this is manager class method\")\n",
        "\n",
        "e1 = employee()\n",
        "e2 = Manager()\n",
        "\n",
        "\n",
        "e1.display()\n",
        "e1.show()"
      ],
      "metadata": {
        "id": "YzRGEg5cJXUw",
        "outputId": "a0592e8e-b2ab-4f0c-a5c7-ac9d8a3131f5",
        "colab": {
          "base_uri": "https://localhost:8080/"
        }
      },
      "execution_count": null,
      "outputs": [
        {
          "output_type": "stream",
          "name": "stdout",
          "text": [
            "this is my bonus\n",
            "this is manager class method\n"
          ]
        }
      ]
    },
    {
      "cell_type": "code",
      "source": [
        "class employee: #with inheritance\n",
        "  bonus = 2000\n",
        "  def display(self):\n",
        "    print(\"this is my bonus\")\n",
        "class Manager(employee): #this is how we can inherit the employee calss with Manger\n",
        "  bonus1 = 5000\n",
        "  def show(self):\n",
        "    print(\"this is manager class method\")\n",
        "\n",
        "e1 = employee()\n",
        "e2 = Manager()\n",
        "#e1.bonus1\n",
        "e2.bonus\n",
        "\n",
        "e1.display()\n",
        "e2.show()\n",
        "e2.display()"
      ],
      "metadata": {
        "id": "Z6MndkdKKhIc",
        "outputId": "6882494f-95e2-4b3e-8fc4-13b4da0c3d35",
        "colab": {
          "base_uri": "https://localhost:8080/"
        }
      },
      "execution_count": null,
      "outputs": [
        {
          "output_type": "stream",
          "name": "stdout",
          "text": [
            "this is my bonus\n",
            "this is manager class method\n",
            "this is my bonus\n"
          ]
        }
      ]
    },
    {
      "cell_type": "code",
      "source": [
        "#constructor in inheritance\n",
        "\n",
        "class father:\n",
        "  def __init__(self):\n",
        "    print(\"father class constructor\")\n",
        "    self.vehicle = 'scooter'\n",
        "class son(father):\n",
        "  pass\n",
        "\n",
        "s = son()\n",
        "print(s.__dict__)\n"
      ],
      "metadata": {
        "id": "N0ZP91qqLPQA",
        "outputId": "262ed960-219b-4cb1-9303-e9caf7a0908d",
        "colab": {
          "base_uri": "https://localhost:8080/"
        }
      },
      "execution_count": null,
      "outputs": [
        {
          "output_type": "stream",
          "name": "stdout",
          "text": [
            "father class constructor\n",
            "{'vehicle': 'scooter'}\n"
          ]
        }
      ]
    },
    {
      "cell_type": "code",
      "source": [
        "#constructor in inheritance\n",
        "\n",
        "class father:\n",
        "  def __init__(self):\n",
        "    print(\"father class constructor\")\n",
        "    self.vehicle = 'scooter'\n",
        "class son(father):\n",
        "  def __init__(self):\n",
        "    print(\"son class constructor\")\n",
        "    self.vehicle = 'car'\n",
        "\n",
        "s = son()\n",
        "print(s.__dict__)\n"
      ],
      "metadata": {
        "id": "6R2WjJZAMKVv",
        "outputId": "0e3d6d8e-0e18-422d-daee-be549bc9ab70",
        "colab": {
          "base_uri": "https://localhost:8080/"
        }
      },
      "execution_count": null,
      "outputs": [
        {
          "output_type": "stream",
          "name": "stdout",
          "text": [
            "son class constructor\n",
            "{'vehicle': 'car'}\n"
          ]
        }
      ]
    },
    {
      "cell_type": "code",
      "source": [
        "#super method\n",
        "\n",
        "class computer:\n",
        "  def __init__(self):\n",
        "    print(\"computer class constructor\")\n",
        "    self.ram = 8\n",
        "    self.processor = 'i5'\n",
        "\n",
        "class mobile(computer):\n",
        "  def __init__(self):\n",
        "    super().__init__()\n",
        "    self.model = 'iphone'\n",
        "    print(\"mobile class constructor\")\n",
        "\n",
        "m = mobile()\n",
        "print(m.__dict__)\n"
      ],
      "metadata": {
        "id": "3ip7UXITNHm5",
        "outputId": "fa1cd259-5361-419f-bd40-594969e9f00a",
        "colab": {
          "base_uri": "https://localhost:8080/"
        }
      },
      "execution_count": null,
      "outputs": [
        {
          "output_type": "stream",
          "name": "stdout",
          "text": [
            "computer class constructor\n",
            "mobile class constructor\n",
            "{'ram': 8, 'processor': 'i5', 'model': 'iphone'}\n"
          ]
        }
      ]
    },
    {
      "cell_type": "code",
      "source": [
        "#parametarised super method\n",
        "#parent parameterized , child is not patameterized\n",
        "\n",
        "class computer:\n",
        "  def __init__(self, ram, pro):\n",
        "    print(\"computer class constructor\")\n",
        "    self.ram = ram\n",
        "    self.processor = pro\n",
        "\n",
        "class mobile(computer):\n",
        "  def __init__(self, ram, processor):\n",
        "    super().__init__(ram,processor)\n",
        "    self.model = 'iphone'\n",
        "    print(\"mobile class constructor\")\n",
        "\n",
        "m = mobile('8gb', 'i7')\n",
        "print(m.__dict__)\n"
      ],
      "metadata": {
        "id": "7oLWogF1Pj-p",
        "outputId": "6e0d02f4-73c8-4194-d3e9-f0a12bd2f3fc",
        "colab": {
          "base_uri": "https://localhost:8080/"
        }
      },
      "execution_count": null,
      "outputs": [
        {
          "output_type": "stream",
          "name": "stdout",
          "text": [
            "computer class constructor\n",
            "mobile class constructor\n",
            "{'ram': '8gb', 'processor': 'i7', 'model': 'iphone'}\n"
          ]
        }
      ]
    },
    {
      "cell_type": "code",
      "source": [
        "#mutilevel inheritance\n",
        "#parent--->child --->Grandchild\n",
        "\n",
        "class grandFather:\n",
        "  gf_attribute = 'Gfs trait'\n",
        "\n",
        "  def display_gf(self):\n",
        "    print(self.gf_attribute)\n",
        "\n",
        "class father(grandFather):\n",
        "  father_attribute = 'fathers trait'\n",
        "\n",
        "  def display_father(self):\n",
        "    print(self.father_attribute)\n",
        "\n",
        "class child(father):\n",
        "  child_attribute = 'chaild trait'\n",
        "\n",
        "  def display_child(self):\n",
        "    print(self.child_attribute)\n",
        "\n",
        "\n",
        "child1 = child()\n",
        "\n",
        "child1.display_gf()\n",
        "child1.display_father()\n",
        "child1.display_child()\n",
        "\n",
        "print(child1.gf_attribute)\n",
        "\n"
      ],
      "metadata": {
        "colab": {
          "base_uri": "https://localhost:8080/"
        },
        "id": "eRMkRMGYt9vL",
        "outputId": "debaad95-be66-44c4-9d56-8b2b0a498c10"
      },
      "execution_count": null,
      "outputs": [
        {
          "output_type": "stream",
          "name": "stdout",
          "text": [
            "Gfs trait\n",
            "fathers trait\n",
            "chaild trait\n",
            "Gfs trait\n"
          ]
        }
      ]
    },
    {
      "cell_type": "code",
      "source": [
        "#day 15 intermeiate Python\n",
        "\n",
        "#parent and child paramaterized\n",
        "class computer:\n",
        "  def __init__(self, ram, processor):\n",
        "    print('computer class constructor')\n",
        "    self.ram = ram\n",
        "    self.processor = processor\n",
        "\n",
        "class mobile(computer):\n",
        "  def __init__(self, ram, processor, model, dummy):\n",
        "    super().__init__(ram, processor)\n",
        "    self.model = model\n",
        "    self.dummy = dummy\n",
        "    print('mobile class constructor')\n",
        "m = mobile('8GB', 'i7', 'iphone', 'dummy')\n",
        "print(m.__dict__)\n"
      ],
      "metadata": {
        "colab": {
          "base_uri": "https://localhost:8080/"
        },
        "id": "J-EQHo8-kRMr",
        "outputId": "9dbcffd5-ea78-45b9-9b2c-f8aa9a1ab95d"
      },
      "execution_count": null,
      "outputs": [
        {
          "output_type": "stream",
          "name": "stdout",
          "text": [
            "computer class constructor\n",
            "mobile class constructor\n",
            "{'ram': '8GB', 'processor': 'i7', 'model': 'iphone', 'dummy': 'dummy'}\n"
          ]
        }
      ]
    },
    {
      "cell_type": "code",
      "source": [
        "#constructor in multilevel inheritance\n",
        "\n",
        "class Human():\n",
        "  def __init__(self):\n",
        "    print('human class constructor')\n",
        "    self.name = 'radha'\n",
        "\n",
        "class EMP(Human):\n",
        "  def __init__(self):\n",
        "    print('EMP class constructor')\n",
        "    self.salary = '200000'\n",
        "\n",
        "class Manager(EMP):\n",
        "  def __init__(self):\n",
        "    print('Manager class constructor')\n",
        "    self.bonus = 20\n",
        "\n",
        "m1 = Manager()\n",
        "print(m1.__dict__)"
      ],
      "metadata": {
        "colab": {
          "base_uri": "https://localhost:8080/"
        },
        "id": "minEu8fpvvu0",
        "outputId": "39ea94cf-8966-4ed3-87d2-adfc9b8b7067"
      },
      "execution_count": null,
      "outputs": [
        {
          "output_type": "stream",
          "name": "stdout",
          "text": [
            "Manager class constructor\n",
            "{'bonus': 20}\n"
          ]
        }
      ]
    },
    {
      "cell_type": "code",
      "source": [
        "#day 17 Python intermediate\n",
        "#MRO\n",
        "\n",
        "class A:\n",
        "  pass\n",
        "class B:\n",
        "  pass\n",
        "class C:\n",
        "  pass\n",
        "class X(A,B,C):\n",
        "  pass\n",
        "class Y(B,C):\n",
        "  pass\n",
        "\n",
        "class P(X,Y):\n",
        "  pass\n",
        "\n",
        "print(P.mro())\n",
        "\n",
        "\n"
      ],
      "metadata": {
        "colab": {
          "base_uri": "https://localhost:8080/"
        },
        "id": "NS0_Vd8eCUoF",
        "outputId": "a7bcc26a-2f88-4e19-a401-7eba8d99ca63"
      },
      "execution_count": null,
      "outputs": [
        {
          "output_type": "stream",
          "name": "stdout",
          "text": [
            "[<class '__main__.P'>, <class '__main__.X'>, <class '__main__.A'>, <class '__main__.Y'>, <class '__main__.B'>, <class '__main__.C'>, <class 'object'>]\n"
          ]
        }
      ]
    },
    {
      "cell_type": "code",
      "source": [
        "#encapsulation\n",
        "\n",
        "class finance:\n",
        "  def __init__(self):\n",
        "    self.rev = 100000\n",
        "    self.sales = 100\n",
        "\n",
        "f1 = finance()\n",
        "print(f1.__dict__)\n",
        "\n",
        "class HR:\n",
        "  def __init__(self):\n",
        "    self.emp = 2000\n",
        "    print(f1.rev)\n",
        "\n",
        "\n",
        "h1 =HR()\n",
        "print(h1.__dict__)\n",
        "print(f1.__dict__)\n",
        "\n",
        "#here there is no restriction for one class object to anither class  Public access\n"
      ],
      "metadata": {
        "colab": {
          "base_uri": "https://localhost:8080/"
        },
        "id": "bQ_NF-hzKcrP",
        "outputId": "78cf62c4-7373-4b43-a7a4-df560ced4fb6"
      },
      "execution_count": null,
      "outputs": [
        {
          "output_type": "stream",
          "name": "stdout",
          "text": [
            "{'rev': 100000, 'sales': 100}\n",
            "100000\n",
            "{'emp': 2000}\n"
          ]
        }
      ]
    },
    {
      "cell_type": "code",
      "source": [
        "#\n",
        "\n",
        "class finance:\n",
        "  def __init__(self):\n",
        "    self.__rev = 100000\n",
        "    self.sales = 100\n",
        "\n",
        "f1 = finance()\n",
        "print(f1.__dict__)\n",
        "\n",
        "class HR:\n",
        "  def __init__(self):\n",
        "    self.emp = 2000\n",
        "    print(f1.__rev)\n",
        "\n",
        "\n",
        "h1 =HR()\n",
        "print(h1.__dict__)\n",
        "print(f1.__dict__)"
      ],
      "metadata": {
        "colab": {
          "base_uri": "https://localhost:8080/",
          "height": 349
        },
        "id": "oTBpP-jzNCZF",
        "outputId": "db6a32df-015e-4a43-b2a6-36be6bc162e3"
      },
      "execution_count": null,
      "outputs": [
        {
          "output_type": "stream",
          "name": "stdout",
          "text": [
            "{'_finance__rev': 100000, 'sales': 100}\n"
          ]
        },
        {
          "output_type": "error",
          "ename": "AttributeError",
          "evalue": "'finance' object has no attribute '_HR__rev'",
          "traceback": [
            "\u001b[0;31m---------------------------------------------------------------------------\u001b[0m",
            "\u001b[0;31mAttributeError\u001b[0m                            Traceback (most recent call last)",
            "\u001b[0;32m<ipython-input-5-124c430ec323>\u001b[0m in \u001b[0;36m<cell line: 0>\u001b[0;34m()\u001b[0m\n\u001b[1;32m     15\u001b[0m \u001b[0;34m\u001b[0m\u001b[0m\n\u001b[1;32m     16\u001b[0m \u001b[0;34m\u001b[0m\u001b[0m\n\u001b[0;32m---> 17\u001b[0;31m \u001b[0mh1\u001b[0m \u001b[0;34m=\u001b[0m\u001b[0mHR\u001b[0m\u001b[0;34m(\u001b[0m\u001b[0;34m)\u001b[0m\u001b[0;34m\u001b[0m\u001b[0;34m\u001b[0m\u001b[0m\n\u001b[0m\u001b[1;32m     18\u001b[0m \u001b[0mprint\u001b[0m\u001b[0;34m(\u001b[0m\u001b[0mh1\u001b[0m\u001b[0;34m.\u001b[0m\u001b[0m__dict__\u001b[0m\u001b[0;34m)\u001b[0m\u001b[0;34m\u001b[0m\u001b[0;34m\u001b[0m\u001b[0m\n\u001b[1;32m     19\u001b[0m \u001b[0mprint\u001b[0m\u001b[0;34m(\u001b[0m\u001b[0mf1\u001b[0m\u001b[0;34m.\u001b[0m\u001b[0m__dict__\u001b[0m\u001b[0;34m)\u001b[0m\u001b[0;34m\u001b[0m\u001b[0;34m\u001b[0m\u001b[0m\n",
            "\u001b[0;32m<ipython-input-5-124c430ec323>\u001b[0m in \u001b[0;36m__init__\u001b[0;34m(self)\u001b[0m\n\u001b[1;32m     12\u001b[0m   \u001b[0;32mdef\u001b[0m \u001b[0m__init__\u001b[0m\u001b[0;34m(\u001b[0m\u001b[0mself\u001b[0m\u001b[0;34m)\u001b[0m\u001b[0;34m:\u001b[0m\u001b[0;34m\u001b[0m\u001b[0;34m\u001b[0m\u001b[0m\n\u001b[1;32m     13\u001b[0m     \u001b[0mself\u001b[0m\u001b[0;34m.\u001b[0m\u001b[0memp\u001b[0m \u001b[0;34m=\u001b[0m \u001b[0;36m2000\u001b[0m\u001b[0;34m\u001b[0m\u001b[0;34m\u001b[0m\u001b[0m\n\u001b[0;32m---> 14\u001b[0;31m     \u001b[0mprint\u001b[0m\u001b[0;34m(\u001b[0m\u001b[0mf1\u001b[0m\u001b[0;34m.\u001b[0m\u001b[0m__rev\u001b[0m\u001b[0;34m)\u001b[0m\u001b[0;34m\u001b[0m\u001b[0;34m\u001b[0m\u001b[0m\n\u001b[0m\u001b[1;32m     15\u001b[0m \u001b[0;34m\u001b[0m\u001b[0m\n\u001b[1;32m     16\u001b[0m \u001b[0;34m\u001b[0m\u001b[0m\n",
            "\u001b[0;31mAttributeError\u001b[0m: 'finance' object has no attribute '_HR__rev'"
          ]
        }
      ]
    },
    {
      "cell_type": "code",
      "source": [
        "class finance:\n",
        "  def __init__(self):\n",
        "    self.__rev = 100000\n",
        "    self.sales = 100\n",
        "\n",
        "    def get_data(self):\n",
        "      print(self.__rev)\n",
        "\n",
        "f1 = finance()\n",
        "print(f1.__dict__)\n",
        "print(f1._finance__rev)\n",
        "f1.get\n",
        "\n",
        "'''class HR:\n",
        "  def __init__(self):\n",
        "    self.emp = 2000\n",
        "    #print(f1.__rev)\n",
        "\n",
        "\n",
        "h1 =HR()\n",
        "print(h1.__dict__)\n",
        "print(f1.__dict__)'''"
      ],
      "metadata": {
        "colab": {
          "base_uri": "https://localhost:8080/",
          "height": 70
        },
        "id": "mPBWDUz9OxpJ",
        "outputId": "7dac8afa-6002-4a35-a30e-f62122a93bc8"
      },
      "execution_count": null,
      "outputs": [
        {
          "output_type": "stream",
          "name": "stdout",
          "text": [
            "{'_finance__rev': 100000, 'sales': 100}\n",
            "100000\n"
          ]
        },
        {
          "output_type": "execute_result",
          "data": {
            "text/plain": [
              "'class HR:\\n  def __init__(self):\\n    self.emp = 2000\\n    #print(f1.__rev)\\n\\n\\nh1 =HR()\\nprint(h1.__dict__)\\nprint(f1.__dict__)'"
            ],
            "application/vnd.google.colaboratory.intrinsic+json": {
              "type": "string"
            }
          },
          "metadata": {},
          "execution_count": 8
        }
      ]
    },
    {
      "cell_type": "code",
      "source": [
        "#day 18 python\n",
        "\n",
        "class hotel:\n",
        "  def __init__(self, name, rating, price):\n",
        "    self.name = name\n",
        "    self.rating = rating\n",
        "    self.price = price\n",
        "  def __gt__(self, other):\n",
        "    if(self.price > other.price):\n",
        "      return True\n",
        "    else:\n",
        "      return False\n",
        "h1 = hotel('A', 3.5, 2000)\n",
        "h2 = hotel('B', 4.5, 5000)\n",
        "\n",
        "print(h1>h2)"
      ],
      "metadata": {
        "colab": {
          "base_uri": "https://localhost:8080/"
        },
        "id": "N4x-NjpbXQT8",
        "outputId": "c5f9e6da-29ed-476d-bf03-c0e9690a18b7"
      },
      "execution_count": null,
      "outputs": [
        {
          "output_type": "stream",
          "name": "stdout",
          "text": [
            "False\n"
          ]
        }
      ]
    },
    {
      "cell_type": "code",
      "source": [
        "#method overloading\n",
        "\n",
        "class addition:\n",
        "  def add(self, a, b):\n",
        "    print(a+b)\n",
        "  def add(self, a, b, c):\n",
        "    print(a+b+c)\n",
        "\n",
        "a1 = addition()\n",
        "a1.add(10, 5)  #since we have 3 variable in another object its giving overaloading\n",
        "\n",
        "\n"
      ],
      "metadata": {
        "colab": {
          "base_uri": "https://localhost:8080/",
          "height": 176
        },
        "id": "CxzDufgXllBN",
        "outputId": "3a2167a9-af02-4ee5-8977-fd0ba70adbd3"
      },
      "execution_count": null,
      "outputs": [
        {
          "output_type": "error",
          "ename": "TypeError",
          "evalue": "addition.add() missing 1 required positional argument: 'c'",
          "traceback": [
            "\u001b[0;31m---------------------------------------------------------------------------\u001b[0m",
            "\u001b[0;31mTypeError\u001b[0m                                 Traceback (most recent call last)",
            "\u001b[0;32m<ipython-input-6-b300d72d0571>\u001b[0m in \u001b[0;36m<cell line: 0>\u001b[0;34m()\u001b[0m\n\u001b[1;32m      8\u001b[0m \u001b[0;34m\u001b[0m\u001b[0m\n\u001b[1;32m      9\u001b[0m \u001b[0ma1\u001b[0m \u001b[0;34m=\u001b[0m \u001b[0maddition\u001b[0m\u001b[0;34m(\u001b[0m\u001b[0;34m)\u001b[0m\u001b[0;34m\u001b[0m\u001b[0;34m\u001b[0m\u001b[0m\n\u001b[0;32m---> 10\u001b[0;31m \u001b[0ma1\u001b[0m\u001b[0;34m.\u001b[0m\u001b[0madd\u001b[0m\u001b[0;34m(\u001b[0m\u001b[0;36m10\u001b[0m\u001b[0;34m,\u001b[0m \u001b[0;36m5\u001b[0m\u001b[0;34m)\u001b[0m\u001b[0;34m\u001b[0m\u001b[0;34m\u001b[0m\u001b[0m\n\u001b[0m",
            "\u001b[0;31mTypeError\u001b[0m: addition.add() missing 1 required positional argument: 'c'"
          ]
        }
      ]
    },
    {
      "cell_type": "code",
      "source": [
        "#method overloading handling\n",
        "\n",
        "#method overloading\n",
        "\n",
        "class addition:\n",
        "  def add(self, a=None, b=None, c= None):\n",
        "    if a!=None and b!=None and c!= None:\n",
        "      print(a+b+c)\n",
        "    elif a!=None and b!=None:\n",
        "      print(a+b)\n",
        "    else:\n",
        "      print(\"invalid\")\n",
        "\n",
        "a1 = addition()\n",
        "a1.add(a=None, b=5, c= 10)\n",
        "\n"
      ],
      "metadata": {
        "colab": {
          "base_uri": "https://localhost:8080/"
        },
        "id": "eMe42-JTmtCv",
        "outputId": "8baf8184-c299-4097-dd44-5d8d8248a6e8"
      },
      "execution_count": null,
      "outputs": [
        {
          "output_type": "stream",
          "name": "stdout",
          "text": [
            "invalid\n"
          ]
        }
      ]
    },
    {
      "cell_type": "code",
      "source": [
        "#destructor\n",
        "\n",
        "class emp:\n",
        "  def __init__(self, name, sal):\n",
        "    self.name = name\n",
        "    self.sal = sal\n",
        "  def display(self):\n",
        "    print(self.name, self.sal)\n",
        "  def __del__(self):\n",
        "    print(\"My destructor is called\")\n",
        "\n",
        "e1 = emp(\"Radha\", 20000)\n",
        "e1.display()\n",
        "\n",
        "del e1\n",
        "\n",
        "\n"
      ],
      "metadata": {
        "colab": {
          "base_uri": "https://localhost:8080/"
        },
        "id": "UgWRs69AqCyd",
        "outputId": "6f12d1a6-4b3e-4c48-8f80-29082f7a4708"
      },
      "execution_count": null,
      "outputs": [
        {
          "output_type": "stream",
          "name": "stdout",
          "text": [
            "Radha 20000\n",
            "My destructor is called\n"
          ]
        }
      ]
    },
    {
      "cell_type": "code",
      "source": [
        "#day 18 Python Intermediate\n",
        "\n",
        "#exception handling\n",
        "\n",
        "n1 =int(input('Enter first number: '))\n",
        "n2 = int(input('enter the 2nd number: '))\n",
        "\n",
        "try:\n",
        "  devide = n1/n2\n",
        "  print(dev)\n",
        "except ZeroDivisionError:\n",
        "  print('devide by zero is not possible')\n",
        "except NameError:\n",
        "  print(\"please chech the variable name which is causing defined error\")\n",
        "\n",
        "print(\"rest of the code\")\n"
      ],
      "metadata": {
        "colab": {
          "base_uri": "https://localhost:8080/"
        },
        "id": "_T5KBbtyfoRm",
        "outputId": "fb364727-733f-4a30-bb4a-bf56b24eafeb"
      },
      "execution_count": null,
      "outputs": [
        {
          "output_type": "stream",
          "name": "stdout",
          "text": [
            "Enter first number: 20\n",
            "enter the 2nd number: 10\n",
            "please chech the variable name which is causing defined error\n",
            "rest of the code\n"
          ]
        }
      ]
    },
    {
      "cell_type": "code",
      "source": [
        "# handling multiple exceptions one go\n",
        "\n",
        "n1 =int(input('Enter first number: '))\n",
        "n2 = int(input('enter the 2nd number: '))\n",
        "\n",
        "try:\n",
        "  devide = n1/n2\n",
        "  print(dev)\n",
        "except (ZeroDivisionError, NameError) as obj:\n",
        "  print(obj)\n",
        "\n",
        "\n",
        "print(\"rest of the code\")\n"
      ],
      "metadata": {
        "colab": {
          "base_uri": "https://localhost:8080/"
        },
        "id": "tVYkgKRLltwc",
        "outputId": "34508558-8eea-4c34-8df0-4fc41d6848ad"
      },
      "execution_count": null,
      "outputs": [
        {
          "output_type": "stream",
          "name": "stdout",
          "text": [
            "Enter first number: 20\n",
            "enter the 2nd number: 10\n",
            "name 'dev' is not defined\n",
            "rest of the code\n"
          ]
        }
      ]
    },
    {
      "cell_type": "code",
      "source": [
        "\n",
        "n1 =int(input('Enter first number: '))\n",
        "n2 = int(input('enter the 2nd number: '))\n",
        "\n",
        "try:\n",
        "  devide = n1/n2\n",
        "  print(dev)\n",
        "except:\n",
        "  print('Some exception thrown')\n",
        "\n",
        "print('rest of the code')"
      ],
      "metadata": {
        "id": "1Pf6wEYYnypz"
      },
      "execution_count": null,
      "outputs": []
    },
    {
      "cell_type": "code",
      "source": [
        "n1 =int(input('Enter first number: '))\n",
        "n2 = int(input('enter the 2nd number: '))\n",
        "\n",
        "try:\n",
        "  devide = n1/n2\n",
        "  print(devide)\n",
        "except:\n",
        "  print('Some exception thrown')\n",
        "else:\n",
        "  print('no exception')\n",
        "finally:\n",
        "  print('finally')\n",
        "\n",
        "print('rest of the code')"
      ],
      "metadata": {
        "colab": {
          "base_uri": "https://localhost:8080/"
        },
        "id": "dBoaYOOuorti",
        "outputId": "88a83651-c9e0-4fcd-c0ca-8730c3e152fd"
      },
      "execution_count": null,
      "outputs": [
        {
          "output_type": "stream",
          "name": "stdout",
          "text": [
            "Enter first number: 10\n",
            "enter the 2nd number: 2\n",
            "5.0\n",
            "no exception\n",
            "finally\n",
            "rest of the code\n"
          ]
        }
      ]
    },
    {
      "cell_type": "code",
      "source": [
        "n1 =int(input('Enter first number: '))\n",
        "n2 = int(input('enter the 2nd number: '))\n",
        "\n",
        "try:\n",
        "  devide = n1/n2\n",
        "  print(devide)\n",
        "except ZeroDivisionError as Var:\n",
        "  print(var) #here catching the exception assign to variable\n",
        "\n",
        "print('rest of the code')\n",
        "\n"
      ],
      "metadata": {
        "id": "Oc0Mr7RZpLYG"
      },
      "execution_count": null,
      "outputs": []
    },
    {
      "cell_type": "code",
      "source": [
        "n1 =int(input('Enter first number: '))\n",
        "n2 = int(input('enter the 2nd number: '))\n",
        "\n",
        "try:\n",
        "  devide = n1/n2\n",
        "  print(devid)\n",
        "except Exception as var: #it will catch all exception classes under the exception parent class\n",
        "  print(var)\n",
        "  print(var.__class__)\n",
        "  print(var.__doc__)\n",
        "  print(var.__str__())\n",
        "\n",
        "\n",
        "print('rest of the code')"
      ],
      "metadata": {
        "colab": {
          "base_uri": "https://localhost:8080/"
        },
        "id": "lmabMF6vpySV",
        "outputId": "de754e5a-c25e-4bde-b6b0-67029589ab0e"
      },
      "execution_count": null,
      "outputs": [
        {
          "output_type": "stream",
          "name": "stdout",
          "text": [
            "Enter first number: 10\n",
            "enter the 2nd number: 2\n",
            "name 'devid' is not defined\n",
            "<class 'NameError'>\n",
            "Name not found globally.\n",
            "name 'devid' is not defined\n",
            "rest of the code\n"
          ]
        }
      ]
    },
    {
      "cell_type": "code",
      "source": [
        "\n",
        "#using sys module\n",
        "import  sys\n",
        "n1 =int(input('Enter first number: '))\n",
        "n2 = int(input('enter the 2nd number: '))\n",
        "\n",
        "try:\n",
        "  devide = n1/n2\n",
        "  print(devid)\n",
        "except :\n",
        "  print(sys.exc_info()[0])\n",
        "  print(sys.exc_info()[1])"
      ],
      "metadata": {
        "colab": {
          "base_uri": "https://localhost:8080/"
        },
        "id": "HuFCyaggrrnr",
        "outputId": "3472491b-426c-4242-e349-52ce1c08ce44"
      },
      "execution_count": null,
      "outputs": [
        {
          "output_type": "stream",
          "name": "stdout",
          "text": [
            "Enter first number: 10\n",
            "enter the 2nd number: 2\n",
            "<class 'NameError'>\n",
            "name 'devid' is not defined\n"
          ]
        }
      ]
    },
    {
      "cell_type": "code",
      "source": [
        "\n",
        "#raise key word\n",
        "\n",
        "try :\n",
        "  age = int(input('enter your age: '))\n",
        "\n",
        "  if age < 0:\n",
        "    raise ValueError\n",
        "    print ('your age is ', age)\n",
        "except ValueError:\n",
        "  print('invalid age ')\n",
        "\n",
        "print('rest of the code')\n",
        "\n"
      ],
      "metadata": {
        "colab": {
          "base_uri": "https://localhost:8080/"
        },
        "id": "AQ1m41RztBwv",
        "outputId": "ea838401-2c04-48f1-89dd-a2fa8cb19ba1"
      },
      "execution_count": null,
      "outputs": [
        {
          "output_type": "stream",
          "name": "stdout",
          "text": [
            "enter your age: -10\n",
            "invalid age \n",
            "rest of the code\n"
          ]
        }
      ]
    },
    {
      "cell_type": "code",
      "source": [
        "try :\n",
        "  age = int(input('enter your age: '))\n",
        "\n",
        "  if age < 0:\n",
        "    raise ValueError('invalid age')\n",
        "    print ('your age is ', age)\n",
        "except ValueError as var:\n",
        "  print(var)\n",
        "\n",
        "print('rest of the code')\n"
      ],
      "metadata": {
        "colab": {
          "base_uri": "https://localhost:8080/"
        },
        "id": "nk28FH5tu4Fu",
        "outputId": "cbd5251b-5db9-4452-81bc-fa98f299366d"
      },
      "execution_count": null,
      "outputs": [
        {
          "output_type": "stream",
          "name": "stdout",
          "text": [
            "enter your age: -10\n",
            "invalid age\n",
            "rest of the code\n"
          ]
        }
      ]
    },
    {
      "cell_type": "code",
      "source": [
        "#user defined exception\n",
        "\n",
        "class FiveDivisionError(Exception): #this is usr defined function\n",
        "  pass\n",
        "\n",
        "try:\n",
        "  n1 = int(input('enter 1st no: '))\n",
        "  n2 = int(input('enter 2nd no: '))\n",
        "  if n2 ==5:\n",
        "    raise FiveDivisionError('cannot deivide by 5')\n",
        "  div = n1/n2\n",
        "  print('div is ', div)\n",
        "\n",
        "except FiveDivisionError as obj:\n",
        "  print(obj)\n",
        "\n",
        "print('rest of the code')"
      ],
      "metadata": {
        "colab": {
          "base_uri": "https://localhost:8080/"
        },
        "id": "5DR4Tj7_vS_3",
        "outputId": "b1fc1389-2710-4724-fa70-528d63e98a62"
      },
      "execution_count": null,
      "outputs": [
        {
          "output_type": "stream",
          "name": "stdout",
          "text": [
            "enter 1st no: 10\n",
            "enter 2nd no: 5\n",
            "cannot deivide by 5\n",
            "rest of the code\n"
          ]
        }
      ]
    },
    {
      "cell_type": "code",
      "source": [
        "class AgeError(Exception):\n",
        "  pass\n",
        "\n",
        "age = int(input('enter your age: '))\n",
        "print(age)\n",
        "try:\n",
        "  if age < 0:\n",
        "    raise AgeError('Age should be greater than 0')\n",
        "except AgeError as obj:\n",
        "  print(obj)\n",
        "\n",
        "print('rest of the code')\n",
        "\n"
      ],
      "metadata": {
        "colab": {
          "base_uri": "https://localhost:8080/"
        },
        "id": "ibQ0vVCkxCzS",
        "outputId": "760b2227-02f9-4a3b-c15f-beef6c67208c"
      },
      "execution_count": null,
      "outputs": [
        {
          "output_type": "stream",
          "name": "stdout",
          "text": [
            "enter your age: -10\n",
            "-10\n",
            "Age should be greater than 0\n",
            "rest of the code\n"
          ]
        }
      ]
    },
    {
      "cell_type": "code",
      "source": [
        "#ATM project\n",
        "class balanceException(Exception):\n",
        "  pass\n",
        "\n",
        "def withdraw():\n",
        "  savedPin = 2653\n",
        "  balance = 10000\n",
        "  pin = int(input('enter the pin: '))\n",
        "\n",
        "  if pin == savedPin:\n",
        "    try:\n",
        "      amt = int(input(\"Enter the amount to withdraw\"))\n",
        "      temp_balance = balance - amt\n",
        "      if temp_balance < 1000:\n",
        "        raise balanceException('balance cannot be lessthan 1000')\n",
        "      balance = balance - amt\n",
        "\n",
        "\n",
        "\n",
        "withdraw()"
      ],
      "metadata": {
        "id": "7i7jns9uypAz"
      },
      "execution_count": null,
      "outputs": []
    },
    {
      "cell_type": "code",
      "source": [
        "# ATM project\n",
        "import time\n",
        "class BalanceException(Exception):\n",
        "  pass\n",
        "class AttemptException(Exception):\n",
        "  pass\n",
        "attempt=1\n",
        "def withdraw():\n",
        "  global attempt\n",
        "  saved_pin=1234\n",
        "  balance = 10000\n",
        "\n",
        "  pin = int(input(\"enter the PIN\"))\n",
        "\n",
        "  if pin == saved_pin:\n",
        "    try:\n",
        "      amt = int(input(\"enter the amt to withdraw\"))\n",
        "      temp_bal = balance- amt\n",
        "      if temp_bal < 1000:\n",
        "        raise BalanceException(\"balance cannot be less than 1000\")\n",
        "      balance = balance- amt\n",
        "      print(\"remaining balance is \", balance)\n",
        "\n",
        "    except BalanceException as var:\n",
        "      print(var)\n",
        "\n",
        "  else:\n",
        "    print(\"invalid pin\")\n",
        "    ans = input(\"do u want to continue again (y/n)\")\n",
        "    if ans == \"y\":\n",
        "      attempt = attempt + 1\n",
        "      try:\n",
        "        if attempt == 4:\n",
        "          raise AttemptException(\" too mant attempts , your account is blocked for 3 hours\")\n",
        "\n",
        "      except AttemptException as var:\n",
        "        print(var)\n",
        "        time.sleep(3600)\n",
        "      else:\n",
        "        withdraw()\n",
        "    else:\n",
        "        print('bye!!')"
      ],
      "metadata": {
        "id": "nDt1iSJn4E3p"
      },
      "execution_count": null,
      "outputs": []
    },
    {
      "cell_type": "code",
      "source": [
        "#Bank project\n",
        "\n",
        "class Bank:\n",
        "  bankname= \"Indian bank\"\n",
        "  branch = \"Bellandur , Blr\"\n",
        "\n",
        "  #create account\n",
        "  def __init__(self , username , pan, address):\n",
        "    self.username = username\n",
        "    self.pan = pan\n",
        "    self.address = address\n",
        "    self.balance = 0\n",
        "    print(\"account created succesfully\")\n",
        "\n",
        "  def withdraw(self, amt):\n",
        "    if amt< self.balance:\n",
        "      self.balance = self.balance - amt\n",
        "      print(\"remaining balance is \", self.balance)\n",
        "    else:\n",
        "      print(\"insufficient balance\")\n",
        "\n",
        "  def deposit(self, amt):\n",
        "    self.balance = self.balance + amt\n",
        "    print(\"amount deposited successfully\")\n",
        "\n",
        "  def balance_check(self):\n",
        "    print(\"your balance is \", self.balance)\n",
        "\n",
        "\n",
        "# collect user data for account creation\n",
        "\n",
        "\n",
        "username = input(\"enter your name\")\n",
        "pan= input(\"enter ur pan no\")\n",
        "address = input(\"enter ur address\")\n",
        "\n",
        "b = Bank(username, pan, address)\n",
        "\n",
        "\n",
        "while True:\n",
        "   print(\"1. Deposit , 2.withdraw 3.balacecheck 4.quit\")\n",
        "   option = int(input(\"enter ur option\"))\n",
        "\n",
        "   if option ==1:\n",
        "    amt = int(input(\"enter the amount to deposit\"))\n",
        "    b.deposit(amt)\n",
        "\n",
        "   elif option == 2:\n",
        "    amt = int(input(\"enter the amount to withdraw\"))\n",
        "    b.withdraw(amt)\n",
        "\n",
        "   elif option == 3:\n",
        "    b.balance_check()\n",
        "\n",
        "   elif option == 4:\n",
        "    break\n",
        "\n",
        "   else:\n",
        "    print(\"invalid option\")"
      ],
      "metadata": {
        "id": "bvfSLosTJRPD",
        "outputId": "4882c9ea-dfb9-4b13-80e1-952090ca9404",
        "colab": {
          "base_uri": "https://localhost:8080/",
          "height": 315
        }
      },
      "execution_count": null,
      "outputs": [
        {
          "name": "stdout",
          "output_type": "stream",
          "text": [
            "enter your nameHari\n",
            "enter ur pan noabc2345\n",
            "enter ur addressa cross, b colony\n",
            "account created succesfully\n",
            "1. Deposit , 2.withdraw 3.balacecheck 4.quit\n",
            "enter ur optionwithdraw\n"
          ]
        },
        {
          "output_type": "error",
          "ename": "ValueError",
          "evalue": "invalid literal for int() with base 10: 'withdraw'",
          "traceback": [
            "\u001b[0;31m---------------------------------------------------------------------------\u001b[0m",
            "\u001b[0;31mValueError\u001b[0m                                Traceback (most recent call last)",
            "\u001b[0;32m<ipython-input-1-8225ab2cb2b2>\u001b[0m in \u001b[0;36m<cell line: 0>\u001b[0;34m()\u001b[0m\n\u001b[1;32m     40\u001b[0m \u001b[0;32mwhile\u001b[0m \u001b[0;32mTrue\u001b[0m\u001b[0;34m:\u001b[0m\u001b[0;34m\u001b[0m\u001b[0;34m\u001b[0m\u001b[0m\n\u001b[1;32m     41\u001b[0m    \u001b[0mprint\u001b[0m\u001b[0;34m(\u001b[0m\u001b[0;34m\"1. Deposit , 2.withdraw 3.balacecheck 4.quit\"\u001b[0m\u001b[0;34m)\u001b[0m\u001b[0;34m\u001b[0m\u001b[0;34m\u001b[0m\u001b[0m\n\u001b[0;32m---> 42\u001b[0;31m    \u001b[0moption\u001b[0m \u001b[0;34m=\u001b[0m \u001b[0mint\u001b[0m\u001b[0;34m(\u001b[0m\u001b[0minput\u001b[0m\u001b[0;34m(\u001b[0m\u001b[0;34m\"enter ur option\"\u001b[0m\u001b[0;34m)\u001b[0m\u001b[0;34m)\u001b[0m\u001b[0;34m\u001b[0m\u001b[0;34m\u001b[0m\u001b[0m\n\u001b[0m\u001b[1;32m     43\u001b[0m \u001b[0;34m\u001b[0m\u001b[0m\n\u001b[1;32m     44\u001b[0m    \u001b[0;32mif\u001b[0m \u001b[0moption\u001b[0m \u001b[0;34m==\u001b[0m\u001b[0;36m1\u001b[0m\u001b[0;34m:\u001b[0m\u001b[0;34m\u001b[0m\u001b[0;34m\u001b[0m\u001b[0m\n",
            "\u001b[0;31mValueError\u001b[0m: invalid literal for int() with base 10: 'withdraw'"
          ]
        }
      ]
    },
    {
      "cell_type": "code",
      "source": [
        "dict = {}\n",
        "dict['1'] =(1,2)\n",
        "dict['2']  =(2,1)\n",
        "for x in dict.keys():\n",
        "  print(dict[x][1], end='')"
      ],
      "metadata": {
        "id": "FSSc8ffkWXDF",
        "outputId": "b90cbf96-13e2-4091-ce39-105b533fc99f",
        "colab": {
          "base_uri": "https://localhost:8080/"
        }
      },
      "execution_count": null,
      "outputs": [
        {
          "output_type": "stream",
          "name": "stdout",
          "text": [
            "21"
          ]
        }
      ]
    },
    {
      "cell_type": "code",
      "source": [
        "a"
      ],
      "metadata": {
        "id": "YNOYO3ZoXFn0"
      },
      "execution_count": null,
      "outputs": []
    },
    {
      "cell_type": "code",
      "source": [
        "print(list('hello'))"
      ],
      "metadata": {
        "id": "9kt4Je8sW91_",
        "outputId": "6f750376-647a-4577-8891-fc6109e77567",
        "colab": {
          "base_uri": "https://localhost:8080/"
        }
      },
      "execution_count": null,
      "outputs": [
        {
          "output_type": "stream",
          "name": "stdout",
          "text": [
            "['h', 'e', 'l', 'l', 'o']\n"
          ]
        }
      ]
    },
    {
      "cell_type": "code",
      "source": [
        "d ={}\n",
        "d[1] =1\n",
        "d['1'] = 2\n",
        "d[1] += 1\n",
        "\n",
        "for x in d:\n",
        "  sum += d[1]\n",
        "\n",
        "  print(sum)"
      ],
      "metadata": {
        "id": "McSJZM_tXTh2",
        "outputId": "9c29f1f5-05d6-4472-c494-8d6f87badc09",
        "colab": {
          "base_uri": "https://localhost:8080/",
          "height": 211
        }
      },
      "execution_count": null,
      "outputs": [
        {
          "output_type": "error",
          "ename": "TypeError",
          "evalue": "unsupported operand type(s) for +=: 'builtin_function_or_method' and 'int'",
          "traceback": [
            "\u001b[0;31m---------------------------------------------------------------------------\u001b[0m",
            "\u001b[0;31mTypeError\u001b[0m                                 Traceback (most recent call last)",
            "\u001b[0;32m<ipython-input-5-baa9f5470897>\u001b[0m in \u001b[0;36m<cell line: 0>\u001b[0;34m()\u001b[0m\n\u001b[1;32m      5\u001b[0m \u001b[0;34m\u001b[0m\u001b[0m\n\u001b[1;32m      6\u001b[0m \u001b[0;32mfor\u001b[0m \u001b[0mx\u001b[0m \u001b[0;32min\u001b[0m \u001b[0md\u001b[0m\u001b[0;34m:\u001b[0m\u001b[0;34m\u001b[0m\u001b[0;34m\u001b[0m\u001b[0m\n\u001b[0;32m----> 7\u001b[0;31m   \u001b[0msum\u001b[0m \u001b[0;34m+=\u001b[0m \u001b[0md\u001b[0m\u001b[0;34m[\u001b[0m\u001b[0;36m1\u001b[0m\u001b[0;34m]\u001b[0m\u001b[0;34m\u001b[0m\u001b[0;34m\u001b[0m\u001b[0m\n\u001b[0m\u001b[1;32m      8\u001b[0m \u001b[0;34m\u001b[0m\u001b[0m\n\u001b[1;32m      9\u001b[0m   \u001b[0mprint\u001b[0m\u001b[0;34m(\u001b[0m\u001b[0msum\u001b[0m\u001b[0;34m)\u001b[0m\u001b[0;34m\u001b[0m\u001b[0;34m\u001b[0m\u001b[0m\n",
            "\u001b[0;31mTypeError\u001b[0m: unsupported operand type(s) for +=: 'builtin_function_or_method' and 'int'"
          ]
        }
      ]
    },
    {
      "cell_type": "code",
      "source": [
        "tup = (1, ) + (1, )\n",
        "tup = tup + tup\n",
        "print(len(tup))\n"
      ],
      "metadata": {
        "id": "GlFWFBQdZhOC",
        "outputId": "90bfdf4c-34f4-459b-fff4-23edeb85c786",
        "colab": {
          "base_uri": "https://localhost:8080/"
        }
      },
      "execution_count": null,
      "outputs": [
        {
          "output_type": "stream",
          "name": "stdout",
          "text": [
            "4\n"
          ]
        }
      ]
    },
    {
      "cell_type": "code",
      "source": [
        "2 **3 **2 **1\n",
        "\n",
        "\n",
        "print('''python's class's are \"best\"''')"
      ],
      "metadata": {
        "id": "0eOj1V3IZyMQ",
        "colab": {
          "base_uri": "https://localhost:8080/"
        },
        "outputId": "abdf43b6-debe-4225-d158-1fceb765893d"
      },
      "execution_count": null,
      "outputs": [
        {
          "output_type": "stream",
          "name": "stdout",
          "text": [
            "python's class's are \"best\"\n"
          ]
        }
      ]
    },
    {
      "cell_type": "code",
      "source": [
        "i = 250\n",
        "while len(str(i)) >72:\n",
        "  i *=2\n",
        "else:\n",
        "  i //= 2\n",
        "print(i)"
      ],
      "metadata": {
        "colab": {
          "base_uri": "https://localhost:8080/"
        },
        "id": "hsLgxyBmwwKO",
        "outputId": "68b6589e-ecfd-4527-90d3-a40cc74276a0"
      },
      "execution_count": null,
      "outputs": [
        {
          "output_type": "stream",
          "name": "stdout",
          "text": [
            "125\n"
          ]
        }
      ]
    },
    {
      "cell_type": "code",
      "source": [
        "n = 0\n",
        "while n <4:\n",
        "  n +=1\n",
        "  print(n, end=\" \")"
      ],
      "metadata": {
        "id": "EtYYnjIuxtFh",
        "outputId": "bd91642a-192d-4610-8ceb-7bd1c685bc0d",
        "colab": {
          "base_uri": "https://localhost:8080/"
        }
      },
      "execution_count": null,
      "outputs": [
        {
          "output_type": "stream",
          "name": "stdout",
          "text": [
            "1 2 3 4 "
          ]
        }
      ]
    },
    {
      "cell_type": "code",
      "source": [],
      "metadata": {
        "id": "2tJASih_2SAq"
      },
      "execution_count": null,
      "outputs": []
    },
    {
      "cell_type": "code",
      "source": [
        "n = \"Hello, Python!\"\n",
        "m = \"20\"\n",
        "\n",
        "print(n[-14:15])"
      ],
      "metadata": {
        "id": "PvvHhC681bPL",
        "outputId": "1fc8ffbe-aebb-4af5-c9f7-afd4d4330f51",
        "colab": {
          "base_uri": "https://localhost:8080/"
        }
      },
      "execution_count": null,
      "outputs": [
        {
          "output_type": "stream",
          "name": "stdout",
          "text": [
            "Hello, Python!\n"
          ]
        }
      ]
    },
    {
      "cell_type": "code",
      "source": [
        "n = {'A':1, 'B':2, 'c':3}\n",
        "for item in n.items():\n",
        "  print(item)"
      ],
      "metadata": {
        "id": "vxl1yKRq3PjJ",
        "outputId": "b4ee5148-5cf9-4bbe-9174-7052930eaea4",
        "colab": {
          "base_uri": "https://localhost:8080/"
        }
      },
      "execution_count": null,
      "outputs": [
        {
          "output_type": "stream",
          "name": "stdout",
          "text": [
            "('A', 1)\n",
            "('B', 2)\n",
            "('c', 3)\n"
          ]
        }
      ]
    }
  ]
}