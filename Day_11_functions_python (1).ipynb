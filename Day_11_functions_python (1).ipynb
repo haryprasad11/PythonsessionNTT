{
  "nbformat": 4,
  "nbformat_minor": 0,
  "metadata": {
    "colab": {
      "provenance": []
    },
    "kernelspec": {
      "name": "python3",
      "display_name": "Python 3"
    },
    "language_info": {
      "name": "python"
    }
  },
  "cells": [
    {
      "cell_type": "code",
      "execution_count": null,
      "metadata": {
        "colab": {
          "base_uri": "https://localhost:8080/"
        },
        "id": "LynczderHEfx",
        "outputId": "341612f5-47fa-4176-cb7a-3453d0392be7"
      },
      "outputs": [
        {
          "output_type": "stream",
          "name": "stdout",
          "text": [
            "Hello World\n"
          ]
        }
      ],
      "source": [
        "print(\"Hello World\")"
      ]
    },
    {
      "cell_type": "code",
      "source": [],
      "metadata": {
        "id": "BiWBFSkcZeq6"
      },
      "execution_count": null,
      "outputs": []
    },
    {
      "cell_type": "code",
      "source": [
        "# simple function\n",
        "\n",
        "def fun():\n",
        "  print(\"Hello world\")\n",
        "  print(\"welcome\")\n",
        "\n",
        "\n",
        "print(\"before function call\")\n",
        "fun()\n",
        "print(\"after function call\")\n"
      ],
      "metadata": {
        "colab": {
          "base_uri": "https://localhost:8080/"
        },
        "id": "MBh5kn9LVoyV",
        "outputId": "c5399244-906f-4bf2-f30c-c35c031d4b7e"
      },
      "execution_count": null,
      "outputs": [
        {
          "output_type": "stream",
          "name": "stdout",
          "text": [
            "before function call\n",
            "Hello world\n",
            "welcome\n",
            "None\n",
            "after function call\n"
          ]
        }
      ]
    },
    {
      "cell_type": "code",
      "source": [
        "#day 12 Machine learning 12052025\n",
        "\n"
      ],
      "metadata": {
        "id": "6lK2ahtf722c"
      },
      "execution_count": null,
      "outputs": []
    },
    {
      "cell_type": "code",
      "source": [
        "# program to print the square of no\n",
        "# without arguments , without return values\n",
        "def square():\n",
        "  x = int(input(\"enetr a no\"))\n",
        "  y = x**2\n",
        "  print(\"square of\",x,\"is\",y)\n",
        "\n",
        "square()"
      ],
      "metadata": {
        "colab": {
          "base_uri": "https://localhost:8080/"
        },
        "id": "FAsNwlxOZCHV",
        "outputId": "039b1946-db69-4ea5-c866-c72c8998e867"
      },
      "execution_count": null,
      "outputs": [
        {
          "output_type": "stream",
          "name": "stdout",
          "text": [
            "enetr a no5\n",
            "square of 5 is 25\n"
          ]
        }
      ]
    },
    {
      "cell_type": "code",
      "source": [
        " #with arguments , with return values\n",
        "\n",
        "def square(x):\n",
        "    #y = x**2\n",
        "    return x**2\n",
        "\n",
        "\n",
        "x = int(input(\"enetr a no\"))\n",
        "res = square(x)\n",
        "print(res)"
      ],
      "metadata": {
        "colab": {
          "base_uri": "https://localhost:8080/"
        },
        "id": "oUubBp9vdJIB",
        "outputId": "118c15c8-446f-409a-b108-71227645ef18"
      },
      "execution_count": null,
      "outputs": [
        {
          "output_type": "stream",
          "name": "stdout",
          "text": [
            "enetr a no6\n",
            "36\n"
          ]
        }
      ]
    },
    {
      "cell_type": "code",
      "source": [
        "#with arguments , without return values\n",
        "def square(x):\n",
        "  y = x**2\n",
        "  print(\"square of\",x,\"is\",y)\n",
        "\n",
        "\n",
        "x = int(input(\"enetr a no\"))\n",
        "square(x)\n"
      ],
      "metadata": {
        "colab": {
          "base_uri": "https://localhost:8080/"
        },
        "id": "_ukEx8_3d04P",
        "outputId": "eb9b9b20-cc06-4108-b65b-2360c4348d50"
      },
      "execution_count": null,
      "outputs": [
        {
          "output_type": "stream",
          "name": "stdout",
          "text": [
            "enetr a no6\n",
            "square of 6 is 36\n"
          ]
        }
      ]
    },
    {
      "cell_type": "code",
      "source": [
        "#without args , with return values\n",
        "\n",
        "def square():\n",
        "  x = int(input(\"enetr a no\"))\n",
        "  y = x**2\n",
        "  return y\n",
        "\n",
        "res = square()\n",
        "print(res)"
      ],
      "metadata": {
        "colab": {
          "base_uri": "https://localhost:8080/"
        },
        "id": "yeQplsX5d58J",
        "outputId": "a4840aa7-6bdc-4170-edfa-3b1cf01c6b34"
      },
      "execution_count": null,
      "outputs": [
        {
          "output_type": "stream",
          "name": "stdout",
          "text": [
            "enetr a no4\n",
            "16\n"
          ]
        }
      ]
    },
    {
      "cell_type": "code",
      "source": [
        "# return statement\n",
        "\n",
        "\n",
        "def test(a,b,c,d):\n",
        "\n",
        "  return a,b,c,d\n",
        "\n",
        "x,y = test(10,20,30,40)[1:3]\n",
        "\n",
        "print(x,y)\n",
        "print(type(x))"
      ],
      "metadata": {
        "colab": {
          "base_uri": "https://localhost:8080/"
        },
        "id": "lMgOlMr3fJNG",
        "outputId": "0baa0164-f90c-4bbb-d021-b4962425f9ff"
      },
      "execution_count": null,
      "outputs": [
        {
          "output_type": "stream",
          "name": "stdout",
          "text": [
            "20 30\n",
            "<class 'int'>\n"
          ]
        }
      ]
    },
    {
      "cell_type": "code",
      "source": [
        "# return\n",
        "\n",
        "def test1():\n",
        "  l1 = [10,20,30,40]\n",
        "  t1 = (60,70,80)\n",
        "  return l1,t1\n",
        "\n",
        "x = test1()\n",
        "print(x)\n",
        "print(type(x))\n",
        "\n"
      ],
      "metadata": {
        "colab": {
          "base_uri": "https://localhost:8080/"
        },
        "id": "zF54_Kotg7g8",
        "outputId": "69605a9d-cd9d-4e16-8242-80fa0396a06f"
      },
      "execution_count": null,
      "outputs": [
        {
          "output_type": "stream",
          "name": "stdout",
          "text": [
            "([10, 20, 30, 40], (60, 70, 80))\n",
            "<class 'tuple'>\n"
          ]
        }
      ]
    },
    {
      "cell_type": "code",
      "source": [
        "def func1(a,b,c,d):\n",
        "  return a,b,c,d\n",
        "\n",
        " = func1(10,20,30,40)\n",
        "print(a,a)\n"
      ],
      "metadata": {
        "colab": {
          "base_uri": "https://localhost:8080/"
        },
        "id": "RczUuvbMkRci",
        "outputId": "1c323995-826d-4cb9-9d55-77631e314ecd"
      },
      "execution_count": null,
      "outputs": [
        {
          "output_type": "stream",
          "name": "stdout",
          "text": [
            "20 20\n"
          ]
        }
      ]
    },
    {
      "cell_type": "code",
      "source": [
        "_ = 10\n",
        "print(_)"
      ],
      "metadata": {
        "colab": {
          "base_uri": "https://localhost:8080/"
        },
        "id": "0IKhUOXFmomZ",
        "outputId": "32321e57-b87b-451f-9b1d-14ce475413a4"
      },
      "execution_count": null,
      "outputs": [
        {
          "output_type": "stream",
          "name": "stdout",
          "text": [
            "10\n"
          ]
        }
      ]
    },
    {
      "cell_type": "code",
      "source": [
        "#day 12 Machine learning 12052025"
      ],
      "metadata": {
        "id": "BfwjeGpZ8SNV"
      },
      "execution_count": null,
      "outputs": []
    },
    {
      "cell_type": "code",
      "source": [
        "#function calling another function\n",
        "def test1():\n",
        "  print(\"iam include test1\")\n",
        "  test2() #function call\n",
        "  print(\"iam back to test1\")\n",
        "\n",
        "def test2():\n",
        "    print(\"iam in test2\")\n",
        "    print(\"going back\")\n",
        "\n",
        "test1()  #function call"
      ],
      "metadata": {
        "colab": {
          "base_uri": "https://localhost:8080/"
        },
        "id": "2K4MnQxX8YyY",
        "outputId": "cad30fa2-012c-47d2-8a4d-110b0ed34401"
      },
      "execution_count": null,
      "outputs": [
        {
          "output_type": "stream",
          "name": "stdout",
          "text": [
            "iam include test1\n",
            "iam in test2\n",
            "going back\n",
            "iam back to test1\n"
          ]
        }
      ]
    },
    {
      "cell_type": "code",
      "source": [
        "#local variable variables defined inside the functions andd used orfunction is calledlocalvariables for its function\n",
        "\n",
        "def test():\n",
        "  x =10\n",
        "  x= x+1\n",
        "  print(x)\n",
        "\n",
        "test()\n",
        "test()\n",
        "test()"
      ],
      "metadata": {
        "colab": {
          "base_uri": "https://localhost:8080/"
        },
        "id": "pY83lu-MCDb7",
        "outputId": "c1337c11-370b-44c7-bf23-e10c18f05040"
      },
      "execution_count": null,
      "outputs": [
        {
          "output_type": "stream",
          "name": "stdout",
          "text": [
            "11\n",
            "11\n",
            "11\n"
          ]
        }
      ]
    },
    {
      "cell_type": "code",
      "source": [
        "#scopeof local variable (scope of the x is only with in the function)\n",
        "\n",
        "def test():\n",
        "  x =10\n",
        "  x= x+1\n",
        "  print(x)\n",
        "\n",
        "test()\n",
        "test()\n",
        "test()\n",
        "\n",
        "print(x)"
      ],
      "metadata": {
        "colab": {
          "base_uri": "https://localhost:8080/",
          "height": 228
        },
        "id": "l4wwIHXgDtpg",
        "outputId": "f0035fea-07e4-4e56-cd88-88f1fff285d0"
      },
      "execution_count": null,
      "outputs": [
        {
          "output_type": "stream",
          "name": "stdout",
          "text": [
            "11\n",
            "11\n",
            "11\n"
          ]
        },
        {
          "output_type": "error",
          "ename": "NameError",
          "evalue": "name 'x' is not defined",
          "traceback": [
            "\u001b[0;31m---------------------------------------------------------------------------\u001b[0m",
            "\u001b[0;31mNameError\u001b[0m                                 Traceback (most recent call last)",
            "\u001b[0;32m<ipython-input-11-ed7654063c36>\u001b[0m in \u001b[0;36m<cell line: 0>\u001b[0;34m()\u001b[0m\n\u001b[1;32m     10\u001b[0m \u001b[0mtest\u001b[0m\u001b[0;34m(\u001b[0m\u001b[0;34m)\u001b[0m\u001b[0;34m\u001b[0m\u001b[0;34m\u001b[0m\u001b[0m\n\u001b[1;32m     11\u001b[0m \u001b[0;34m\u001b[0m\u001b[0m\n\u001b[0;32m---> 12\u001b[0;31m \u001b[0mprint\u001b[0m\u001b[0;34m(\u001b[0m\u001b[0mx\u001b[0m\u001b[0;34m)\u001b[0m\u001b[0;34m\u001b[0m\u001b[0;34m\u001b[0m\u001b[0m\n\u001b[0m",
            "\u001b[0;31mNameError\u001b[0m: name 'x' is not defined"
          ]
        }
      ]
    },
    {
      "cell_type": "code",
      "source": [
        "#global variable (not bound to any of the function, defines outside of the function)\n",
        "\n",
        "n = 10\n",
        "def fun():\n",
        "  print(n)\n",
        "\n",
        "fun()\n",
        "print(n)"
      ],
      "metadata": {
        "colab": {
          "base_uri": "https://localhost:8080/"
        },
        "id": "vKkFZOKEELTg",
        "outputId": "d65b2bb3-0902-4673-ba3b-b34def386275"
      },
      "execution_count": null,
      "outputs": [
        {
          "output_type": "stream",
          "name": "stdout",
          "text": [
            "10\n",
            "10\n"
          ]
        }
      ]
    },
    {
      "cell_type": "code",
      "source": [
        "#combination of local and global\n",
        "n = 10\n",
        "def fun():\n",
        "  n = 5 # local variable to the function (heighest priority)\n",
        "  print(n)\n",
        "\n",
        "fun()\n",
        "print(n)"
      ],
      "metadata": {
        "colab": {
          "base_uri": "https://localhost:8080/"
        },
        "id": "PoT_Q5OoEqT7",
        "outputId": "4458ca30-f729-4796-8f24-e73b77972f69"
      },
      "execution_count": null,
      "outputs": [
        {
          "output_type": "stream",
          "name": "stdout",
          "text": [
            "5\n",
            "10\n"
          ]
        }
      ]
    },
    {
      "cell_type": "code",
      "source": [
        "#global variables can be accessed insidefunction , however it cannot be modified\n",
        "n = 10\n",
        "def fun():\n",
        "  n = n+1\n",
        "  print(n)\n",
        "\n",
        "fun()\n",
        "print(n)"
      ],
      "metadata": {
        "colab": {
          "base_uri": "https://localhost:8080/",
          "height": 332
        },
        "id": "O8yz0FtJFGl3",
        "outputId": "742a26ed-f678-469f-cad3-f603f545a389"
      },
      "execution_count": null,
      "outputs": [
        {
          "output_type": "error",
          "ename": "UnboundLocalError",
          "evalue": "cannot access local variable 'n' where it is not associated with a value",
          "traceback": [
            "\u001b[0;31m---------------------------------------------------------------------------\u001b[0m",
            "\u001b[0;31mUnboundLocalError\u001b[0m                         Traceback (most recent call last)",
            "\u001b[0;32m<ipython-input-14-334205773730>\u001b[0m in \u001b[0;36m<cell line: 0>\u001b[0;34m()\u001b[0m\n\u001b[1;32m      4\u001b[0m   \u001b[0mprint\u001b[0m\u001b[0;34m(\u001b[0m\u001b[0mn\u001b[0m\u001b[0;34m)\u001b[0m\u001b[0;34m\u001b[0m\u001b[0;34m\u001b[0m\u001b[0m\n\u001b[1;32m      5\u001b[0m \u001b[0;34m\u001b[0m\u001b[0m\n\u001b[0;32m----> 6\u001b[0;31m \u001b[0mfun\u001b[0m\u001b[0;34m(\u001b[0m\u001b[0;34m)\u001b[0m\u001b[0;34m\u001b[0m\u001b[0;34m\u001b[0m\u001b[0m\n\u001b[0m\u001b[1;32m      7\u001b[0m \u001b[0mprint\u001b[0m\u001b[0;34m(\u001b[0m\u001b[0mn\u001b[0m\u001b[0;34m)\u001b[0m\u001b[0;34m\u001b[0m\u001b[0;34m\u001b[0m\u001b[0m\n",
            "\u001b[0;32m<ipython-input-14-334205773730>\u001b[0m in \u001b[0;36mfun\u001b[0;34m()\u001b[0m\n\u001b[1;32m      1\u001b[0m \u001b[0mn\u001b[0m \u001b[0;34m=\u001b[0m \u001b[0;36m10\u001b[0m\u001b[0;34m\u001b[0m\u001b[0;34m\u001b[0m\u001b[0m\n\u001b[1;32m      2\u001b[0m \u001b[0;32mdef\u001b[0m \u001b[0mfun\u001b[0m\u001b[0;34m(\u001b[0m\u001b[0;34m)\u001b[0m\u001b[0;34m:\u001b[0m\u001b[0;34m\u001b[0m\u001b[0;34m\u001b[0m\u001b[0m\n\u001b[0;32m----> 3\u001b[0;31m   \u001b[0mn\u001b[0m \u001b[0;34m=\u001b[0m \u001b[0mn\u001b[0m\u001b[0;34m+\u001b[0m\u001b[0;36m1\u001b[0m\u001b[0;34m\u001b[0m\u001b[0;34m\u001b[0m\u001b[0m\n\u001b[0m\u001b[1;32m      4\u001b[0m   \u001b[0mprint\u001b[0m\u001b[0;34m(\u001b[0m\u001b[0mn\u001b[0m\u001b[0;34m)\u001b[0m\u001b[0;34m\u001b[0m\u001b[0;34m\u001b[0m\u001b[0m\n\u001b[1;32m      5\u001b[0m \u001b[0;34m\u001b[0m\u001b[0m\n",
            "\u001b[0;31mUnboundLocalError\u001b[0m: cannot access local variable 'n' where it is not associated with a value"
          ]
        }
      ]
    },
    {
      "cell_type": "code",
      "source": [
        "#global variables can be accessed insidefunction , however it cannot be modified\n",
        "#if we need to modify the global variable inside function use the global keyword before variable inside function\n",
        "n = 10\n",
        "def fun():\n",
        "  global n #global keyword to modify global variables\n",
        "  n = n+1\n",
        "  print(n)\n",
        "\n",
        "fun()\n",
        "print(n)\n"
      ],
      "metadata": {
        "colab": {
          "base_uri": "https://localhost:8080/"
        },
        "id": "yAbQwZhkFl5p",
        "outputId": "db635010-4187-4e03-be95-c0ee4474dfe2"
      },
      "execution_count": null,
      "outputs": [
        {
          "output_type": "stream",
          "name": "stdout",
          "text": [
            "11\n",
            "11\n"
          ]
        }
      ]
    },
    {
      "cell_type": "code",
      "source": [
        "n = 10\n",
        "def fun():\n",
        "  global n #global keyword to modify global variables\n",
        "  n = n+1\n",
        "  print(n)\n",
        "def test():\n",
        "  global n\n",
        "  n= n+1\n",
        "  print(n)\n",
        "fun()\n",
        "test()\n",
        "print(n)\n"
      ],
      "metadata": {
        "colab": {
          "base_uri": "https://localhost:8080/"
        },
        "id": "jHKCK-bUGg3D",
        "outputId": "ce133332-739d-4c54-c60d-b568f8be932e"
      },
      "execution_count": null,
      "outputs": [
        {
          "output_type": "stream",
          "name": "stdout",
          "text": [
            "11\n",
            "12\n",
            "12\n"
          ]
        }
      ]
    },
    {
      "cell_type": "code",
      "source": [
        "n=10\n",
        "def fun():\n",
        "  global n #global keyword to modify global variables\n",
        "  n = n+1\n",
        "  print(n)\n",
        "  test()\n",
        "\n",
        "def test():\n",
        "  global n\n",
        "  n= n+1\n",
        "  print(n)\n",
        "fun()\n",
        "test()\n",
        "print(n)\n"
      ],
      "metadata": {
        "colab": {
          "base_uri": "https://localhost:8080/"
        },
        "id": "T3EnaQylGxcD",
        "outputId": "33ea64b0-0e11-46ef-cd3f-734ea72f54b7"
      },
      "execution_count": null,
      "outputs": [
        {
          "output_type": "stream",
          "name": "stdout",
          "text": [
            "11\n",
            "12\n",
            "13\n",
            "13\n"
          ]
        }
      ]
    },
    {
      "cell_type": "code",
      "source": [
        "#function is an Object\n",
        "def test():\n",
        "  print(\"hello world\")\n",
        "\n",
        "i =10\n",
        "print(type(i))\n",
        "\n",
        "print(type(test))\n",
        "print(test)\n",
        "#we can create aliases for function"
      ],
      "metadata": {
        "colab": {
          "base_uri": "https://localhost:8080/"
        },
        "id": "RmlkxVhoHim9",
        "outputId": "5be0b745-2234-4bfc-ce99-a91cbd5f6196"
      },
      "execution_count": null,
      "outputs": [
        {
          "output_type": "stream",
          "name": "stdout",
          "text": [
            "<class 'int'>\n",
            "<class 'function'>\n",
            "<function test at 0x7c337d9a1260>\n"
          ]
        }
      ]
    },
    {
      "cell_type": "code",
      "source": [
        "def multiplier_factory(factor):\n",
        "\n",
        "  def multiplier(number):\n",
        "\n",
        "    return number * factor\n",
        "\n",
        "  # Return the nested function\n",
        "  return multiplier  # returning the inner function\n",
        "\n",
        "# Create a function that multiplies by 5\n",
        "multiply_by_5 = multiplier_factory(5)\n",
        "\n",
        "# Create a function that multiplies by 10\n",
        "multiply_by_10 = multiplier_factory(10)\n",
        "\n",
        "# Use the created functions\n",
        "result1 = multiply_by_5(8)\n",
        "result2 = multiply_by_10(4)\n",
        "\n",
        "print(f\"8 multiplied by 5 is: {result1}\")  # Output: 8 multiplied by 5 is: 40\n",
        "print(f\"4 multiplied by 10 is: {result2}\") # Output: 4 multiplied by 10 is: 40"
      ],
      "metadata": {
        "colab": {
          "base_uri": "https://localhost:8080/"
        },
        "id": "8ANlQ-73KVVA",
        "outputId": "2292cf74-2b3a-482c-f186-a43fbf3cdbff"
      },
      "execution_count": null,
      "outputs": [
        {
          "output_type": "stream",
          "name": "stdout",
          "text": [
            "8 multiplied by 5 is: 40\n",
            "4 multiplied by 10 is: 40\n"
          ]
        }
      ]
    },
    {
      "cell_type": "code",
      "source": [
        "#alias name for function\n",
        "\n",
        "def test1():\n",
        "  print(\"hello\")\n",
        "\n",
        "a = test1 #assigining alias name\n",
        "a() #calling function with alias name"
      ],
      "metadata": {
        "colab": {
          "base_uri": "https://localhost:8080/"
        },
        "id": "_22kEkNRKcHz",
        "outputId": "6d4e219d-0ccd-4a6c-d162-6c14bedfd1d6"
      },
      "execution_count": null,
      "outputs": [
        {
          "output_type": "stream",
          "name": "stdout",
          "text": [
            "hello\n"
          ]
        }
      ]
    },
    {
      "cell_type": "code",
      "source": [
        "#positional aruguments or required args\n",
        "def test(name, age, city):\n",
        "  print(\"my name is \", name, \"and my age is \", age, \"and iam from\", city)\n",
        "\n",
        "test('ram', 20, 'delhi')"
      ],
      "metadata": {
        "colab": {
          "base_uri": "https://localhost:8080/"
        },
        "id": "eDTPrOC8L1ME",
        "outputId": "ad8979bc-bce6-4ea5-a338-b8bb90cb4e33"
      },
      "execution_count": null,
      "outputs": [
        {
          "output_type": "stream",
          "name": "stdout",
          "text": [
            "my name is  ram and my age is  20 and iam from delhi\n"
          ]
        }
      ]
    },
    {
      "cell_type": "code",
      "source": [
        "#keyword arguments\n",
        "\n",
        "def test(name, age, city):\n",
        "  print(\"my name is \", name, \"and my age is \", age, \"and iam from\", city)\n",
        "\n",
        "test(name ='ram', age = 20, city ='delhi')\n",
        "\n",
        "\n",
        "def test(name, age, city):\n",
        "  print(\"my name is \", name, \"and my age is \", age, \"and iam from\", city)\n",
        "\n",
        "test( age = 20, city ='delhi', name ='ram')\n",
        "\n",
        "\n"
      ],
      "metadata": {
        "colab": {
          "base_uri": "https://localhost:8080/"
        },
        "id": "EF60_M21Mk3d",
        "outputId": "8aa5d80c-bdf3-4e89-ac9d-df780ccd886a"
      },
      "execution_count": null,
      "outputs": [
        {
          "output_type": "stream",
          "name": "stdout",
          "text": [
            "my name is  ram and my age is  20 and iam from delhi\n",
            "my name is  ram and my age is  20 and iam from delhi\n"
          ]
        }
      ]
    },
    {
      "cell_type": "code",
      "source": [
        "#keyword arguments and positional arguments\n",
        "\n",
        "def test(name, age, city):\n",
        "  print(\"my name is \", name, \"and my age is \", age, \"and iam from\", city)\n",
        "\n",
        "test('ram', 20, city ='delhi')\n",
        "\n",
        "def test(name, age, city):\n",
        "  print(\"my name is \", name, \"and my age is \", age, \"and iam from\", city)\n",
        "\n",
        "test(20, 'ram',city ='delhi')\n",
        "\n",
        "def test(name, age, city):\n",
        "  print(\"my name is \", name, \"and my age is \", age, \"and iam from\", city)\n",
        "\n",
        "test(city ='delhi',20,'ram') #cannot give keyword arg first , we need to fix the positional args\n",
        "#positional argument follows keyword argument\n",
        "test('ram', 25, city = 'Delhi')"
      ],
      "metadata": {
        "colab": {
          "base_uri": "https://localhost:8080/",
          "height": 124
        },
        "id": "YQA9uWFuNALg",
        "outputId": "fbb18351-a303-4ea8-abc3-a495e3c920f6"
      },
      "execution_count": null,
      "outputs": [
        {
          "output_type": "error",
          "ename": "SyntaxError",
          "evalue": "positional argument follows keyword argument (<ipython-input-44-55f6d81a32f7>, line 16)",
          "traceback": [
            "\u001b[0;36m  File \u001b[0;32m\"<ipython-input-44-55f6d81a32f7>\"\u001b[0;36m, line \u001b[0;32m16\u001b[0m\n\u001b[0;31m    test(city ='delhi',20,'ram',) #cannot give keyword arg first , we need to fix the positional args\u001b[0m\n\u001b[0m                                ^\u001b[0m\n\u001b[0;31mSyntaxError\u001b[0m\u001b[0;31m:\u001b[0m positional argument follows keyword argument\n"
          ]
        }
      ]
    },
    {
      "cell_type": "code",
      "source": [
        "#default arguments\n",
        "\n",
        "def power(num, p=2): #here p is default argument defined in function\n",
        "  print(num**p)\n",
        "\n",
        "power(5)\n"
      ],
      "metadata": {
        "colab": {
          "base_uri": "https://localhost:8080/"
        },
        "id": "ZTPbJy9CPn71",
        "outputId": "60165a08-94f4-4166-8f23-c1f25eabb96e"
      },
      "execution_count": null,
      "outputs": [
        {
          "output_type": "stream",
          "name": "stdout",
          "text": [
            "25\n"
          ]
        }
      ]
    },
    {
      "cell_type": "code",
      "source": [
        "#default arguments\n",
        "\n",
        "def student(name, age, m1, m2,m3, college=\"UVCE\"):\n",
        "  print(name, age, m1, m2, m3, college)\n",
        "\n",
        "student('suresh', 20, 90,80,30)\n",
        "student('hari', 21, 100, 91, 45)\n",
        "student(\"Giri\", 22, 45,55,64, \"ssec\") #if values passed it will override the existing values and take new value\n",
        "\n",
        "\n"
      ],
      "metadata": {
        "colab": {
          "base_uri": "https://localhost:8080/"
        },
        "id": "j3982HAwQFMk",
        "outputId": "d41c672b-f735-467c-8bfd-38404832d66c"
      },
      "execution_count": null,
      "outputs": [
        {
          "output_type": "stream",
          "name": "stdout",
          "text": [
            "suresh 20 90 80 30 UVCE\n",
            "hari 21 100 91 45 UVCE\n",
            "Giri 22 45 55 64 ssec\n"
          ]
        }
      ]
    },
    {
      "cell_type": "code",
      "source": [
        "#positional args --->Keyword args -----> Default args\n",
        "def student(name, age, m1, m2,m3, college=\"UVCE\"):\n",
        "  print(name, age, m1, m2, m3, college)\n",
        "\n",
        "student('suresh', 20, m1= 90,m2=80,m3=30)\n",
        "#student('hari', 21, 100, 91, 45)\n",
        "student(\"Giri\", 22, 45,55,64, \"ssec\")\n",
        "\n",
        "\n"
      ],
      "metadata": {
        "colab": {
          "base_uri": "https://localhost:8080/"
        },
        "id": "fa8HY0GARHm-",
        "outputId": "df19eb10-42c8-4eed-860c-3d244094cf3e"
      },
      "execution_count": null,
      "outputs": [
        {
          "output_type": "stream",
          "name": "stdout",
          "text": [
            "suresh 20 90 80 30 UVCE\n",
            "Giri 22 45 55 64 ssec\n"
          ]
        }
      ]
    },
    {
      "cell_type": "code",
      "source": [
        "#variable length arguments\n",
        "def add(*a):\n",
        "  print(a)\n",
        "  print(type(a))\n",
        "\n",
        "add(1,2)\n",
        "add(1,2,3)\n",
        "add(1,2,3,4)"
      ],
      "metadata": {
        "colab": {
          "base_uri": "https://localhost:8080/"
        },
        "id": "nRpYDlrKSNn0",
        "outputId": "6f4bbe37-428e-434b-a0d5-a362353792d6"
      },
      "execution_count": null,
      "outputs": [
        {
          "output_type": "stream",
          "name": "stdout",
          "text": [
            "(1, 2)\n",
            "<class 'tuple'>\n",
            "(1, 2, 3)\n",
            "<class 'tuple'>\n",
            "(1, 2, 3, 4)\n",
            "<class 'tuple'>\n"
          ]
        }
      ]
    },
    {
      "cell_type": "code",
      "source": [
        "#variable length arguments\n",
        "def sum(*a):\n",
        "  #print(a)\n",
        "  s=0\n",
        "  for i in a:\n",
        "    s=s+1\n",
        "    print(type(s))\n",
        "    print(s)\n",
        "\n",
        "sum(1,2)#position arguments variable values are packed as Tuple\n",
        "sum(1,2,3)\n",
        "sum(1,2,3,4)"
      ],
      "metadata": {
        "colab": {
          "base_uri": "https://localhost:8080/"
        },
        "id": "vru3C7IgTsmO",
        "outputId": "4ce36839-c130-4ce3-c30f-9383717a6e33"
      },
      "execution_count": null,
      "outputs": [
        {
          "output_type": "stream",
          "name": "stdout",
          "text": [
            "<class 'int'>\n",
            "1\n",
            "<class 'int'>\n",
            "2\n",
            "<class 'int'>\n",
            "1\n",
            "<class 'int'>\n",
            "2\n",
            "<class 'int'>\n",
            "3\n",
            "<class 'int'>\n",
            "1\n",
            "<class 'int'>\n",
            "2\n",
            "<class 'int'>\n",
            "3\n",
            "<class 'int'>\n",
            "4\n"
          ]
        }
      ]
    },
    {
      "cell_type": "code",
      "source": [
        "#variable length keyword args\n",
        "\n",
        "def addition(**a):\n",
        "  s=0\n",
        "  for n in a.values():\n",
        "    s=s+n\n",
        "  print(s)\n",
        "\n",
        "addition(a=10, b=20)\n",
        "addition(a= 22, b=33, c=44) #values are packed as a dictionary\n",
        "#in variables keyword variable values are  packed as dictionary"
      ],
      "metadata": {
        "colab": {
          "base_uri": "https://localhost:8080/"
        },
        "id": "OYNFUJpSUcnN",
        "outputId": "4c28cafa-bd57-409c-f357-afcfbcae9df0"
      },
      "execution_count": null,
      "outputs": [
        {
          "output_type": "stream",
          "name": "stdout",
          "text": [
            "30\n",
            "99\n"
          ]
        }
      ]
    },
    {
      "cell_type": "code",
      "source": [
        "#day 14 Intermediate python Functions 14052025\n",
        "\n",
        "#variable length positional args and variable length keyword args\n",
        "\n",
        "def fun(*a, b, c, d=100):\n",
        "    sum = 0\n",
        "    mul = 0\n",
        "    for i in a:\n",
        "        sum = sum + i\n",
        "    mul = b * c\n",
        "    return sum, mul, d\n",
        "\n",
        "fun(1,2,3,4,5, b = 6, c = 7)\n",
        "\n",
        "#mixing multiple\n"
      ],
      "metadata": {
        "id": "TwFT0TheP4Dc",
        "outputId": "8fa00899-ef9b-4a04-c7ce-e4705310d1b8",
        "colab": {
          "base_uri": "https://localhost:8080/"
        }
      },
      "execution_count": null,
      "outputs": [
        {
          "output_type": "execute_result",
          "data": {
            "text/plain": [
              "(15, 42, 100)"
            ]
          },
          "metadata": {},
          "execution_count": 1
        }
      ]
    },
    {
      "cell_type": "code",
      "source": [
        "#mixing\n",
        "\n",
        "def student(name,class_student,*parents_Name,age,School ='UVCE',**Marks):\n",
        "  print(\"Stu name \", name)\n",
        "  print(\"class \", class_student)\n",
        "  print('Parents ', parents_Name)\n",
        "  print('age ', age)\n",
        "  print('marks ', Marks)\n",
        "  print('School ', School)\n",
        "\n",
        "student('hari',10, 'A', 'B' , age = 15, m1=10, m2=35, m3= 65)\n",
        "\n",
        "\n",
        "'''function declaration:\n",
        "1. Positional Arguments\n",
        "2. Variable length positinal args\n",
        "3. keyword args\n",
        "4. default args\n",
        "5. variable length keyword args\n",
        "'''\n",
        "\n"
      ],
      "metadata": {
        "id": "YzIkNxhOYbkr",
        "outputId": "3bffa05e-1a39-4e30-db30-fe40131b1282",
        "colab": {
          "base_uri": "https://localhost:8080/",
          "height": 157
        }
      },
      "execution_count": null,
      "outputs": [
        {
          "output_type": "stream",
          "name": "stdout",
          "text": [
            "Stu name  hari\n",
            "class  10\n",
            "Parents  ('A', 'B')\n",
            "age  15\n",
            "marks  {'m1': 10, 'm2': 35, 'm3': 65}\n",
            "School  UVCE\n"
          ]
        },
        {
          "output_type": "execute_result",
          "data": {
            "text/plain": [
              "'function declaration:\\n1. Positional Arguments\\n2. Variable length positinal args\\n3. keyword args\\n4. default args\\n5. variable length keyword args\\n'"
            ],
            "application/vnd.google.colaboratory.intrinsic+json": {
              "type": "string"
            }
          },
          "metadata": {},
          "execution_count": 2
        }
      ]
    },
    {
      "cell_type": "code",
      "source": [
        "#normal functions will written using the keyword 'def' used in situataions to run lines of instructoins\n",
        "\n",
        "#lambda functions can be used to call single line of version and there is no function call (Anonymous)\n",
        "#it cannot contain multiple\n",
        "\n",
        "#Syntax variable = lambda list of variables: expression\n",
        "\n",
        "ans = lambda x,y:x*y\n",
        "print(\"multiply\", ans(4,5))\n",
        "\n",
        "#lambda function return single value\n",
        "var = lambda x,y,z:x+y+z\n",
        "print(var(4,5,6))"
      ],
      "metadata": {
        "id": "HBJNsmsZa8gd",
        "outputId": "32676dc9-76d9-4138-8774-a95f55ffd2b5",
        "colab": {
          "base_uri": "https://localhost:8080/"
        }
      },
      "execution_count": null,
      "outputs": [
        {
          "output_type": "stream",
          "name": "stdout",
          "text": [
            "multiply 20\n"
          ]
        }
      ]
    },
    {
      "cell_type": "code",
      "source": [
        "#this will get error like this\n",
        "'''add = lambda x,y: x+y, x-y\n",
        "print(add(10,20)) '''\n",
        "\n",
        "#should need to bundle the expression\n",
        "add = lambda x,y: (x+y, x-y)\n",
        "print(add(10,20))\n",
        "print(type(add(10,20)))\n",
        "\n",
        "#to return List , tuple and other type we need to simulate the expression (), [], {}\n",
        "\n",
        "add = lambda x,y: [x+y, x-y]\n",
        "print(add(10,20))\n",
        "print(type(add(10,20)))\n",
        "\n",
        "add = lambda x,y: {x+y, x-y}\n",
        "print(add(10,20))\n",
        "print(type(add(10,20)))\n"
      ],
      "metadata": {
        "id": "DKq-9LBlcoiH",
        "outputId": "edaa1833-73a0-4eec-fe38-ada0cd41b7c8",
        "colab": {
          "base_uri": "https://localhost:8080/"
        }
      },
      "execution_count": null,
      "outputs": [
        {
          "output_type": "stream",
          "name": "stdout",
          "text": [
            "(30, -10)\n",
            "<class 'tuple'>\n",
            "[30, -10]\n",
            "<class 'list'>\n",
            "{30, -10}\n",
            "<class 'set'>\n"
          ]
        }
      ]
    },
    {
      "cell_type": "code",
      "source": [
        "#lambda function with the default args\n",
        "\n",
        "add = lambda x, y=10: x+y\n",
        "print(add(10))\n",
        "\n",
        "#lambda function with keyword\n",
        "\n",
        "add = lambda x,y: x+y\n",
        "print(add(x=10, y=20))\n",
        "\n",
        "#lambda with variable length code\n",
        "\n",
        "add = lambda *x: sum(x)\n",
        "print(add(1,2,3,4,5,67))\n",
        "\n"
      ],
      "metadata": {
        "id": "vjvX-HhGdJKb"
      },
      "execution_count": null,
      "outputs": []
    },
    {
      "cell_type": "code",
      "source": [
        "#lambda function used to return area of\n",
        "\n",
        "area = lambda r:3.14*r*r\n",
        "print(area(10))"
      ],
      "metadata": {
        "id": "1YkN4GP7eppy",
        "outputId": "ddf9ced0-8309-488e-9a8b-37c9401d9fc1",
        "colab": {
          "base_uri": "https://localhost:8080/"
        }
      },
      "execution_count": null,
      "outputs": [
        {
          "output_type": "stream",
          "name": "stdout",
          "text": [
            "314.0\n"
          ]
        }
      ]
    },
    {
      "cell_type": "code",
      "source": [
        "#Python OOPs concepts\n",
        "\n",
        "#class and objects\n",
        "\n",
        "class claculator:\n",
        "  n1 = 0\n",
        "  n2 =0\n",
        "  res =0\n",
        "  def __init__(self, n1,n2):\n",
        "    self.n1=0\n",
        "    self.n2 = 0\n",
        "    self.res = 0\n",
        "    def add(self, n1,n2):\n",
        "      pass\n",
        "    def sub(self, n1,n2)\n",
        "      pass\n",
        "\n",
        "obj1 = claculator(10,20) #obj1 creation\n",
        "obj2 =  claculator(30, 40 )#obj2 creation\n",
        "\n",
        "obj1.add()\n",
        "obj2.sub()\n",
        "\n"
      ],
      "metadata": {
        "id": "g1Y_XmE6e3Wo"
      },
      "execution_count": null,
      "outputs": []
    },
    {
      "cell_type": "code",
      "source": [
        "#day 15 Intermediate Python OOPS\n",
        "class sample:\n",
        "  def __init__(self):\n",
        "    self.data=10\n",
        "  def input_data(self):\n",
        "    self.data= input(\"enter some text\")\n",
        "  def process_data(self):\n",
        "    self.data= self.data.upper()\n",
        "  def output_data(self):\n",
        "    print(self.data)\n",
        "\n",
        "#object creation  (constructor this will call implicitly call init method)\n",
        "obj1 = sample()\n",
        "obj2 = sample()\n",
        "obj3 = sample()\n",
        "\n",
        "obj1.input_data()\n",
        "obj1.process_data()\n",
        "obj1.output_data()\n",
        "\n",
        "\n",
        "obj2.input_data()\n",
        "obj2.process_data()\n",
        "obj2.output_data()\n"
      ],
      "metadata": {
        "colab": {
          "base_uri": "https://localhost:8080/"
        },
        "id": "OGgg2zGxjvHH",
        "outputId": "bd6d427c-1b5f-4c2a-a749-4a3ce7810b6e"
      },
      "execution_count": 1,
      "outputs": [
        {
          "output_type": "stream",
          "name": "stdout",
          "text": [
            "enter some textNTT\n",
            "NTT\n",
            "enter some textKochin\n",
            "KOCHIN\n"
          ]
        }
      ]
    },
    {
      "cell_type": "code",
      "source": [
        "class calc:\n",
        "\n",
        "  def __init__(self):\n",
        "    self.a = 0\n",
        "    self.b =0\n",
        "    self.result =0\n",
        "  def input_data(self):\n",
        "    self.a = int(input(\"Enter A Value: \"))\n",
        "    self.b = int(input(\"Enter B vaue: \"))\n",
        "  def add(self):\n",
        "    self.result = self.a + self.b\n",
        "    print(self.result)\n",
        "  def sub(self):\n",
        "    self.result = self.a -self.b\n",
        "    print( self.result)\n",
        "  def mul(self):\n",
        "    self.result = self.a * self.b\n",
        "    print(self.result)\n",
        "  def compare(self, other):\n",
        "    if self.result == other.result:\n",
        "      return True\n",
        "    else:\n",
        "      return False\n",
        "\n",
        "objj1 = calc()\n",
        "objj1.input_data()\n",
        "objj1.add()\n",
        "objj1.sub()\n",
        "objj1.mul()\n",
        "\n",
        "obj2 = calc()\n",
        "obj2.input_data()\n",
        "obj2.add()\n",
        "obj2.sub()\n",
        "obj2.mul()\n",
        "\n",
        "\n",
        "objj1.compare(obj2)\n",
        "\n",
        "\n"
      ],
      "metadata": {
        "colab": {
          "base_uri": "https://localhost:8080/"
        },
        "id": "Q-g52OTRo6jE",
        "outputId": "24ddbd95-83d1-459a-e3bf-f3ff5e28dc9c"
      },
      "execution_count": 13,
      "outputs": [
        {
          "output_type": "stream",
          "name": "stdout",
          "text": [
            "Enter A Value: 10\n",
            "Enter B vaue: 30\n",
            "40\n",
            "-20\n",
            "300\n",
            "Enter A Value: 30\n",
            "Enter B vaue: 40\n",
            "70\n",
            "-10\n",
            "1200\n"
          ]
        },
        {
          "output_type": "execute_result",
          "data": {
            "text/plain": [
              "False"
            ]
          },
          "metadata": {},
          "execution_count": 13
        }
      ]
    },
    {
      "cell_type": "code",
      "source": [
        "class student_average:\n",
        "  def __init__(self):\n",
        "    self.StuName =\"\"\n",
        "    self.Age =0\n",
        "    self.m1 = 0\n",
        "    self.m3 =0\n",
        "    self.avg =0\n",
        "  def get_data(self):\n",
        "    self.StuName = input(\"Enter Student Name: \")\n",
        "    self.Age = int(input(\"Enter Student Age: \"))\n",
        "    self.m1 = int(input(\"Enter Student M1 marks: \"))\n",
        "    self.m2 =int(input(\"Enter student M2 marks: \"))\n",
        "    self.m3 = int(input(\"Enter Student M3 marks: \"))\n",
        "\n",
        "  def cal_Avg(self):\n",
        "    self.avg = (self.m1+self.m2+self.m3)/3\n",
        "    print(self.avg)\n",
        "  def student(self):\n",
        "    print(self.StuName, self.Age, self.avg)\n",
        "\n",
        "s1 = student_average()\n",
        "s1.get_data()\n",
        "s1.cal_Avg()\n",
        "s1.student()\n",
        "\n",
        "s2= student_average()\n",
        "s2.get_data()\n",
        "s2.cal_Avg()\n",
        "s2.student()"
      ],
      "metadata": {
        "id": "lVNsqUvPt4KG",
        "outputId": "0e91c506-94f3-4b8d-f248-27db4962bde2",
        "colab": {
          "base_uri": "https://localhost:8080/"
        }
      },
      "execution_count": 15,
      "outputs": [
        {
          "output_type": "stream",
          "name": "stdout",
          "text": [
            "Enter Student Name: Hari\n",
            "Enter Student Age: 25\n",
            "Enter Student M1 marks: 79\n",
            "Enter student M2 marks: 85\n",
            "Enter Student M3 marks: 98\n",
            "87.33333333333333\n",
            "Hari 25 87.33333333333333\n",
            "Enter Student Name: giri\n",
            "Enter Student Age: 28\n",
            "Enter Student M1 marks: 98\n",
            "Enter student M2 marks: 100\n",
            "Enter Student M3 marks: 100\n",
            "99.33333333333333\n",
            "giri 28 99.33333333333333\n"
          ]
        }
      ]
    },
    {
      "cell_type": "code",
      "source": [
        "#parametarized constructor\n",
        "\n",
        "class test:\n",
        "\n",
        "  def __init__(self, aa, bb):\n",
        "    self.a =aa\n",
        "    self.b = bb\n",
        "  def outputdata(self):\n",
        "    print(self.a,self.b)\n",
        "\n",
        "t1 = test(10,20)  #here we are passing values in the object constructor\n",
        "t1.outputdata()\n",
        "\n",
        "t2 = test('Hari', 'Giri')\n",
        "t2.outputdata()\n"
      ],
      "metadata": {
        "id": "vM43x3EK1itT",
        "outputId": "dc18c093-d5c7-461f-f5d8-c66005af147a",
        "colab": {
          "base_uri": "https://localhost:8080/"
        }
      },
      "execution_count": 18,
      "outputs": [
        {
          "output_type": "stream",
          "name": "stdout",
          "text": [
            "10 20\n",
            "Hari Giri\n"
          ]
        }
      ]
    },
    {
      "cell_type": "code",
      "source": [],
      "metadata": {
        "id": "gusK1GYH2vrL"
      },
      "execution_count": null,
      "outputs": []
    }
  ]
}